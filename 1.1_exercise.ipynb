{
 "cells": [
  {
   "cell_type": "markdown",
   "metadata": {},
   "source": [
    "Convention: $0$ means the zero element in a field. $\\mathit{0}$ means the zero vector in a vector space."
   ]
  },
  {
   "cell_type": "markdown",
   "metadata": {},
   "source": [
    "## 1. Let $V$ be a vector space. Using the properties of VS 1 through VS 8, show that if $c$ is a number, then $c \\mathit{0} = \\mathit{0}$."
   ]
  },
  {
   "cell_type": "markdown",
   "metadata": {},
   "source": [
    "### Proof\n",
    "\n",
    "$$\n",
    "\\begin{array}{l}\n",
    "c \\mathit{0} &= \\mathit{0} \\\\\n",
    "&= c (\\mathit{0} + \\mathit{0}) &\\text{VS 2} \\\\\n",
    "&= c \\mathit{0} + c \\mathit{0} &\\text{VS 5} \\\\\n",
    "c \\mathit{0} + (- (c \\mathit{0})) &= (c \\mathit{0} + c \\mathit{0}) + (- (c \\mathit{0})) \\\\\n",
    "\\underbrace{\\mathit{0}}_{\\text{VS 3}} &= \\underbrace{c \\mathit{0} + (c \\mathit{0} + (- (c \\mathit{0})))}_{\\text{VS 1}} \\\\\n",
    "\\mathit{0} &= c \\mathit{0} + \\underbrace{\\mathit{0}}_{\\text{VS 3}} \\\\\n",
    "\\mathit{0} &= \\underbrace{c \\mathit{0}}_{\\text{VS 2}} \\\\\n",
    "c \\mathit{0} &= \\mathit{0}\n",
    "\\end{array}\n",
    "$$ Q.E.D."
   ]
  },
  {
   "cell_type": "markdown",
   "metadata": {},
   "source": [
    "## 2. Let $c$ be a number $\\neq 0$, and $v$ an element of $V$. Prove that if $c v = \\mathit{0}$, then $v = \\mathit{0}$."
   ]
  },
  {
   "cell_type": "markdown",
   "metadata": {},
   "source": [
    "### Proof\n",
    "\n",
    "$$\n",
    "\\begin{array}{l}\n",
    "c v &= \\mathit{0} \\\\\n",
    "c v + \\mathit{0} &= \\mathit{0} &\\text{VS 2} \\\\\n",
    "c v + c v &= \\mathit{0} \\\\\n",
    "\\underbrace{c (v + v)}_{\\text{VS 5}} &= \\mathit{0} \\\\\n",
    "\\underbrace{c^{-1}}_{\\text{exists in the field as $c \\neq 0$}} (c (v + v)) &= c^{-1} \\mathit{0} \\\\\n",
    "\\underbrace{(c^{-1} c) (v + v)}_{\\text{VS 7}} &= \\underbrace{\\mathit{0}}_{\\text{conclusion of ex 1}} \\\\\n",
    "1 (v + v) &= \\mathit{0} \\\\\n",
    "\\underbrace{v + v}_{\\text{VS 8}} &= \\mathit{0} \\\\\n",
    "(- v) + (v + v) &= (- v) + \\mathit{0} \\\\\n",
    "\\underbrace{((- v) + v) + v}_{\\text{VS 1}} &= \\underbrace{\\mathit{0}}_{\\text{VS 2}} \\\\\n",
    "\\underbrace{(v + (- v))}_{\\text{VS 4}} + v &= \\underbrace{\\mathit{0}}_{\\text{VS 2}} \\\\\n",
    "\\underbrace{\\mathit{0}}_{\\text{VS 3}} + v &= \\mathit{0} \\\\\n",
    "\\underbrace{v}_{\\text{VS 2}} &= \\mathit{0} \\\\\n",
    "\\end{array}\n",
    "$$ Q.E.D."
   ]
  },
  {
   "cell_type": "markdown",
   "metadata": {},
   "source": [
    "## 3. In the vector space of functions, what is the function satisfying VS 2?"
   ]
  },
  {
   "cell_type": "markdown",
   "metadata": {},
   "source": [
    "### Solution\n",
    "\n",
    "Let's denote the vector space of functions $f: S \\to K$ as $V$, where $K$ is a field.\n",
    "\n",
    "Let's denote the zero element of $K$ as $0$.\n",
    "\n",
    "Let's denote the zero vector of $V$ as $\\mathit{0}$.\n",
    "\n",
    "Let's define function $\\mathit{0} \\in V$, such that \n",
    "$$\\mathit{0}(x) = 0$$\n",
    "\n",
    "For $f \\in V$, we have $$\n",
    "\\begin{array}{l}\n",
    "(\\mathit{0} + f) (x) &= \\mathit{0}(x) + f(x) &\\text{Definition of addition in space of functions} \\\\\n",
    "&= 0 + f(x) \\\\\n",
    "&= f(x) + 0 &\\text{Associativity of field $K$} \\\\\n",
    "&= f(x) + \\mathit{0}(x) \\\\\n",
    "&= (f + \\mathit{0}) (x)\n",
    "\\end{array}\n",
    "$$. Hence VS 2 is satisfied."
   ]
  },
  {
   "cell_type": "markdown",
   "metadata": {},
   "source": [
    "### 4. Let $V$ be a vector space, and $v, w$ two elements of $V$. If $v + w = \\mathit{0}$, show that $w = - v$."
   ]
  },
  {
   "cell_type": "markdown",
   "metadata": {},
   "source": [
    "### Proof\n",
    "\n",
    "$$\n",
    "\\begin{array}{l}\n",
    "v + w &= \\mathit{0} \\\\\n",
    "(- v) + (v + w) &= (- v) + \\mathit{0} \\\\\n",
    "\\underbrace{(- v + v) + w}_{\\text{VS 1}} &= \\underbrace{- v}_{\\text{VS 2}} \\\\\n",
    "\\underbrace{(v + (- v))}_{\\text{VS 4}} + w &= \\underbrace{- v}_{\\text{VS 2}} \\\\\n",
    "\\underbrace{\\mathit{0}}_{\\text{VS 3}} + w &= - v \\\\\n",
    "\\underbrace{w}_{\\text{VS 2}} &= - v\n",
    "\\end{array}\n",
    "$$ Q.E.D."
   ]
  },
  {
   "cell_type": "markdown",
   "metadata": {},
   "source": [
    "## 5. Let $V$ be a vector space, and $v, w$ two elements of $V$ such that $v + w = v$. Show that $w = 0$."
   ]
  },
  {
   "cell_type": "markdown",
   "metadata": {},
   "source": [
    "### Proof\n",
    "\n",
    "$$\n",
    "\\begin{array}{l}\n",
    "v + w &= v \\\\\n",
    "(- v) + (v + w) &= (- v) + v \\\\\n",
    "\\underbrace{((- v) + v) + w}_{\\text{VS 1}} &= \\underbrace{v + (- v)}_{\\text{VS 4}} \\\\\n",
    "(\\underbrace{(v + (- v)}_{\\text{VS 4}}) + w &= \\underbrace{\\mathit{0}}_{\\text{VS 3}} \\\\\n",
    "\\underbrace{\\mathit{0}}_{\\text{VS 3}} + w &= \\mathit{0} \\\\\n",
    "\\underbrace{w}_{\\text{VS 2}} &= \\mathit{0}\n",
    "\\end{array}\n",
    "$$ Q.E.D."
   ]
  },
  {
   "cell_type": "markdown",
   "metadata": {},
   "source": [
    "## 6. Let $A_1, A_2$ be vectors in $R^n$. Show that the set of all vectors $B$ in $R^n$ such that $B$ is perpendicular to both $A_1$ and $A_2$ is a subspace."
   ]
  },
  {
   "cell_type": "markdown",
   "metadata": {},
   "source": [
    "### Proof\n",
    "\n",
    "Let's define $V$ such that $V \\subseteq R^n$, and each of its element is perpendicular to both $A_1$ and $A_2$.\n",
    "\n",
    "By the definition of subspaces, to prove $V$ is a subspace of $R^n$, we need to prove\n",
    "\n",
    "- (i) For $B_1, B_2 \\in V$, $B_1 + B_2 \\in V$ also holds.\n",
    "- (ii) For $c \\in R$ and $B \\in V$, $c B \\in V$ also holds.\n",
    "- (iii) Let $\\mathit{0}$ be the zero vector of $R^n$ ($\\mathit{0} = (\\underbrace{0, ..., 0}_{n})$). $\\mathit{0} \\in V$ also holds.\n",
    "\n",
    "To prove (i):\n",
    "\n",
    "Let $B_1, B_2 \\in V$. Since $B_1, B_2$ are perpendicular to both $A_1$ and $A_2$, we have\n",
    "$$\n",
    "\\begin{array}{l}\n",
    "A_1 \\cdot (B_1 + B_2) &= \\underbrace{A_1 \\cdot B_1 + A_1 \\cdot B_2}_{\\text{$A_1, B_1, B_2 \\in R^n$, $R$ is a field, so SP 2 holds}} \\\\\n",
    "&= \\underbrace{0}_{\\text{$B_1$ is perpendicular to $A_1$}} + \\underbrace{0}_{\\text{$B_2$ is perpendicular to $A_1$}} \\\\\n",
    "&= \\underbrace{0}_{\\text{Additive identity of $R$}}\n",
    "\\end{array} \n",
    "$$ Hence $B_1 + B_2$ is perpendicular to $A_1$.\n",
    "\n",
    "Similarly, we can prove $B_1 + B_2$ is perpendicular to $A_2$.\n",
    "\n",
    "Hence (i) is satisfied.\n",
    "\n",
    "To prove (ii):\n",
    "\n",
    "Let $B \\in V$, and $c \\in R$. Then we have\n",
    "$$\n",
    "\\begin{array}{l}\n",
    "A_1 \\cdot (c B) &= c(A_1 \\cdot B) &\\text{SP 3} \\\\\n",
    "&= c \\underbrace{0}_{\\text{$B$ is perpendicular to $A_1$}} \\\\\n",
    "&= 0\n",
    "\\end{array}\n",
    "$$. Similarly, we can prove $A_2 \\cdot (c B) = 0$.\n",
    "\n",
    "Hence (ii) is satisfied.\n",
    "\n",
    "To prove (iii):\n",
    "\n",
    "$$\n",
    "A_1 \\cdot \\mathit{0} = 0\n",
    "$$ and $$\n",
    "A_2 \\cdot \\mathit{0} = 0\n",
    "$$. Hence $\\mathit{0} \\in V$, by the definition of $V$.\n",
    "\n",
    "Hence (iii) is satisfied.\n",
    "\n",
    "Hence $V$ is a subspace of $R^n$. Q.E.D."
   ]
  },
  {
   "cell_type": "markdown",
   "metadata": {},
   "source": [
    "## 7. Generalize Exercise 6, and prove: Let $A_1, ..., A_r$ be vectors in $R^n$. Let $W$ be the set of vectors $B$ in $R^n$ such that $B \\cdot A_i = 0$ for every $i = 1, ..., r$. Show that $W$ is a subspace of $R^n$."
   ]
  },
  {
   "cell_type": "markdown",
   "metadata": {},
   "source": [
    "### Proof:\n",
    "\n",
    "By the definition of subspaces, to prove $W$ is a subspace of $R^n$, we need to prove\n",
    "\n",
    "- (i) For $B_1, B_2 \\in W$, $B_1 + B_2 \\in W$ also holds.\n",
    "- (ii) For $c \\in R$ and $B \\in W$, $c B \\in W$ also holds.\n",
    "- (iii) Let $\\mathit{0}$ be the zero vector of $R^n$ ($\\mathit{0} = (\\underbrace{0, ..., 0}_{n})$). $\\mathit{0} \\in V$ also holds.\n",
    "\n",
    "To prove (i):\n",
    "\n",
    "For $i = 1, ..., r$:\n",
    "\n",
    " * Let $B_1, B_2 \\in W$. We have\n",
    "\n",
    "$$\n",
    "\\begin{array}{l}\n",
    "A_i \\cdot (B_1 + B_2) &= \\underbrace{A_i \\cdot B_1 + A_i \\cdot B_2}_{\\text{$A_i, B_1, B_2 \\in R^n$, $R$ is a field, so SP 2 holds}} \\\\\n",
    "&= \\underbrace{0}_{B_i \\in W} + \\underbrace{0}_{B_2 \\in W} \\\\\n",
    "&= \\underbrace{0}_{\\text{Additive identity of $R$}}\n",
    "\\end{array} \n",
    "$$\n",
    " * Hence $B_1 + B_2 \\in W$ for $B_1, B_2 \\in W$.\n",
    "\n",
    "Hence (i) is satisfied.\n",
    "\n",
    "To prove (ii):\n",
    "\n",
    "For $i = 1, ..., r$:\n",
    "\n",
    " * Let $B \\in W$, and $c \\in R$. Then we have\n",
    " \n",
    "$$\n",
    "\\begin{array}{l}\n",
    "A_i \\cdot (c B) &= c(A_i \\cdot B) &\\text{SP 3} \\\\\n",
    "&= c \\underbrace{0}_{\\text{$B \\in W$}} \\\\\n",
    "&= 0\n",
    "\\end{array}\n",
    "$$\n",
    "\n",
    "Hence (ii) is satisfied.\n",
    "\n",
    "To prove (iii):\n",
    "\n",
    "For $i = 1, ..., r$:\n",
    "\n",
    "$$\n",
    "A_i \\cdot \\mathit{0} = 0\n",
    "$$\n",
    "\n",
    "Hence $\\mathit{0} \\in W$, by the definition of $W$.\n",
    "\n",
    "Hence (iii) is satisfied.\n",
    "\n",
    "Hence $W$ is a subspace of $R^n$. Q.E.D."
   ]
  },
  {
   "cell_type": "code",
   "execution_count": null,
   "metadata": {},
   "outputs": [],
   "source": []
  }
 ],
 "metadata": {
  "kernelspec": {
   "display_name": "Python 3",
   "language": "python",
   "name": "python3"
  },
  "language_info": {
   "codemirror_mode": {
    "name": "ipython",
    "version": 3
   },
   "file_extension": ".py",
   "mimetype": "text/x-python",
   "name": "python",
   "nbconvert_exporter": "python",
   "pygments_lexer": "ipython3",
   "version": "3.7.0"
  }
 },
 "nbformat": 4,
 "nbformat_minor": 2
}
