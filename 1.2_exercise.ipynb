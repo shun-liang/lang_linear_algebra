{
 "cells": [
  {
   "cell_type": "markdown",
   "metadata": {},
   "source": [
    "## 1. Show that the following vectors are linearly independent (over $C$ or $R$)."
   ]
  },
  {
   "cell_type": "markdown",
   "metadata": {},
   "source": [
    "Skip."
   ]
  },
  {
   "cell_type": "markdown",
   "metadata": {},
   "source": [
    "## 2. Express the given vector $X$ as a linear combination of the given vectors $A, B$, and find the coordinates of $X$ with respect to $A, B$."
   ]
  },
  {
   "cell_type": "markdown",
   "metadata": {},
   "source": [
    "Skip."
   ]
  },
  {
   "cell_type": "markdown",
   "metadata": {},
   "source": [
    "## 3. Find the coordinates of the vector $X$ with respect to the vectors $A, B, C$."
   ]
  },
  {
   "cell_type": "markdown",
   "metadata": {},
   "source": [
    "Skip."
   ]
  },
  {
   "cell_type": "markdown",
   "metadata": {},
   "source": [
    "## 4. Let $(a,b)$ and $(c,d)$ be two vectors in the plane. If $a d - b c = 0$, show that they are linearly dependent. If $a d - b c \\neq 0$, show that they are linearly independent."
   ]
  },
  {
   "cell_type": "markdown",
   "metadata": {},
   "source": [
    "### Proof\n",
    "\n",
    "Let $K$ be the field under the plane.\n",
    "\n",
    "Let $\\alpha, \\beta \\in K$.\n",
    "\n",
    "If there exists $\\alpha, \\beta \\neq 0$ such that\n",
    "\n",
    "$$\n",
    "\\alpha (a, b) + \\beta (c, d) = \\mathit{0}\n",
    "$$\n",
    "\n",
    "...which is identical to\n",
    "\n",
    "$$\n",
    "\\begin{cases}\n",
    "\\alpha a + \\beta c &= 0 \\\\\n",
    "\\alpha b + \\beta d &= 0\n",
    "\\end{cases}\n",
    "$$\n",
    "\n",
    "If $a = 0$, while $b, c, d$ remain being free variables, the we can derive from above that\n",
    "\n",
    "$$\n",
    "\\begin{cases}\n",
    "\\alpha &= 0 \\\\\n",
    "\\beta &= 0\n",
    "\\end{cases}\n",
    "$$\n",
    "\n",
    "If $a \\neq 0$, the we can derive from above that\n",
    "\n",
    "$$\n",
    "\\begin{cases}\n",
    "\\alpha &= - \\frac{\\beta c}{a} \\\\\n",
    "\\beta (\\frac{a d - b c}{a}) &= 0\n",
    "\\end{cases}\n",
    "$$\n",
    "\n",
    "If $a d - b c = 0$, there are infinite number of solutions for above. Hence $(a, b)$ and $(c, d)$ are linear dependent.\n",
    "\n",
    "If $a d - b c \\neq 0$, the only solution for above is\n",
    "\n",
    "$$\n",
    "\\begin{cases}\n",
    "\\alpha &= 0 \\\\\n",
    "\\beta &= 0\n",
    "\\end{cases}\n",
    "$$\n",
    "\n",
    "Hence $(a, b)$ and $(c, d)$ are linear independent.\n",
    "\n",
    "Q.E.D."
   ]
  },
  {
   "cell_type": "markdown",
   "metadata": {},
   "source": [
    "## 5. Consider the vector space of all functions of a variable $t$. Show that the following pairs of functions are linearly independent."
   ]
  },
  {
   "cell_type": "markdown",
   "metadata": {},
   "source": [
    "Let's define a function in the vector space as $f: S \\to K$, where $K$ is a field.\n",
    "\n",
    "Let $a, b \\in K$."
   ]
  },
  {
   "cell_type": "markdown",
   "metadata": {},
   "source": [
    "### (a) $1, t$"
   ]
  },
  {
   "cell_type": "markdown",
   "metadata": {},
   "source": [
    "#### Proof\n",
    "\n",
    "To show if the two functions are linear independent, we need to find the number of non-zero solutions to\n",
    "\n",
    "$$\n",
    "a \\cdot 1 + b t = 0\n",
    "$$\n",
    "\n",
    "By differentiating the equation, we have\n",
    "\n",
    "$$\n",
    "b = 0\n",
    "$$\n",
    "\n",
    "Hence the only solution to equation is\n",
    "\n",
    "$$\n",
    "\\begin{cases}\n",
    "a &= 0 \\\\\n",
    "b &= 0\n",
    "\\end{cases}\n",
    "$$\n",
    "\n",
    "Hence $1, t$ are linear independent."
   ]
  },
  {
   "cell_type": "markdown",
   "metadata": {},
   "source": [
    "### (b) $t, t^2$"
   ]
  },
  {
   "cell_type": "markdown",
   "metadata": {},
   "source": [
    "#### Proof \n",
    "\n",
    "To show if the two functions are linear independent, we need to find the number of non-zero solutions to\n",
    "\n",
    "$$\n",
    "a \\cdot t + b t^2 = 0\n",
    "$$\n",
    "\n",
    "By differentiating the equation, we have\n",
    "\n",
    "$$\n",
    "a \\cdot 1 + 2 b t = 0\n",
    "$$\n",
    "\n",
    "By differentiating the equation, we have\n",
    "\n",
    "\n",
    "$$\n",
    "2 b = 0\n",
    "$$\n",
    "\n",
    "\n",
    "Hence the only solution to the equation is\n",
    "\n",
    "$$\n",
    "\\begin{cases}\n",
    "a &= 0 \\\\\n",
    "b &= 0\n",
    "\\end{cases}\n",
    "$$\n",
    "\n",
    "Hence $t, t^2$ are linear independent."
   ]
  },
  {
   "cell_type": "markdown",
   "metadata": {},
   "source": [
    "### (c) $t, t^4$"
   ]
  },
  {
   "cell_type": "markdown",
   "metadata": {},
   "source": [
    "#### Proof\n",
    "\n",
    "To show if the two functions are linear independent, we need to find the number of non-zero solutions to\n",
    "\n",
    "$$\n",
    "a \\cdot t + b t^4 = 0\n",
    "$$\n",
    "\n",
    "By differentiating the equation, we have\n",
    "\n",
    "$$\n",
    "a \\cdot 1 + 4 b t^3 = 0\n",
    "$$\n",
    "\n",
    "By differentiating the equation, we have\n",
    "\n",
    "$$\n",
    "12 b t^2 = 0\n",
    "$$\n",
    "\n",
    "Hence the only solution to the equation is\n",
    "\n",
    "$$\n",
    "\\begin{cases}\n",
    "a &= 0 \\\\\n",
    "b &= 0\n",
    "\\end{cases}\n",
    "$$\n",
    "\n",
    "Hence $t, t^3$ are linear independent."
   ]
  },
  {
   "cell_type": "markdown",
   "metadata": {},
   "source": [
    "### (d) $e^t, t$"
   ]
  },
  {
   "cell_type": "markdown",
   "metadata": {},
   "source": [
    "#### Proof\n",
    "\n",
    "To show if the two functions are linear independent, we need to find the number of non-zero solutions to\n",
    "\n",
    "$$\n",
    "a e^t + b t = 0\n",
    "$$\n",
    "\n",
    "By differentiating the equation, we have\n",
    "\n",
    "$$\n",
    "a e^t = 0\n",
    "$$\n",
    "\n",
    "Hence the only solution to the equation is\n",
    "\n",
    "$$\n",
    "\\begin{cases}\n",
    "a &= 0 \\\\\n",
    "b &= 0\n",
    "\\end{cases}\n",
    "$$\n",
    "\n",
    "Hence $e^t$ and $t$ are linear independent."
   ]
  },
  {
   "cell_type": "markdown",
   "metadata": {},
   "source": [
    "### (e) $t e^t, e^{2 t}$"
   ]
  },
  {
   "cell_type": "markdown",
   "metadata": {},
   "source": [
    "#### Proof\n",
    "\n",
    "To show if the two functions are linear independent, we need to find the number of non-zero solutions to\n",
    "\n",
    "$$\n",
    "a t e^t + b e^{2 t} = 0\n",
    "$$\n",
    "\n",
    "By differentiating the equation, we have\n",
    "\n",
    "$$\n",
    "\\begin{array}{l}\n",
    "a e^t + a t e^t + 2 b e^{2 t} &= 0 \\\\\n",
    "a e^t + (a t e^t + b e^{2 t}) + b e^{2 t} &= 0\n",
    "a e^t + 0 + b e^{2 t} &= 0 \\\\\n",
    "a e^t + b e^{2 t} &= 0 \\\\\n",
    "e^t (a + b e^t) &= 0 \\\\\n",
    "a + b e^t &= 0\n",
    "\\end{array}\n",
    "$$\n",
    "\n",
    "By differentiating the equation, we have\n",
    "\n",
    "$$\n",
    "b e^t = 0\n",
    "$$\n",
    "\n",
    "Hence the only solution to the equation is\n",
    "\n",
    "$$\n",
    "\\begin{cases}\n",
    "a &= 0 \\\\\n",
    "b &= 0\n",
    "\\end{cases}\n",
    "$$\n",
    "\n",
    "\n",
    "Hence $t e^t$ and $e^{2 t}$ are linear independent."
   ]
  },
  {
   "cell_type": "markdown",
   "metadata": {},
   "source": [
    "### (f) $\\sin t, \\cos t$"
   ]
  },
  {
   "cell_type": "markdown",
   "metadata": {},
   "source": [
    "#### Proof\n",
    "\n",
    "To show if the two functions are linear independent, we need to find the number of non-zero solutions to\n",
    "\n",
    "$$\n",
    "a \\sin t + b \\cos t = 0\n",
    "$$\n",
    "\n",
    "By differentiating the equation, we have\n",
    "\n",
    "$$\n",
    "\\begin{array}{l}\n",
    "a \\cos t - b \\sin t &= 0 \\\\\n",
    "- b \\sin t + a \\cos t &= 0\n",
    "\\end{array}\n",
    "$$\n",
    "\n",
    "Then we have\n",
    "\n",
    "$$\n",
    "\\begin{cases}\n",
    "a &= - b \\\\\n",
    "b &= a\n",
    "\\end{cases}\n",
    "$$\n",
    "\n",
    "Hence the only solution to the equation is\n",
    "\n",
    "$$\n",
    "\\begin{cases}\n",
    "a &= 0 \\\\\n",
    "b &= 0\n",
    "\\end{cases}\n",
    "$$\n",
    "\n",
    "Hence $\\sin t$ and $\\cos t$ are linear independent."
   ]
  },
  {
   "cell_type": "markdown",
   "metadata": {},
   "source": [
    "### (g) $t, \\sin t$"
   ]
  },
  {
   "cell_type": "markdown",
   "metadata": {},
   "source": [
    "To show if the two functions are linear independent, we need to find the number of non-zero solutions to\n",
    "\n",
    "$$\n",
    "a t + b \\sin t = 0\n",
    "$$\n",
    "\n",
    "By differentiating the equation, we have\n",
    "\n",
    "$$\n",
    "a + b \\cos t = 0\n",
    "$$\n",
    "\n",
    "By differentiating the equation, we have\n",
    "\n",
    "$$\n",
    "- b \\sin t = 0\n",
    "$$\n",
    "\n",
    "Hence the only solution to the equation is\n",
    "\n",
    "$$\n",
    "\\begin{cases}\n",
    "a &= 0 \\\\\n",
    "b &= 0\n",
    "\\end{cases}\n",
    "$$\n",
    "\n",
    "Hence $t$ and $\\sin t$ are linear independent."
   ]
  },
  {
   "cell_type": "markdown",
   "metadata": {},
   "source": [
    "The rest is skip"
   ]
  },
  {
   "cell_type": "markdown",
   "metadata": {},
   "source": [
    "## 6. Consider the vector space of functions defined for $t > 0$. Show that the following pairs of functions are linearly independent."
   ]
  },
  {
   "cell_type": "markdown",
   "metadata": {},
   "source": [
    "Let's define a function in the vector space as $f: S \\to K$, where $K$ is a field.\n",
    "\n",
    "Let $a, b \\in K$."
   ]
  },
  {
   "cell_type": "markdown",
   "metadata": {},
   "source": [
    "### (a) $t, \\frac{1}{t}$."
   ]
  },
  {
   "cell_type": "markdown",
   "metadata": {},
   "source": [
    "#### Proof\n",
    "\n",
    "To show if the two functions are linear independent, we need to find the number of non-zero solutions to\n",
    "\n",
    "$$\n",
    "\\begin{equation}\n",
    "\\begin{aligned}\n",
    "a t + \\frac{b}{t} &= 0 & \\text{for $t > 0$}\n",
    "\\end{aligned}\n",
    "\\end{equation}\n",
    "$$ \n",
    "\n",
    "As $t$ and $\\frac{1}{t}$ are differentiable for $t > 0$, by differentiating the equation, we have\n",
    "\n",
    "$$\n",
    "\\begin{equation}\n",
    "\\begin{aligned}\n",
    "a - \\frac{b}{t^2} &= 0 & \\text{for $t > 0$}\n",
    "\\end{aligned}\n",
    "\\end{equation}\n",
    "$$\n",
    "\n",
    "As $\\frac{1}{t^2}$ is differentiable for $t > 0$, by differentiating the equation, we have\n",
    "\n",
    "$$\n",
    "\\begin{equation}\n",
    "\\begin{aligned}\n",
    "\\frac{b}{t^3} = 0 & \\text{for $t > 0$}\n",
    "\\end{aligned}\n",
    "\\end{equation}\n",
    "$$\n",
    "\n",
    "Hence the only solution to the equation is\n",
    "\n",
    "$$\n",
    "\\begin{cases}\n",
    "a &= 0 \\\\\n",
    "b &= 0\n",
    "\\end{cases}\n",
    "$$\n",
    "\n",
    "Hence $t$ and $\\frac{1}{t}$ are linear independent."
   ]
  },
  {
   "cell_type": "markdown",
   "metadata": {},
   "source": [
    "### (b) $e^t, \\log t$"
   ]
  },
  {
   "cell_type": "markdown",
   "metadata": {},
   "source": [
    "#### Proof\n",
    "\n",
    "To show if the two functions are linear independent, we need to find the number of non-zero solutions to\n",
    "\n",
    "$$\n",
    "\\begin{equation}\n",
    "\\begin{aligned}\n",
    "a e^t + b \\log t &= 0 & \\text{for $t > 0$}\n",
    "\\end{aligned}\n",
    "\\end{equation}\n",
    "$$ \n",
    "\n",
    "As $e^t$ and $\\log t$ are differentiable for $t > 0$, by differentiating the equation, we have\n",
    "\n",
    "$$\n",
    "\\begin{equation}\n",
    "\\begin{aligned}\n",
    "a e^t + \\frac{b}{t} &= 0 & \\text{for $t > 0$}\n",
    "\\end{aligned}\n",
    "\\end{equation}\n",
    "$$\n",
    "\n",
    "As $e^t > 0$ and $\\frac{1}{t} > 0$ for $t > 0$, we then know the only solution to the equation is\n",
    "\n",
    "$$\n",
    "\\begin{cases}\n",
    "a &= 0 \\\\\n",
    "b &= 0\n",
    "\\end{cases}\n",
    "$$\n",
    "\n",
    "Hence $e^t$ and $\\log t$ are linear independent."
   ]
  },
  {
   "cell_type": "code",
   "execution_count": null,
   "metadata": {},
   "outputs": [],
   "source": []
  }
 ],
 "metadata": {
  "kernelspec": {
   "display_name": "Python 3",
   "language": "python",
   "name": "python3"
  },
  "language_info": {
   "codemirror_mode": {
    "name": "ipython",
    "version": 3
   },
   "file_extension": ".py",
   "mimetype": "text/x-python",
   "name": "python",
   "nbconvert_exporter": "python",
   "pygments_lexer": "ipython3",
   "version": "3.7.0"
  }
 },
 "nbformat": 4,
 "nbformat_minor": 2
}
