{
 "cells": [
  {
   "cell_type": "markdown",
   "metadata": {},
   "source": [
    "## 1. Show that the following vectors are linearly independent (over $C$ or $R$)."
   ]
  },
  {
   "cell_type": "markdown",
   "metadata": {},
   "source": [
    "Skip."
   ]
  },
  {
   "cell_type": "markdown",
   "metadata": {},
   "source": [
    "## 2. Express the given vector $X$ as a linear combination of the given vectors $A, B$, and find the coordinates of $X$ with respect to $A, B$."
   ]
  },
  {
   "cell_type": "markdown",
   "metadata": {},
   "source": [
    "Skip."
   ]
  },
  {
   "cell_type": "markdown",
   "metadata": {},
   "source": [
    "## 3. Find the coordinates of the vector $X$ with respect to the vectors $A, B, C$."
   ]
  },
  {
   "cell_type": "markdown",
   "metadata": {},
   "source": [
    "Skip."
   ]
  },
  {
   "cell_type": "markdown",
   "metadata": {},
   "source": [
    "## 4. Let $(a,b)$ and $(c,d)$ be two vectors in the plane. If $a d - b c = 0$, show that they are linearly dependent. If $a d - b c \\neq 0$, show that they are linearly independent."
   ]
  },
  {
   "cell_type": "markdown",
   "metadata": {},
   "source": [
    "### Proof\n",
    "\n",
    "Let $K$ be the field under the plane.\n",
    "\n",
    "Let $\\alpha, \\beta \\in K$.\n",
    "\n",
    "If there exists $\\alpha, \\beta \\neq 0$ such that\n",
    "\n",
    "$$\n",
    "\\alpha (a, b) + \\beta (c, d) = \\mathit{0}\n",
    "$$\n",
    "\n",
    "...which is identical to\n",
    "\n",
    "$$\n",
    "\\begin{cases}\n",
    "\\alpha a + \\beta c &= 0 \\\\\n",
    "\\alpha b + \\beta d &= 0\n",
    "\\end{cases}\n",
    "$$\n",
    "\n",
    "If $a = 0$, while $b, c, d$ remain being free variables, the we can derive from above that\n",
    "\n",
    "$$\n",
    "\\begin{cases}\n",
    "\\alpha &= 0 \\\\\n",
    "\\beta &= 0\n",
    "\\end{cases}\n",
    "$$\n",
    "\n",
    "If $a \\neq 0$, the we can derive from above that\n",
    "\n",
    "$$\n",
    "\\begin{cases}\n",
    "\\alpha &= - \\frac{\\beta c}{a} \\\\\n",
    "\\beta (\\frac{a d - b c}{a}) &= 0\n",
    "\\end{cases}\n",
    "$$\n",
    "\n",
    "If $a d - b c = 0$, there are infinite number of solutions for above. Hence $(a, b)$ and $(c, d)$ are linear dependent.\n",
    "\n",
    "If $a d - b c \\neq 0$, the only solution for above is\n",
    "\n",
    "$$\n",
    "\\begin{cases}\n",
    "\\alpha &= 0 \\\\\n",
    "\\beta &= 0\n",
    "\\end{cases}\n",
    "$$\n",
    "\n",
    "Hence $(a, b)$ and $(c, d)$ are linear independent.\n",
    "\n",
    "Q.E.D."
   ]
  },
  {
   "cell_type": "markdown",
   "metadata": {},
   "source": [
    "## 5. Consider the vector space of all functions of a variable $t$. Show that the following pairs of functions are linearly independent."
   ]
  },
  {
   "cell_type": "markdown",
   "metadata": {},
   "source": [
    "Let's define a function in the vector space as $f: S \\to K$, where $K$ is a field.\n",
    "\n",
    "Let $a, b \\in K$."
   ]
  },
  {
   "cell_type": "markdown",
   "metadata": {},
   "source": [
    "### (a) $1, t$"
   ]
  },
  {
   "cell_type": "markdown",
   "metadata": {},
   "source": [
    "#### Proof\n",
    "\n",
    "To show if the two functions are linear independent, we need to find the number of non-zero solutions to\n",
    "\n",
    "$$\n",
    "a \\cdot 1 + b t = 0\n",
    "$$\n",
    "\n",
    "By differentiating the equation, we have\n",
    "\n",
    "$$\n",
    "b = 0\n",
    "$$\n",
    "\n",
    "Hence the only solution to equation is\n",
    "\n",
    "$$\n",
    "\\begin{cases}\n",
    "a &= 0 \\\\\n",
    "b &= 0\n",
    "\\end{cases}\n",
    "$$\n",
    "\n",
    "Hence $1, t$ are linear independent."
   ]
  },
  {
   "cell_type": "markdown",
   "metadata": {},
   "source": [
    "### (b) $t, t^2$"
   ]
  },
  {
   "cell_type": "markdown",
   "metadata": {},
   "source": [
    "#### Proof \n",
    "\n",
    "To show if the two functions are linear independent, we need to find the number of non-zero solutions to\n",
    "\n",
    "$$\n",
    "a \\cdot t + b t^2 = 0\n",
    "$$\n",
    "\n",
    "By differentiating the equation, we have\n",
    "\n",
    "$$\n",
    "a \\cdot 1 + 2 b t = 0\n",
    "$$\n",
    "\n",
    "By differentiating the equation, we have\n",
    "\n",
    "\n",
    "$$\n",
    "2 b = 0\n",
    "$$\n",
    "\n",
    "\n",
    "Hence the only solution to the equation is\n",
    "\n",
    "$$\n",
    "\\begin{cases}\n",
    "a &= 0 \\\\\n",
    "b &= 0\n",
    "\\end{cases}\n",
    "$$\n",
    "\n",
    "Hence $t, t^2$ are linear independent."
   ]
  },
  {
   "cell_type": "markdown",
   "metadata": {},
   "source": [
    "### (c) $t, t^4$"
   ]
  },
  {
   "cell_type": "markdown",
   "metadata": {},
   "source": [
    "#### Proof\n",
    "\n",
    "To show if the two functions are linear independent, we need to find the number of non-zero solutions to\n",
    "\n",
    "$$\n",
    "a \\cdot t + b t^4 = 0\n",
    "$$\n",
    "\n",
    "By differentiating the equation, we have\n",
    "\n",
    "$$\n",
    "a \\cdot 1 + 4 b t^3 = 0\n",
    "$$\n",
    "\n",
    "By differentiating the equation, we have\n",
    "\n",
    "$$\n",
    "12 b t^2 = 0\n",
    "$$\n",
    "\n",
    "Hence the only solution to the equation is\n",
    "\n",
    "$$\n",
    "\\begin{cases}\n",
    "a &= 0 \\\\\n",
    "b &= 0\n",
    "\\end{cases}\n",
    "$$\n",
    "\n",
    "Hence $t, t^3$ are linear independent."
   ]
  },
  {
   "cell_type": "markdown",
   "metadata": {},
   "source": [
    "### (d) $e^t, t$"
   ]
  },
  {
   "cell_type": "markdown",
   "metadata": {},
   "source": [
    "#### Proof\n",
    "\n",
    "To show if the two functions are linear independent, we need to find the number of non-zero solutions to\n",
    "\n",
    "$$\n",
    "a e^t + b t = 0\n",
    "$$\n",
    "\n",
    "By differentiating the equation, we have\n",
    "\n",
    "$$\n",
    "a e^t = 0\n",
    "$$\n",
    "\n",
    "Hence the only solution to the equation is\n",
    "\n",
    "$$\n",
    "\\begin{cases}\n",
    "a &= 0 \\\\\n",
    "b &= 0\n",
    "\\end{cases}\n",
    "$$\n",
    "\n",
    "Hence $e^t$ and $t$ are linear independent."
   ]
  },
  {
   "cell_type": "markdown",
   "metadata": {},
   "source": [
    "### (e) $t e^t, e^{2 t}$"
   ]
  },
  {
   "cell_type": "markdown",
   "metadata": {},
   "source": [
    "#### Proof\n",
    "\n",
    "To show if the two functions are linear independent, we need to find the number of non-zero solutions to\n",
    "\n",
    "$$\n",
    "a t e^t + b e^{2 t} = 0\n",
    "$$\n",
    "\n",
    "By differentiating the equation, we have\n",
    "\n",
    "$$\n",
    "\\begin{array}{l}\n",
    "a e^t + a t e^t + 2 b e^{2 t} &= 0 \\\\\n",
    "a e^t + (a t e^t + b e^{2 t}) + b e^{2 t} &= 0\n",
    "a e^t + 0 + b e^{2 t} &= 0 \\\\\n",
    "a e^t + b e^{2 t} &= 0 \\\\\n",
    "e^t (a + b e^t) &= 0 \\\\\n",
    "a + b e^t &= 0\n",
    "\\end{array}\n",
    "$$\n",
    "\n",
    "By differentiating the equation, we have\n",
    "\n",
    "$$\n",
    "b e^t = 0\n",
    "$$\n",
    "\n",
    "Hence the only solution to the equation is\n",
    "\n",
    "$$\n",
    "\\begin{cases}\n",
    "a &= 0 \\\\\n",
    "b &= 0\n",
    "\\end{cases}\n",
    "$$\n",
    "\n",
    "\n",
    "Hence $t e^t$ and $e^{2 t}$ are linear independent."
   ]
  },
  {
   "cell_type": "markdown",
   "metadata": {},
   "source": [
    "### (f) $\\sin t, \\cos t$"
   ]
  },
  {
   "cell_type": "markdown",
   "metadata": {},
   "source": [
    "#### Proof\n",
    "\n",
    "To show if the two functions are linear independent, we need to find the number of non-zero solutions to\n",
    "\n",
    "$$\n",
    "a \\sin t + b \\cos t = 0\n",
    "$$\n",
    "\n",
    "By differentiating the equation, we have\n",
    "\n",
    "$$\n",
    "\\begin{array}{l}\n",
    "a \\cos t - b \\sin t &= 0 \\\\\n",
    "- b \\sin t + a \\cos t &= 0\n",
    "\\end{array}\n",
    "$$\n",
    "\n",
    "Then we have\n",
    "\n",
    "$$\n",
    "\\begin{cases}\n",
    "a &= - b \\\\\n",
    "b &= a\n",
    "\\end{cases}\n",
    "$$\n",
    "\n",
    "Hence the only solution to the equation is\n",
    "\n",
    "$$\n",
    "\\begin{cases}\n",
    "a &= 0 \\\\\n",
    "b &= 0\n",
    "\\end{cases}\n",
    "$$\n",
    "\n",
    "Hence $\\sin t$ and $\\cos t$ are linear independent."
   ]
  },
  {
   "cell_type": "markdown",
   "metadata": {},
   "source": [
    "### (g) $t, \\sin t$"
   ]
  },
  {
   "cell_type": "markdown",
   "metadata": {},
   "source": [
    "To show if the two functions are linear independent, we need to find the number of non-zero solutions to\n",
    "\n",
    "$$\n",
    "a t + b \\sin t = 0\n",
    "$$\n",
    "\n",
    "By differentiating the equation, we have\n",
    "\n",
    "$$\n",
    "a + b \\cos t = 0\n",
    "$$\n",
    "\n",
    "By differentiating the equation, we have\n",
    "\n",
    "$$\n",
    "- b \\sin t = 0\n",
    "$$\n",
    "\n",
    "Hence the only solution to the equation is\n",
    "\n",
    "$$\n",
    "\\begin{cases}\n",
    "a &= 0 \\\\\n",
    "b &= 0\n",
    "\\end{cases}\n",
    "$$\n",
    "\n",
    "Hence $t$ and $\\sin t$ are linear independent."
   ]
  },
  {
   "cell_type": "markdown",
   "metadata": {},
   "source": [
    "The rest is skip"
   ]
  },
  {
   "cell_type": "markdown",
   "metadata": {},
   "source": [
    "## 6. Consider the vector space of functions defined for $t > 0$. Show that the following pairs of functions are linearly independent."
   ]
  },
  {
   "cell_type": "markdown",
   "metadata": {},
   "source": [
    "Let's define a function in the vector space as $f: S \\to K$, where $K$ is a field.\n",
    "\n",
    "Let $a, b \\in K$."
   ]
  },
  {
   "cell_type": "markdown",
   "metadata": {},
   "source": [
    "### (a) $t, \\frac{1}{t}$."
   ]
  },
  {
   "cell_type": "markdown",
   "metadata": {},
   "source": [
    "#### Proof\n",
    "\n",
    "To show if the two functions are linear independent, we need to find the number of non-zero solutions to\n",
    "\n",
    "$$\n",
    "\\begin{equation}\n",
    "\\begin{aligned}\n",
    "a t + \\frac{b}{t} &= 0 & \\text{for $t > 0$}\n",
    "\\end{aligned}\n",
    "\\end{equation}\n",
    "$$ \n",
    "\n",
    "As $t$ and $\\frac{1}{t}$ are differentiable for $t > 0$, by differentiating the equation, we have\n",
    "\n",
    "$$\n",
    "\\begin{equation}\n",
    "\\begin{aligned}\n",
    "a - \\frac{b}{t^2} &= 0 & \\text{for $t > 0$}\n",
    "\\end{aligned}\n",
    "\\end{equation}\n",
    "$$\n",
    "\n",
    "As $\\frac{1}{t^2}$ is differentiable for $t > 0$, by differentiating the equation, we have\n",
    "\n",
    "$$\n",
    "\\begin{equation}\n",
    "\\begin{aligned}\n",
    "\\frac{b}{t^3} = 0 & \\text{for $t > 0$}\n",
    "\\end{aligned}\n",
    "\\end{equation}\n",
    "$$\n",
    "\n",
    "Hence the only solution to the equation is\n",
    "\n",
    "$$\n",
    "\\begin{cases}\n",
    "a &= 0 \\\\\n",
    "b &= 0\n",
    "\\end{cases}\n",
    "$$\n",
    "\n",
    "Hence $t$ and $\\frac{1}{t}$ are linear independent."
   ]
  },
  {
   "cell_type": "markdown",
   "metadata": {},
   "source": [
    "### (b) $e^t, \\log t$"
   ]
  },
  {
   "cell_type": "markdown",
   "metadata": {},
   "source": [
    "#### Proof\n",
    "\n",
    "To show if the two functions are linear independent, we need to find the number of non-zero solutions to\n",
    "\n",
    "$$\n",
    "\\begin{equation}\n",
    "\\begin{aligned}\n",
    "a e^t + b \\log t &= 0 & \\text{for $t > 0$}\n",
    "\\end{aligned}\n",
    "\\end{equation}\n",
    "$$ \n",
    "\n",
    "As $e^t$ and $\\log t$ are differentiable for $t > 0$, by differentiating the equation, we have\n",
    "\n",
    "$$\n",
    "\\begin{equation}\n",
    "\\begin{aligned}\n",
    "a e^t + \\frac{b}{t} &= 0 & \\text{for $t > 0$}\n",
    "\\end{aligned}\n",
    "\\end{equation}\n",
    "$$\n",
    "\n",
    "As $e^t > 0$ and $\\frac{1}{t} > 0$ for $t > 0$, we then know the only solution to the equation is\n",
    "\n",
    "$$\n",
    "\\begin{cases}\n",
    "a &= 0 \\\\\n",
    "b &= 0\n",
    "\\end{cases}\n",
    "$$\n",
    "\n",
    "Hence $e^t$ and $\\log t$ are linear independent."
   ]
  },
  {
   "cell_type": "markdown",
   "metadata": {},
   "source": [
    "## 7. What are the coordinates of the function $3 \\sin t + 5 \\cos t = f(t)$ with respect to the basis ${\\sin t, \\cos t}$?"
   ]
  },
  {
   "cell_type": "markdown",
   "metadata": {},
   "source": [
    "$3, 5$."
   ]
  },
  {
   "cell_type": "markdown",
   "metadata": {},
   "source": [
    "## 8. Let $\\operatorname{D}$ be the derivative $\\frac{\\operatorname{d}}{\\operatorname{d} t}$. Let $f(t)$ be as in Exercise 7. What are the coordinates of the function $\\operatorname{D}f(t)$ with respect to the basis of Exercise 7?"
   ]
  },
  {
   "cell_type": "markdown",
   "metadata": {},
   "source": [
    "### Solution\n",
    "\n",
    "$$\n",
    "\\operatorname{D} f(t) = 3 \\cos t - 5 \\sin t = -5 \\sin t + 3 \\cos t\n",
    "$$\n",
    "\n",
    "Hence the coordinates of $\\operatorname{D} f(t)$ with respect to the basis is $(-5, 3)$."
   ]
  },
  {
   "cell_type": "markdown",
   "metadata": {},
   "source": [
    "## 9. Let $A_1, ..., A_r$  be vectors in $R^n$ and assume that they are mutually perpendicular (i.e. any two of them are perpendicular), and that none of them is equal to $\\mathit{0}$. Prove that they are linearly independent."
   ]
  },
  {
   "cell_type": "markdown",
   "metadata": {},
   "source": [
    "### Proof\n",
    "\n",
    "Let $a_1, ... , a_r \\in R$ such that\n",
    "\n",
    "$$\n",
    "\\begin{equation}\n",
    "\\begin{aligned}\n",
    "a_1 A_1 + ... + a_r A_r &= \\mathit{0} & \\text{(1)} &\\text{(1)}\n",
    "\\end{aligned}\n",
    "\\end{equation}\n",
    "$$\n",
    "\n",
    "For $i \\in \\{1, ..., r\\}$, we have\n",
    "\n",
    "$$\n",
    "\\begin{equation}\n",
    "\\begin{aligned}\n",
    "A_i \\cdot \\mathit{0} &= 0 & \\text{(2)}\n",
    "\\end{aligned}\n",
    "\\end{equation}\n",
    "$$\n",
    "\n",
    "From $(1)$ and $(2)$, we have\n",
    "\n",
    "$$\n",
    "\\begin{array}{l}\n",
    "A_i \\cdot (a_1 A_1 + ... + a_r A_r) &= 0 \\\\\n",
    "a_1 (A_1 \\cdot A_i) + ... a_i (A_i \\cdot A_i) + ... + a_r (A_r \\cdot A_i) &= 0 \\\\\n",
    "a_1 \\cdot 0 + ... + a_i (A_i \\cdot A_i) + ... + a_r \\cdot 0 &= 0 &\\text{as ${A_i}$ is perpendicular to $A_j$ for $j \\in  (\\{1,..., r\\} - \\{i\\})$} \\\\\n",
    "a_i (A_i \\cdot A_i) &= 0 \\\\\n",
    "\\end{array}\n",
    "$$\n",
    "\n",
    "Since $A_i \\neq \\mathit{0}$, it can only be $a_i = 0$.\n",
    "\n",
    "Hence for equation (1), the only solution is $a_i = 0$ for $i \\in \\{1, ..., r\\}$.\n",
    "\n",
    "Hence $A_1, ..., A_r$ are linear independent. Q.E.D"
   ]
  },
  {
   "cell_type": "markdown",
   "metadata": {},
   "source": [
    "## 10.  Let $v, w$ be elements of a vector space and assume that $v \\neq \\mathit{0}$. If $v, w$ are linearly dependent, show that there is a number $a$ such that $w = a v$"
   ]
  },
  {
   "cell_type": "markdown",
   "metadata": {},
   "source": [
    "### Proof\n",
    "\n",
    "Let $K$ be the field under the vector space that $v, w$ belongs to.\n",
    "\n",
    "Since $v, w$ are linear dependent, there exist $\\alpha, \\beta \\in K$ and do not both equal to $0$ such that\n",
    "\n",
    "$$\n",
    "\\alpha v + \\beta w = 0\n",
    "$$\n",
    "\n",
    "If $\\beta \\neq 0$, then we have\n",
    "\n",
    "$$\n",
    "\\begin{array}{l}\n",
    "w &= (- \\frac{\\alpha}{\\beta}) v &\\text{Multiplicative inverse property of $K$}\n",
    "\\end{array}\n",
    "$$\n",
    "\n",
    "If $\\beta = 0$, as $v, w$ are linear dependent, $\\alpha \\neq 0$.\n",
    "\n",
    "Then we have\n",
    "\n",
    "$$\n",
    "\\alpha v = 0\n",
    "$$\n",
    "\n",
    "And since $v \\neq \\mathit{0}$, the only solution of $\\alpha$ is $\\alpha = 0$. Which leads to a contradiction.\n",
    "\n",
    "Hence $\\beta \\neq 0$.\n",
    "\n",
    "Hence there exists a number $a$ such that\n",
    "\n",
    "$$\n",
    "w = a v\n",
    "$$\n",
    "\n",
    "Q.E.D."
   ]
  },
  {
   "cell_type": "code",
   "execution_count": null,
   "metadata": {},
   "outputs": [],
   "source": []
  }
 ],
 "metadata": {
  "kernelspec": {
   "display_name": "Python 3",
   "language": "python",
   "name": "python3"
  },
  "language_info": {
   "codemirror_mode": {
    "name": "ipython",
    "version": 3
   },
   "file_extension": ".py",
   "mimetype": "text/x-python",
   "name": "python",
   "nbconvert_exporter": "python",
   "pygments_lexer": "ipython3",
   "version": "3.7.0"
  }
 },
 "nbformat": 4,
 "nbformat_minor": 2
}
