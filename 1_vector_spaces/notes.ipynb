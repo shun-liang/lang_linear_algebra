{
 "cells": [
  {
   "cell_type": "markdown",
   "metadata": {},
   "source": [
    "# Fields\n",
    "\n",
    "## Definition\n",
    "\n",
    "In the scope of this book:\n",
    "\n",
    "Let $K$ be a subset of the complex numbers $C$. $K$ is a **field** if it satisfied the following conditions:\n",
    "- (a) If $x, y$ are elements of $K$, then $x + y$ and $x y$ are also elements of $K$.\n",
    "- (b) If $x \\in K$, then $- x$ is also an element of $K$. If furthermore $x \\neq 0$, then $x^{- 1}$ is an element of $K$.\n",
    "- (c) The element $0$ and $1$ are elements of $K$.\n",
    "\n",
    "Note: there is a [more abstract definition of a field](https://en.wikipedia.org/wiki/Field_(mathematics)#Classic_definition).\n",
    "\n",
    "## Subfields\n",
    "\n",
    "If $K, L$ are fields, and $K \\subseteq L$, then $K$ is a **subfield** of $L$.\n",
    "\n",
    "Hence in the scope of this book, all fields are subfields of the complex numbers $C$.\n",
    "\n",
    "## Numbers/Scalars\n",
    "\n",
    "An element of a field is call a **number** or a **scalar**."
   ]
  },
  {
   "cell_type": "markdown",
   "metadata": {},
   "source": [
    "# Vector Spaces\n",
    "\n",
    "## Definition\n",
    "\n",
    "A set $V$ is a vector space over the field $K$ if:\n",
    "\n",
    "- Definition of operations: For $v ,w \\in V$, and $c \\in K$\n",
    " - Sum between two vectors ($v + w$) is defined.\n",
    " - Multiplication of a vector by a number (scalar multiplication) ($c v$) is defined.\n",
    "- All of the specific vector spaces properties holds:\n",
    " - **VS 1.** (Additive associativity) Let $u, v, w \\in V$, we have\n",
    " $$\n",
    " (u + v) + w = u + (v + w)\n",
    " $$\n",
    " - **VS 2.** (Additive identity) There is an element of $V$, denoted by $\\mathit{0}$, such that for all element $u \\in V$\n",
    " $$\n",
    " \\mathit{0} + u = u + \\mathit{0}\n",
    " $$\n",
    " Typesetting note: note the difference of $0$ (`$0$`), the additive identity in a field, and $\\mathit{0}$ (`$\\mathit{0}$`), the additive identity in a vector space.\n",
    " - **VS 3.** (Additive inverse) For $u \\in V$, there exists an element in $V$\n",
    " $$\n",
    " u + (- u) = \\mathit{0}\n",
    " $$\n",
    " - **VS 4.** (Commutativity) For all elements $u, v \\in V$, we have\n",
    " $$\n",
    " u + v = v + u\n",
    " $$\n",
    " - **VS 5.** (Distributivity of scalar multiplication with respect to vector addition) Let $c$ be a number ($c \\in K$), and $u, v \\in V$ we have\n",
    " $$\n",
    " c (u + v) = c u + c v\n",
    " $$\n",
    " - **VS 6.** (Distributivity of scalar multiplication with respect to field addition) Let $a, b$ be numbers ($a, b \\in C$), for $v \\in V$, we have\n",
    " $$\n",
    " (a + b) v = a v + b v\n",
    " $$\n",
    " - **VS 7.** (Compatibility of scalar multiplication with field multiplication) Let $a, b$ be numbers ($a, b \\in C$), for $v \\in V$, we have\n",
    " $$\n",
    " (a b) v = a (b v)\n",
    " $$\n",
    " - **VS 8.** (Identity element of scalar multiplication) $1$ the additive identity element in $K$. For all elements $u \\in V$, we have $1 \\cdot u = u$."
   ]
  },
  {
   "cell_type": "markdown",
   "metadata": {},
   "source": [
    "# Linear Combinations\n",
    "\n",
    "Let $V$ be an arbitrary vector space over a field $K$, and let $v_1, ..., v_n \\in V$. Let $x_1, ..., x_n \\in K$. Then\n",
    "\n",
    "$$\n",
    "x_1 v_1 + ... + x_n v_n\n",
    "$$\n",
    "\n",
    "is called a **linear combination** of $V$."
   ]
  },
  {
   "cell_type": "markdown",
   "metadata": {},
   "source": [
    "# Subspaces\n",
    "\n",
    "Let $V$ be a vector space over a field $K$, and let $W \\subseteq V$. $W$ is defined as a **subspace** of $V$ if $W$ satisfies all of the following conditions\n",
    "- (i) Let $v, w \\in W$, $(v + w) \\in W$ also holds.\n",
    "- (ii) Let $v \\in W$, and $c \\in K$, $c v \\in W$ also holds.\n",
    "- (iii) $\\mathit{0} \\in V$ holds."
   ]
  },
  {
   "cell_type": "markdown",
   "metadata": {},
   "source": [
    "# Generation / Linear Span\n",
    "\n",
    "If every element of $V$ is a linear combination of $v_1, ..., v_n$, then we say that $v_1, ..., v_n$ **generates** (spans) $V$."
   ]
  },
  {
   "cell_type": "markdown",
   "metadata": {},
   "source": [
    "# Dot Products / Scalar Products\n",
    "\n",
    "Let $A = (a_1, .., a_n), B = (b_1, ..., b_n) \\in K^n$, the **dot product** (or scalar product) of $A$ and $B$ as\n",
    "\n",
    "$$\n",
    "A \\cdot B = a_1 b_1 + ... + a_n, b_n\n",
    "$$\n",
    "\n",
    "$A \\cdot A$ can be written as $A^2$.\n",
    "\n",
    "$A^3$ has no meaning.\n",
    "\n",
    "## Properties of dot products\n",
    "- **SP 1.** Let $A, B \\in K^n$, then we have\n",
    "  $$\n",
    "  A \\cdot B = B \\cdot A\n",
    "  $$\n",
    " - Can be verified by multiplicative commutativity of $K$.\n",
    "- **SP 2.** Let $A, B, C \\in K^n$, then we have\n",
    "  $$\n",
    "  A \\cdot (B + C) = A \\cdot B + A \\cdot C = (B + C) \\cdot A\n",
    "  $$\n",
    " - Can be verified by multiplicative commutativity and distributivity of $K$.\n",
    "- **SP 3.** If $x \\in K$, then\n",
    "  $$\n",
    "  (x A) \\cdot B = x (A \\cdot B) \n",
    "  $$\n",
    "  and\n",
    "  $$\n",
    "  A \\cdot (x B) = x (A \\cdot B)\n",
    "  $$\n",
    "  - Can be verified by distributivity of $K$."
   ]
  },
  {
   "cell_type": "markdown",
   "metadata": {},
   "source": [
    "## Perpendicular / Orthogonal\n",
    "\n",
    "Let $A, B \\in K^n$. $A$ and $B$ are **perpendicular** (or, orthogonal) if $A \\cdot B = 0$."
   ]
  },
  {
   "cell_type": "markdown",
   "metadata": {},
   "source": [
    "# Function Spaces\n",
    "\n",
    "Let $S$ be a set and $K$ a field. By a function of $S$ into $K$ we shall mean an association which to each element of $S$ associates a unique element of $K$. Thus if $f$ is a function of $S$ into $K$, we express this by the symbols\n",
    "\n",
    "$$\n",
    "f: S \\to K\n",
    "$$\n",
    "\n",
    "We also say that f is a $K$-valued function.\n",
    "\n",
    "The **sum** operation of two $K$-valued functions $f, g$, $f + g$, is defined as a $K$-valued function such that\n",
    "\n",
    "$$\n",
    "(f + g)(x) = f(x) + g(x)\n",
    "$$ for $x \\in S$\n",
    "\n",
    "The scalar multiplication of a $K$-valued function $f$ and a number $c \\in K$ is defined as a $K-valued$ function such that\n",
    "\n",
    "$$\n",
    "(c f) = c f(x)\n",
    "$$ for $x \\in S$\n",
    "\n",
    "As now because\n",
    "1. Both the **sum** operation of two $K$-valued functions, and the scalar multiplication are defined; \n",
    "2. $f(x) \\in K$ for $x \\in S$, hence VS 1 through 8 applies for the set of $K$-valued functions\n",
    "\n",
    "From above, let $V$ be the function of all $K$-valued functions. Then $V$ is a vector space over K."
   ]
  },
  {
   "cell_type": "markdown",
   "metadata": {},
   "source": [
    "# Linear Independence\n",
    "\n",
    "Let $V$ be a vector space over $K$, and let $v_1, ..., v_n \\in V$. $v_1, ..., v_n$ is **linear dependent** if there exists $a_1, ..., a_n \\in K$ not all equal to $0$ such that\n",
    "\n",
    "$$\n",
    "a_1 v_1 + ... a_n v_n = \\mathit{0}\n",
    "$$\n",
    "\n",
    "If there do not exist such numbers in $K$, which means if $a_1, ..., a_n$ are all $0$ for above, then we say $v_1, ..., v_n$ are **linear independent**."
   ]
  },
  {
   "cell_type": "code",
   "execution_count": null,
   "metadata": {},
   "outputs": [],
   "source": []
  }
 ],
 "metadata": {
  "kernelspec": {
   "display_name": "Python 3",
   "language": "python",
   "name": "python3"
  },
  "language_info": {
   "codemirror_mode": {
    "name": "ipython",
    "version": 3
   },
   "file_extension": ".py",
   "mimetype": "text/x-python",
   "name": "python",
   "nbconvert_exporter": "python",
   "pygments_lexer": "ipython3",
   "version": "3.7.0"
  }
 },
 "nbformat": 4,
 "nbformat_minor": 2
}
