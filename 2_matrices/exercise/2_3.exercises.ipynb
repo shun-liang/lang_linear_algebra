{
 "cells": [
  {
   "cell_type": "markdown",
   "metadata": {},
   "source": [
    "## 1. Let $I$ be the unit $n \\times n$ matrix. Let $A$ be an $n \\times r$ matrix. What is $I A$? If $A$ is an $m \\times n$ matrix, what is $A I$?\n",
    "\n",
    "### Solution\n",
    "\n",
    "Let $A$ be an $n \\times r$ matrix, then $I A$ is an $n \\times r$ matrix, and its $i j$-component is\n",
    "\n",
    "$$\n",
    "0 a_{1 j} + ... + 0 a_{(i - 1) j} + 1 a_{i j} + 0 a_{(i + 1) j} + ... + 0 a_{n j} = a_{i j}\n",
    "$$\n",
    "\n",
    "Hence $I A = A$.\n",
    "\n",
    "Let $A$ be an $m times n$ matrix, then $A I$ is an $m \\times n$ matrix, and its $i j$-component is\n",
    "\n",
    "$$\n",
    "a_{i 1} 0 + ... + a_{i (j - 1)} 0 + a_{i j} 1 + a_{i (j + 1)} 0 + ... + a_{i n} 0 = a_{i j}\n",
    "$$\n",
    "\n",
    "Hence $A I = A$."
   ]
  },
  {
   "cell_type": "markdown",
   "metadata": {},
   "source": [
    "## 2. Let $\\mathit{0}$ be the matrix all of whose coordinates are $0$. Let $A$ be a matrix of a size such that the product $A \\mathit{0}$ is defined. What is $A \\mathit{0}$?\n",
    "\n",
    "### Solution\n",
    "\n",
    "Let $A$ be an $m \\times n$ matrix, and the size of $\\mathit{0}$ be $n \\times r$.\n",
    "\n",
    "Then $A \\mathit{0}$ is an $m \\times r$ matrix where all of its component is $0$.\n",
    "\n",
    "We can write\n",
    "\n",
    "$$\n",
    "A \\mathit{0}_{n \\times r} = \\mathit{0}_{m \\times r}\n",
    "$$"
   ]
  },
  {
   "cell_type": "markdown",
   "metadata": {},
   "source": [
    "## 4. \n",
    "\n",
    "Let $A, B$ be square matrices of the same size, and assume that $AB = BA$.\n",
    "\n",
    "Show that \n",
    "$$\n",
    "(A + B)^2 = A^2 +2 AB +B^2\n",
    "$$\n",
    "\n",
    "and\n",
    "\n",
    "$$\n",
    "(A + B) (A - B) = A^2 - B^2\n",
    "$$\n",
    "\n",
    "using the properties of matrices stated in [Theorem 3.1.](../2_3_multiplication_of_matrices.ipynb#Theorem-3.1.)\n",
    "\n",
    "### Proof\n",
    "\n",
    "Let $A, B$ be $n \\times n$ matrices, and $A = (a_{i j})$ and\n",
    "\n",
    "$$\n",
    "\\begin{equation}\n",
    "\\begin{aligned}\n",
    "(A + B)^2 &= (A + B) (A + B) \\\\\n",
    "&= (A + B) A + (A + B) B\n",
    "\\end{aligned}\n",
    "\\end{equation}\n",
    "$$\n",
    "\n",
    "$(A + B) A$ is a square matrix with the same size of $A$ and $B$, and its $i j$-component is\n",
    "\n",
    "$$\n",
    "(a_{i 1} + b_{i 1}) a_{1 j} + (a_{i 2} + b_{i 2}) a_{2 j} + ... + (a_{i n} + b_{i n}) a_{n j} = \\sum_{k = 1}^{n} (a_{i k} + b_{i k}) a_{k j}\n",
    "$$\n",
    "\n",
    "And $(A + B) B$ is a square matrix with the same size of $A$ and $B$, and its $i j$-component is\n",
    "\n",
    "$$\n",
    "(a_{i 1} + b_{i 1}) b_{1 j} + (a_{i 2} + b_{i 2}) b_{2 j} + ... + (a_{i n} + b_{i n}) b_{n j} = \\sum_{k = 1}^{n} (a_{i k} + b_{i k}) b_{k j}\n",
    "$$\n",
    "\n",
    "Then $((A + B)^2 = (A + B) A + (A + B) B$ is a square matrix with the same size of $A$ and $B$, and its $i j$-component is\n",
    "\n",
    "$$\n",
    "\\begin{equation}\n",
    "\\begin{aligned}\n",
    "\\sum_{k = 1}^{n} (a_{i k} + b_{i k}) a_{k j} + \\sum_{k = 1}^{n} (a_{i k} + b_{i k}) b_{k j} &= \\sum_{k = 1}^{n} (a_{i k} + b_{i k}) (a_{k j} + b_{k j}) \\\\\n",
    "&= \\sum_{k = 1}^{n} (a_{i k} a_{k j} + a_{i k} b_{k j} + b_{i k} a_{k j} + b_{i k} b_{k j}) \\\\\n",
    "&= \\sum_{k = 1}^{n} (a_{i k} a_{k j}) + \\sum_{k = 1}^{n} a_{i k} b_{k j} + \\sum_{k = 1}^{n} b_{i k} a_{k j} + \\sum_{k = 1}^{n} b_{i k} b_{k j}\n",
    "\\end{aligned}\n",
    "\\end{equation}\n",
    "$$\n",
    "\n",
    "Meanwhile, we know that\n",
    "\n",
    "- $A^2$ is a square matrix with the same size of $A$ and $B$, and its $i j$-component is $\\sum_{k = 1}^{n} a_{i k} a_{k j}$\n",
    "- $B^2$ is a square matrix with the same size of $A$ and $B$, and its $i j$-component is $\\sum_{k = 1}^{n} b_{i k} b_{k j}$\n",
    "- $A B$ is a square matrix with the same size of $A$ and $B$, and its $i j$-component is $\\sum_{k = 1}^{n} a_{i k} b_{k j}$\n",
    "- $B A$ is a square matrix with the same size of $A$ and $B$, and its $i j$-component is $\\sum_{k = 1}^{n} b_{i k} a_{k j}$\n",
    "\n",
    "Since it is assumed that $A B = B A$, then\n",
    "$$\n",
    "(A + B)^2 = A^2 + A B + B A + B^2 = A^2 + 2 A B + B^2\n",
    "$$\n",
    "\n",
    "And\n",
    "\n",
    "$$\n",
    "\\begin{equation}\n",
    "\\begin{aligned}\n",
    "(A + B) (A - B) &= (A + B) (A + (-1 B)) \\\\\n",
    "&= (A + B) A + (A + B) (-1 B) \\\\\n",
    "&= (A + B) A + (-1) (A + B) B \\\\\n",
    "&= (A + B) A - (A + B) B \\\\\n",
    "\\end{aligned}\n",
    "\\end{equation}\n",
    "$$\n",
    "\n",
    "Then $(A + B) (A - B) = (A + B) A - (A + B) B$ is a square matrix with the same size of $A$ and $B$, and its $i j$-component is\n",
    "\n",
    "$$\n",
    "\\begin{equation}\n",
    "\\begin{aligned}\n",
    "\\sum_{k = 1}^{n} (a_{i k} + b_{i k}) a_{k j} - \\sum_{k = 1}^{n} (a_{i k} + b_{i k}) b_{k j} &= \\sum_{k = 1}^{n} (a_{i k} + b_{i k}) (a_{k j} - b_{k j}) \\\\\n",
    "&= \\sum_{k = 1}^{n} (a_{i k} a_{k j} - a_{i k} b_{k j} + b_{i k} a_{k j} - b_{i k} b_{k j}) \\\\\n",
    "&= \\sum_{k = 1}^{n} (a_{i k} a_{k j}) - \\sum_{k = 1}^{n} a_{i k} b_{k j} + \\sum_{k = 1}^{n} b_{i k} a_{k j} - \\sum_{k = 1}^{n} b_{i k} b_{k j}\n",
    "\\end{aligned}\n",
    "\\end{equation}\n",
    "$$\n",
    "\n",
    "Since it is assumed that $A B = B A$, then\n",
    "$$\n",
    "(A + B) (A - B) = A^2 - A B + B A - B^2 = A^2 - B^2\n",
    "$$\n",
    "\n",
    "Q.E.D."
   ]
  },
  {
   "cell_type": "markdown",
   "metadata": {},
   "source": [
    "## 5.\n",
    "\n",
    "Let\n",
    "\n",
    "$$\n",
    "A = \\begin{pmatrix}\n",
    "1 & 2 \\\\\n",
    "3 & -1\n",
    "\\end{pmatrix},\n",
    "B = \\begin{pmatrix}\n",
    "2 & 0 \\\\\n",
    "1 & 1\n",
    "\\end{pmatrix}\n",
    "$$\n",
    "\n",
    "Find $A B$ and $B A$.\n",
    "\n",
    "### Solution\n",
    "\n",
    "$$\n",
    "\\begin{equation}\n",
    "\\begin{aligned}\n",
    "A B &= \\begin{pmatrix}\n",
    "1 & 2 \\\\\n",
    "3 & -1\n",
    "\\end{pmatrix}\n",
    "\\begin{pmatrix}\n",
    "2 & 0 \\\\\n",
    "1 & 1\n",
    "\\end{pmatrix} \\\\\n",
    "&= \\begin{pmatrix}\n",
    "4 & 2 \\\\\n",
    "5 & -1\n",
    "\\end{pmatrix}\n",
    "\\end{aligned}\n",
    "\\end{equation}\n",
    "$$\n",
    "\n",
    "$$\n",
    "\\begin{equation}\n",
    "\\begin{aligned}\n",
    "B A &= \\begin{pmatrix}\n",
    "2 & 0 \\\\\n",
    "1 & 1\n",
    "\\end{pmatrix}\n",
    "\\begin{pmatrix}\n",
    "1 & 2 \\\\\n",
    "3 & -1\n",
    "\\end{pmatrix}\\\\\n",
    "&= \\begin{pmatrix} \n",
    "2 & 4 \\\\\n",
    "4 & 1\n",
    "\\end{pmatrix}\n",
    "\\end{aligned}\n",
    "\\end{equation}\n",
    "$$"
   ]
  },
  {
   "cell_type": "code",
   "execution_count": 1,
   "metadata": {},
   "outputs": [
    {
     "data": {
      "text/plain": [
       "matrix([[ 4,  2],\n",
       "        [ 5, -1]])"
      ]
     },
     "execution_count": 1,
     "metadata": {},
     "output_type": "execute_result"
    }
   ],
   "source": [
    "## Verify with numpy\n",
    "\n",
    "import numpy as np\n",
    "\n",
    "A = np.matrix([[1, 2], [3, -1]])\n",
    "B = np.matrix([[2, 0], [1, 1]])\n",
    "\n",
    "A.dot(B)"
   ]
  },
  {
   "cell_type": "code",
   "execution_count": 2,
   "metadata": {},
   "outputs": [
    {
     "data": {
      "text/plain": [
       "matrix([[2, 4],\n",
       "        [4, 1]])"
      ]
     },
     "execution_count": 2,
     "metadata": {},
     "output_type": "execute_result"
    }
   ],
   "source": [
    "B.dot(A)"
   ]
  },
  {
   "cell_type": "markdown",
   "metadata": {},
   "source": [
    "## 6.\n",
    "\n",
    "Let\n",
    "\n",
    "$$\n",
    "C = \\begin{pmatrix}\n",
    "7 & 0 \\\\\n",
    "0 & 7\n",
    "\\end{pmatrix}\n",
    "$$\n",
    "\n",
    "Let $A, B$ be as in Exercise 5. Find $CA, AC, CB$, and $BC$. State the general rule including this exercise as a special case.\n",
    "\n",
    "### Solutions\n",
    "\n",
    "$$\n",
    "\\begin{equation}\n",
    "\\begin{aligned}\n",
    "C A &= \\begin{pmatrix}\n",
    "7 & 0 \\\\\n",
    "0 & 7\n",
    "\\end{pmatrix}\n",
    "\\begin{pmatrix}\n",
    "1 & 2 \\\\\n",
    "3 & -1\n",
    "\\end{pmatrix} \\\\\n",
    "&= \\begin{pmatrix}\n",
    "7 & 14 \\\\\n",
    "21 & -7\n",
    "\\end{pmatrix} \\\\\n",
    "&= 7 A\n",
    "\\end{aligned}\n",
    "\\end{equation}\n",
    "$$\n",
    "\n",
    "$$\n",
    "\\begin{equation}\n",
    "\\begin{aligned}\n",
    "A C &= \\begin{pmatrix}\n",
    "1 & 2 \\\\\n",
    "3 & -1\n",
    "\\end{pmatrix}\n",
    "\\begin{pmatrix}\n",
    "7 & 0 \\\\\n",
    "0 & 7\n",
    "\\end{pmatrix} \\\\\n",
    "&= \\begin{pmatrix}\n",
    "7 & 14 \\\\\n",
    "21 & - 7\n",
    "\\end{pmatrix} \\\\\n",
    "&= 7 A\n",
    "\\end{aligned}\n",
    "\\end{equation}\n",
    "$$\n",
    "\n",
    "$$\n",
    "\\begin{equation}\n",
    "\\begin{aligned}\n",
    "C B &= \\begin{pmatrix}\n",
    "7 & 0 \\\\\n",
    "0 & 7\n",
    "\\end{pmatrix}\n",
    "\\begin{pmatrix}\n",
    "2 & 0 \\\\\n",
    "1 & 1\n",
    "\\end{pmatrix} \\\\\n",
    "&= \\begin{pmatrix}\n",
    "14 & 0 \\\\\n",
    "7 & 7\n",
    "\\end{pmatrix} \\\\\n",
    "&= 7 B\n",
    "\\end{aligned}\n",
    "\\end{equation}\n",
    "$$\n",
    "\n",
    "$$\n",
    "\\begin{equation}\n",
    "\\begin{aligned}\n",
    "B C &= \\begin{pmatrix}\n",
    "2 & 0 \\\\\n",
    "1 & 1\n",
    "\\end{pmatrix}\n",
    "\\begin{pmatrix}\n",
    "7 & 0 \\\\\n",
    "0 & 7\n",
    "\\end{pmatrix} \\\\\n",
    "&= \\begin{pmatrix}\n",
    "14 & 0 \\\\\n",
    "7 & 7\n",
    "\\end{pmatrix} \\\\\n",
    "&= 7 B\n",
    "\\end{aligned}\n",
    "\\end{equation}\n",
    "$$\n",
    "\n",
    "We also see that $C = 7 I_2$."
   ]
  },
  {
   "cell_type": "code",
   "execution_count": 3,
   "metadata": {},
   "outputs": [
    {
     "data": {
      "text/plain": [
       "array([[7., 0.],\n",
       "       [0., 7.]])"
      ]
     },
     "execution_count": 3,
     "metadata": {},
     "output_type": "execute_result"
    }
   ],
   "source": [
    "## Verify with numpy\n",
    "\n",
    "C = 7 * np.eye(2)\n",
    "\n",
    "C"
   ]
  },
  {
   "cell_type": "code",
   "execution_count": 4,
   "metadata": {},
   "outputs": [
    {
     "name": "stdout",
     "output_type": "stream",
     "text": [
      "C * A = [[ 7. 14.]\n",
      " [21. -7.]]\n",
      "A * C = [[ 7. 14.]\n",
      " [21. -7.]]\n",
      "C * B = [[14.  0.]\n",
      " [ 7.  7.]]\n",
      "B * C = [[14.  0.]\n",
      " [ 7.  7.]]\n"
     ]
    }
   ],
   "source": [
    "print(f'C * A = {C * A}')\n",
    "print(f'A * C = {A * C}')\n",
    "print(f'C * B = {C * B}')\n",
    "print(f'B * C = {B * C}')"
   ]
  },
  {
   "cell_type": "markdown",
   "metadata": {},
   "source": [
    "#### Generalization\n",
    "\n",
    "Let $A$ be $n \\times n$ square matrices of field $K$. Let $c \\in K$, and $C = c I_n$.\n",
    "\n",
    "Show that $C A = c A$ and $A C = c A$.\n",
    "\n",
    "**Proof**\n",
    "\n",
    "First, we show $C_n A = c A$:\n",
    "\n",
    "$$\n",
    "C A = (c I_n) A = c (I_n A) = c A\n",
    "$$\n",
    "\n",
    "Then, we show $A C_n = c A$:\n",
    "\n",
    "$$\n",
    "A C = A (c I_n)\n",
    "$$\n",
    "\n",
    "From [Theorem 3.1.](../2_3_multiplication_of_matrices.ipynb#Theorem-3.1.), we have\n",
    "\n",
    "$$\n",
    "A (c I_n) = c (A I_n) = c A\n",
    "$$\n",
    "\n",
    "Hence $A C = c A$.\n",
    "\n",
    "Q.E.D."
   ]
  },
  {
   "cell_type": "markdown",
   "metadata": {},
   "source": [
    "## 7.\n",
    "\n",
    "Let $X = (1, 0, 0)$ and let\n",
    "\n",
    "$$\n",
    "A = \\begin{pmatrix}\n",
    "3 & 1 & 5 \\\\\n",
    "2 & 0 & 1 \\\\\n",
    "1 & 1 & 7\n",
    "\\end{pmatrix}\n",
    "$$\n",
    "\n",
    "What is $X A$?\n",
    "\n",
    "### Solution\n",
    "\n",
    "$$\n",
    "\\begin{equation}\n",
    "\\begin{aligned}\n",
    "X A &= (1, 0, 0)\n",
    "\\begin{pmatrix}\n",
    "3 & 1 & 5 \\\\\n",
    "2 & 0 & 1 \\\\\n",
    "1 & 1 & 7\n",
    "\\end{pmatrix} \\\\\n",
    "&= (3, 1, 5)\n",
    "\\end{aligned}\n",
    "\\end{equation}\n",
    "$$"
   ]
  },
  {
   "cell_type": "code",
   "execution_count": 5,
   "metadata": {},
   "outputs": [
    {
     "data": {
      "text/plain": [
       "matrix([[3, 1, 5]])"
      ]
     },
     "execution_count": 5,
     "metadata": {},
     "output_type": "execute_result"
    }
   ],
   "source": [
    "## Verify with numpy\n",
    "\n",
    "X = [1, 0, 0]\n",
    "A = np.matrix([[3, 1, 5], [2, 0, 1], [1, 1, 7]])\n",
    "\n",
    "X * A"
   ]
  },
  {
   "cell_type": "markdown",
   "metadata": {},
   "source": [
    "## 8. Let $X = (0,1,0)$, and let $A$ be an arbitrary $3 \\times 3$ matrix. How would you describe $X A$? What if $X = (0, 0, 1)$? Generalize to similar statements concerning $n \\times n$ matrices, and their products with unit vectors.\n",
    "\n",
    "### Generalization\n",
    "\n",
    "Let $A = (a_{i j})$ be a square $n \\times n$ matrix. Let $X$ be the $n$-length unit vector with $i$-th coordinate be $1$.\n",
    "\n",
    "Show that $X A = (a_{i 1}, ..., a_{i n})$, which is the $i$-th row of $A$.\n",
    "\n",
    "**Proof**\n",
    "\n",
    "We can see $X$ as a $1 \\times n$ matrix.\n",
    "\n",
    "Then $X A$ is a $1 \\times n$ matrix, aka a $n$-length vector, and its $j$-th component is\n",
    "\n",
    "$$\n",
    "0 a_{1 j} + ... + 0 a_{(i - 1) j} + 1 a_{i j} + 0 a_{(i + 1) j} + ... + 0 a_{n j} = a_{i j}\n",
    "$$\n",
    "\n",
    "Hence $X A = (a_{i 1}, ... a_{i n})$. Q.E.D."
   ]
  },
  {
   "cell_type": "markdown",
   "metadata": {},
   "source": [
    "## 9. Prove (Skip)... If A, B, C are matrices which can be multiplied, show that $^t(A B C) = ^tC ^tB ^tA$.\n",
    "\n",
    "### Proof\n",
    "\n",
    "From [theorem 3.3](../2_3_multiplication_of_matrices.ipynb#Theorem-3.3.) we have\n",
    "\n",
    "$$\n",
    "^t(A B C) = ^t (A (B C)) = ^t (B C) ^tA = (^tC ^tB) ^tA\n",
    "$$\n",
    "\n",
    "And From [theorem 3.2](../2_3_multiplication_of_matrices.ipynb#Theorem-3.2.) we have\n",
    "\n",
    "$$\n",
    "(^tC ^tB) ^tA = ^tC (^tB ^tA) = ^tC ^tB ^tA\n",
    "$$\n",
    "\n",
    "Hence $^t(A B C) = ^tC ^tB ^tA$. Q.E.D."
   ]
  },
  {
   "cell_type": "markdown",
   "metadata": {},
   "source": [
    "## 10. Let $M$ be an $n \\times n$ matrix such that $^tM = M$. Given two row vectors in $n$- space, say $A$ and $B$ define $\\langle A, B \\rangle$ to be $AM ^tB$. (Identify a $1 \\times 1$ matrix with a number.) Show that the conditions of a scalar product are satisfied, except possibly the condition concerning positivity. Give an example of a matrix $M$ and vectors $A, B$ such that $AM ^tB$ is negative (taking $n = 2$).\n",
    "\n",
    "Note: It is understood that by \"the conditions of a scalar product\" Lang refers to [SP 1, 2, 3 in chapter 1](../../1_vector_spaces/1_vector_spaces.ipynb#Properties-of-dot-products).\n",
    "\n",
    "Hence we need to show\n",
    "- **SP 1**. $\\langle A, B \\rangle = \\langle B, A \\rangle$\n",
    "- **SP 2**. Let $C$ be row vectors in $n$-space. $\\langle A, B + C \\rangle = \\langle A, B \\rangle + \\langle A, C \\rangle$.\n",
    "- **SP 3**. Let $K$ be the field under $A$ and $B$. Let $x \\in K$, then\n",
    "$$\n",
    "\\langle x A, B \\rangle = x \\langle A, B \\rangle = \\langle A, x B \\rangle\n",
    "$$\n",
    "\n",
    "### Proof\n",
    "\n",
    "#### SP 1\n",
    "\n",
    "$$\n",
    "\\begin{equation}\n",
    "\\begin{aligned}\n",
    "\\langle A, B \\rangle &= AM ^tB \\\\\n",
    "&= ^t(^tA) ^t(^tM) ^tB \\\\\n",
    "&= ^t(B ^tM ^tA) & \\text{Conclusion of Exercise 9.} \\\\\n",
    "&= B ^tM ^tA & \\text{Since $AM ^tB$ is a $1 \\times 1$ matrix.} \\\\\n",
    "&= B M ^tA &\\text{Since $^tM = M$}. \\\\\n",
    "&= \\langle B, A \\rangle\n",
    "\\end{aligned}\n",
    "\\end{equation}\n",
    "$$\n",
    "\n",
    "#### SP 2\n",
    "\n",
    "$$\n",
    "\\langle A, B + C \\rangle = AM ^t(B + C)\n",
    "$$\n",
    "\n",
    "From the [conclusion of exercise 2.1.5](2.1_exercises.ipynb#5.-If-A,-B-are-arbitrary-m-x-n-matrices,-show-that), we have\n",
    "\n",
    "$$\n",
    "AM ^t(B + C) = AM (^tB + ^tC)\n",
    "$$\n",
    "\n",
    "And from [theorem 3.1](../2_3_multiplication_of_matrices.ipynb#Theorem-3.1.), we have\n",
    "\n",
    "$$\n",
    "AM (^tB + ^tC) = AM ^tB + AM ^tC = \\langle A, B \\rangle + \\langle A, C \\rangle\n",
    "$$\n",
    "\n",
    "Hence\n",
    "\n",
    "$$\n",
    "\\langle A, B + C \\rangle = \\langle A, B \\rangle + \\langle A, C \\rangle\n",
    "$$\n",
    "\n",
    "#### SP 3\n",
    "\n",
    "$$\n",
    "\\langle x A, B \\rangle = (x A) M ^tB\n",
    "$$\n",
    "\n",
    "And from [theorem 3.1](../2_3_multiplication_of_matrices.ipynb#Theorem-3.1.), we have\n",
    "\n",
    "\n",
    "$$\n",
    "(x A) M ^tB = x (A M ^tB) = x \\langle A, B \\rangle\n",
    "$$\n",
    "\n",
    "And\n",
    "\n",
    "$$\n",
    "\\langle A, x B \\rangle = A M ^t (x B)\n",
    "$$\n",
    "\n",
    "And from [theorem 3.1](../2_3_multiplication_of_matrices.ipynb#Theorem-3.1.), we have\n",
    "\n",
    "$$\n",
    "A M ^t (x B) = x (A M ^t B) = x \\langle A, B \\rangle\n",
    "$$\n",
    "\n",
    "Hence\n",
    "\n",
    "$$\n",
    "\\langle x A, B \\rangle = x \\langle A, B \\rangle = \\langle A, x B \\rangle\n",
    "$$\n",
    "\n",
    "Q.E.D.\n",
    "\n",
    "> Give an example of a matrix $M$ and vectors $A, B$ such that $AM ^tB$ is negative (taking $n = 2$)."
   ]
  },
  {
   "cell_type": "code",
   "execution_count": 6,
   "metadata": {},
   "outputs": [
    {
     "data": {
      "text/plain": [
       "matrix([[-3]])"
      ]
     },
     "execution_count": 6,
     "metadata": {},
     "output_type": "execute_result"
    }
   ],
   "source": [
    "A = np.matrix([1, 2])\n",
    "M = np.matrix([[1, 0], [0, 1]])\n",
    "B = np.matrix([-1, -1])\n",
    "\n",
    "A * M * np.transpose(B)"
   ]
  },
  {
   "cell_type": "markdown",
   "metadata": {},
   "source": [
    "## 11.\n",
    "\n",
    "(a) Let $A$ be the matrix\n",
    "\n",
    "$$\n",
    "\\begin{pmatrix}\n",
    "0 & 1 & 1 \\\\\n",
    "0 & 0 & 1 \\\\\n",
    "0 & 0 & 0 \\\\\n",
    "\\end{pmatrix}\n",
    "$$\n",
    "\n",
    "Find $A^2 , A^3$. Generalize to $n \\times n$ matrices.\n",
    "\n",
    "### Solution\n",
    "\n",
    "$$\n",
    "\\begin{equation}\n",
    "\\begin{aligned}\n",
    "A^2 &= A A \\\\\n",
    "&= \\begin{pmatrix}\n",
    "0 & 1 & 1 \\\\\n",
    "0 & 0 & 1 \\\\\n",
    "0 & 0 & 0 \\\\\n",
    "\\end{pmatrix}\n",
    "\\begin{pmatrix}\n",
    "0 & 1 & 1 \\\\\n",
    "0 & 0 & 1 \\\\\n",
    "0 & 0 & 0 \\\\\n",
    "\\end{pmatrix} \\\\\n",
    "&= \\begin{pmatrix}\n",
    "0 & 0 & 1 \\\\\n",
    "0 & 0 & 0 \\\\\n",
    "0 & 0 & 0\n",
    "\\end{pmatrix}\n",
    "\\end{aligned}\n",
    "\\end{equation}\n",
    "$$\n",
    "\n",
    "$$\n",
    "\\begin{equation}\n",
    "\\begin{aligned}\n",
    "A^3 &= A A^2 \\\\\n",
    "&= \\begin{pmatrix}\n",
    "0 & 1 & 1 \\\\\n",
    "0 & 0 & 1 \\\\\n",
    "0 & 0 & 0 \\\\\n",
    "\\end{pmatrix}\n",
    "\\begin{pmatrix}\n",
    "0 & 0 & 1 \\\\\n",
    "0 & 0 & 0 \\\\\n",
    "0 & 0 & 0\n",
    "\\end{pmatrix} \\\\\n",
    "&= \\begin{pmatrix}\n",
    "0 & 0 & 0 \\\\\n",
    "0 & 0 & 0 \\\\\n",
    "0 & 0 & 0\n",
    "\\end{pmatrix}\n",
    "\\end{aligned}\n",
    "\\end{equation}\n",
    "$$"
   ]
  },
  {
   "cell_type": "code",
   "execution_count": 7,
   "metadata": {},
   "outputs": [
    {
     "name": "stdout",
     "output_type": "stream",
     "text": [
      "[[0 0 1]\n",
      " [0 0 0]\n",
      " [0 0 0]]\n",
      "[[0 0 0]\n",
      " [0 0 0]\n",
      " [0 0 0]]\n"
     ]
    }
   ],
   "source": [
    "A = np.matrix([[0, 1, 1], [0, 0, 1], [0, 0, 0]])\n",
    "print(A ** 2)\n",
    "print(A ** 3)"
   ]
  },
  {
   "cell_type": "code",
   "execution_count": 8,
   "metadata": {},
   "outputs": [
    {
     "name": "stdout",
     "output_type": "stream",
     "text": [
      "[[0 0 1 2]\n",
      " [0 0 0 1]\n",
      " [0 0 0 0]\n",
      " [0 0 0 0]]\n",
      "[[0 0 0 1]\n",
      " [0 0 0 0]\n",
      " [0 0 0 0]\n",
      " [0 0 0 0]]\n",
      "[[0 0 0 0]\n",
      " [0 0 0 0]\n",
      " [0 0 0 0]\n",
      " [0 0 0 0]]\n"
     ]
    }
   ],
   "source": [
    "## Genearlize to 4x4\n",
    "\n",
    "A = np.matrix([[0, 1, 1, 1], [0, 0, 1, 1], [0, 0, 0, 1], [0, 0, 0, 0]])\n",
    "\n",
    "print(A ** 2)\n",
    "print(A ** 3)\n",
    "print(A ** 4)"
   ]
  },
  {
   "cell_type": "markdown",
   "metadata": {},
   "source": [
    "(b) Let A be the matrix\n",
    "\n",
    "$$\n",
    "\\begin{pmatrix}\n",
    "1 & 1 & 1 \\\\\n",
    "0 & 1 & 1 \\\\\n",
    "0 & 0 & 1 \\\\\n",
    "\\end{pmatrix}\n",
    "$$\n",
    "\n",
    "Compute $A^2$, $A^3$, $A^4$."
   ]
  },
  {
   "cell_type": "code",
   "execution_count": 9,
   "metadata": {},
   "outputs": [
    {
     "name": "stdout",
     "output_type": "stream",
     "text": [
      "[[1 2 3]\n",
      " [0 1 2]\n",
      " [0 0 1]]\n",
      "[[1 3 6]\n",
      " [0 1 3]\n",
      " [0 0 1]]\n",
      "[[ 1  4 10]\n",
      " [ 0  1  4]\n",
      " [ 0  0  1]]\n"
     ]
    }
   ],
   "source": [
    "A = np.matrix([[1, 1, 1], [0, 1, 1], [0, 0, 1]])\n",
    "\n",
    "print(A ** 2)\n",
    "print(A ** 3)\n",
    "print(A ** 4)"
   ]
  },
  {
   "cell_type": "markdown",
   "metadata": {},
   "source": [
    "## 12. Let $X$ be the indicated column vector, and $A$ the indicated matrix. Find $AX$ as a column vector.\n",
    "\n",
    "(a) $X = \\begin{pmatrix} 3 \\\\ 2 \\\\ 1 \\end{pmatrix}, A = \\begin{pmatrix} 1 & 0 & 1 \\\\ 2 & 0 & 1 \\\\ 2 & 0 & -1 \\end{pmatrix}$"
   ]
  },
  {
   "cell_type": "code",
   "execution_count": 10,
   "metadata": {},
   "outputs": [
    {
     "data": {
      "text/plain": [
       "matrix([[4],\n",
       "        [7],\n",
       "        [5]])"
      ]
     },
     "execution_count": 10,
     "metadata": {},
     "output_type": "execute_result"
    }
   ],
   "source": [
    "X = np.matrix([[3], [2], [1]])\n",
    "A = np.matrix([[1, 0, 1], [2, 0, 1], [2, 0, -1]])\n",
    "\n",
    "A * X"
   ]
  },
  {
   "cell_type": "markdown",
   "metadata": {},
   "source": [
    "(b) $X = \\begin{pmatrix} 1 \\\\ 1 \\\\ 0 \\end{pmatrix}, A = \\begin{pmatrix} 2 & 1 & 5 \\\\ 0 & 1 & 1 \\end{pmatrix}$"
   ]
  },
  {
   "cell_type": "code",
   "execution_count": 11,
   "metadata": {},
   "outputs": [
    {
     "data": {
      "text/plain": [
       "matrix([[3],\n",
       "        [1]])"
      ]
     },
     "execution_count": 11,
     "metadata": {},
     "output_type": "execute_result"
    }
   ],
   "source": [
    "X = np.matrix([[1], [1], [0]])\n",
    "A = np.matrix([[2, 1, 5], [0, 1, 1]])\n",
    "\n",
    "A * X"
   ]
  },
  {
   "cell_type": "markdown",
   "metadata": {},
   "source": [
    "(c) $X = \\begin{pmatrix} x_1 \\\\ x_2 \\\\ x_3 \\end{pmatrix}, A = \\begin{pmatrix} 0 & 1 & 0 \\\\ 0 & 0 & 0 \\end{pmatrix}$"
   ]
  },
  {
   "cell_type": "code",
   "execution_count": 12,
   "metadata": {},
   "outputs": [
    {
     "data": {
      "text/latex": [
       "$$\\left[\\begin{matrix}x_{2}\\\\0\\end{matrix}\\right]$$"
      ],
      "text/plain": [
       "⎡x₂⎤\n",
       "⎢  ⎥\n",
       "⎣0 ⎦"
      ]
     },
     "execution_count": 12,
     "metadata": {},
     "output_type": "execute_result"
    }
   ],
   "source": [
    "from sympy import Matrix, symbols, init_printing\n",
    "\n",
    "init_printing()\n",
    "\n",
    "x_1, x_2, x_3 = symbols('x_1 x_2 x_3')\n",
    "\n",
    "X = Matrix([[x_1], [x_2], [x_3]])\n",
    "A = Matrix([[0, 1, 0], [0, 0, 0]])\n",
    "\n",
    "A * X"
   ]
  },
  {
   "cell_type": "markdown",
   "metadata": {},
   "source": [
    "(d) $X = \\begin{pmatrix} x_1 \\\\ x_2 \\\\ x_3 \\end{pmatrix}, A = \\begin{pmatrix} 0 & 0 & 0 \\\\ 1 & 0 & 0 \\end{pmatrix}$"
   ]
  },
  {
   "cell_type": "code",
   "execution_count": 13,
   "metadata": {},
   "outputs": [
    {
     "data": {
      "text/latex": [
       "$$\\left[\\begin{matrix}x_{1}\\\\0\\end{matrix}\\right]$$"
      ],
      "text/plain": [
       "⎡x₁⎤\n",
       "⎢  ⎥\n",
       "⎣0 ⎦"
      ]
     },
     "execution_count": 13,
     "metadata": {},
     "output_type": "execute_result"
    }
   ],
   "source": [
    "A = Matrix([[1, 0, 0], [0, 0, 0]])\n",
    "\n",
    "A * X"
   ]
  },
  {
   "cell_type": "markdown",
   "metadata": {},
   "source": [
    "## 13.\n",
    "\n",
    "Let\n",
    "\n",
    "$$\n",
    "A = \\begin{pmatrix}\n",
    "2 & 1 & 3 \\\\\n",
    "4 & 1 & 5\n",
    "\\end{pmatrix}\n",
    "$$\n",
    "\n",
    "Find $A X$ for each of the following values of $X$.\n",
    "\n",
    "$$\n",
    "\\begin{equation}\n",
    "\\begin{aligned}\n",
    "(a) \\ \\ \\ \\ X &= \\begin{pmatrix}\n",
    "1 \\\\\n",
    "0 \\\\\n",
    "0\n",
    "\\end{pmatrix} &&\n",
    "(b) \\ \\ \\ \\ X &= \\begin{pmatrix}\n",
    "0 \\\\\n",
    "1 \\\\\n",
    "1\n",
    "\\end{pmatrix} &&\n",
    "(c) \\ \\ \\ \\ X &= \\begin{pmatrix}\n",
    "0 \\\\\n",
    "0 \\\\\n",
    "1\n",
    "\\end{pmatrix}\n",
    "\\end{aligned}\n",
    "\\end{equation}\n",
    "$$\n",
    "\n"
   ]
  },
  {
   "cell_type": "code",
   "execution_count": 14,
   "metadata": {},
   "outputs": [],
   "source": [
    "A = np.matrix([[2, 1, 3], [4, 1, 5]])"
   ]
  },
  {
   "cell_type": "markdown",
   "metadata": {},
   "source": [
    "### Solution\n",
    "\n",
    "For (a):\n",
    "\n",
    "$$\n",
    "\\begin{equation}\n",
    "\\begin{aligned}\n",
    "A X &= \\begin{pmatrix}\n",
    "2 & 1 & 3 \\\\\n",
    "4 & 1 & 5\n",
    "\\end{pmatrix}\n",
    "\\begin{pmatrix}\n",
    "1 \\\\\n",
    "0 \\\\\n",
    "0\n",
    "\\end{pmatrix} \\\\\n",
    "&= 1 \\begin{pmatrix}\n",
    "2 \\\\\n",
    "4\n",
    "\\end{pmatrix}\n",
    "+ 0 \\begin{pmatrix}\n",
    "1 \\\\\n",
    "1\n",
    "\\end{pmatrix}\n",
    "+ 0 \\begin{pmatrix}\n",
    "3 \\\\\n",
    "5\n",
    "\\end{pmatrix} \\\\\n",
    "&= \\begin{pmatrix}\n",
    "2 \\\\\n",
    "4\n",
    "\\end{pmatrix}\n",
    "\\end{aligned}\n",
    "\\end{equation}\n",
    "$$"
   ]
  },
  {
   "cell_type": "code",
   "execution_count": 16,
   "metadata": {},
   "outputs": [
    {
     "data": {
      "text/plain": [
       "matrix([[2],\n",
       "        [4]])"
      ]
     },
     "execution_count": 16,
     "metadata": {},
     "output_type": "execute_result"
    }
   ],
   "source": [
    "## Verify with NumPy\n",
    "\n",
    "X = np.matrix([[1], [0], [0]])\n",
    "\n",
    "A * X"
   ]
  },
  {
   "cell_type": "markdown",
   "metadata": {},
   "source": [
    "For (b):\n",
    "\n",
    "$$\n",
    "\\begin{equation}\n",
    "\\begin{aligned}\n",
    "A X &= \\begin{pmatrix}\n",
    "2 & 1 & 3 \\\\\n",
    "4 & 1 & 5\n",
    "\\end{pmatrix}\n",
    "\\begin{pmatrix}\n",
    "0 \\\\\n",
    "1 \\\\\n",
    "1\n",
    "\\end{pmatrix} \\\\\n",
    "&= 0 \\begin{pmatrix}\n",
    "2 \\\\\n",
    "4\n",
    "\\end{pmatrix}\n",
    "+ 1 \\begin{pmatrix}\n",
    "1 \\\\\n",
    "1\n",
    "\\end{pmatrix}\n",
    "+ 1 \\begin{pmatrix}\n",
    "3 \\\\\n",
    "5\n",
    "\\end{pmatrix} \\\\\n",
    "&= \\begin{pmatrix}\n",
    "4 \\\\\n",
    "6\n",
    "\\end{pmatrix}\n",
    "\\end{aligned}\n",
    "\\end{equation}\n",
    "$$"
   ]
  },
  {
   "cell_type": "code",
   "execution_count": 17,
   "metadata": {},
   "outputs": [
    {
     "data": {
      "text/plain": [
       "matrix([[4],\n",
       "        [6]])"
      ]
     },
     "execution_count": 17,
     "metadata": {},
     "output_type": "execute_result"
    }
   ],
   "source": [
    "X = np.matrix([[0], [1], [1]])\n",
    "\n",
    "A * X"
   ]
  },
  {
   "cell_type": "markdown",
   "metadata": {},
   "source": [
    "For (c):\n",
    "\n",
    "$$\n",
    "\\begin{equation}\n",
    "\\begin{aligned}\n",
    "A X &= \\begin{pmatrix}\n",
    "2 & 1 & 3 \\\\\n",
    "4 & 1 & 5\n",
    "\\end{pmatrix}\n",
    "\\begin{pmatrix}\n",
    "0 \\\\\n",
    "0 \\\\\n",
    "1\n",
    "\\end{pmatrix} \\\\\n",
    "&= 0 \\begin{pmatrix}\n",
    "2 \\\\\n",
    "4\n",
    "\\end{pmatrix}\n",
    "+ 0 \\begin{pmatrix}\n",
    "1 \\\\\n",
    "1\n",
    "\\end{pmatrix}\n",
    "+ 1 \\begin{pmatrix}\n",
    "3 \\\\\n",
    "5\n",
    "\\end{pmatrix} \\\\\n",
    "&= \\begin{pmatrix}\n",
    "3 \\\\\n",
    "5\n",
    "\\end{pmatrix}\n",
    "\\end{aligned}\n",
    "\\end{equation}\n",
    "$$"
   ]
  },
  {
   "cell_type": "code",
   "execution_count": 18,
   "metadata": {},
   "outputs": [
    {
     "data": {
      "text/plain": [
       "matrix([[3],\n",
       "        [5]])"
      ]
     },
     "execution_count": 18,
     "metadata": {},
     "output_type": "execute_result"
    }
   ],
   "source": [
    "X = np.matrix([[0], [0], [1]])\n",
    "\n",
    "A * X"
   ]
  },
  {
   "cell_type": "markdown",
   "metadata": {},
   "source": [
    "## 16. Let $X$ be a column vector having all its components equal to $0$ except the $i$-th component which is equal to $1$. Let $A$ be an arbitrary matrix, whose size is such that we can form the product $A X$. What is $A X$?\n",
    "\n",
    "### Solution\n",
    "\n",
    "$A X$ is be the $i$-th column of $A$."
   ]
  },
  {
   "cell_type": "markdown",
   "metadata": {},
   "source": [
    "## 17. Let $A =(a_{i j})$, $i = 1,...,m$ and $j = 1,...,n$ be an $m \\times n$ matrix. Let $B =(b_{j k})$, $j = 1, ..., n$ and $k=1, ..., s$ be an $n \\times s$matrix. Let $AB = C$. Show that the $k$-th column $C^k$ can be written\n",
    "\n",
    "$$\n",
    "C^k = b_{1 k} A^1 + ... + b_{n k} A^n\n",
    "$$\n",
    "\n",
    "### Proof\n",
    "\n",
    "Let $c_{i k}$ be the $i j$-component of $C$. Then we know\n",
    "\n",
    "$$\n",
    "c_{i k} = \\sum_{j = 1}^{n} a_{i j} b_{j k}\n",
    "$$\n",
    "\n",
    "Then the $k$-th column $C^k$ is\n",
    "\n",
    "$$\n",
    "\\begin{equation}\n",
    "\\begin{aligned}\n",
    "C^k &= \\begin{pmatrix}\n",
    "c_{1 k} \\\\\n",
    "\\vdots \\\\\n",
    "c_{n k}\n",
    "\\end{pmatrix} \\\\\n",
    "&= \\begin{pmatrix}\n",
    "\\sum_{j = 1}^{n} a_{1 j} b_{j k} \\\\\n",
    "\\vdots \\\\\n",
    "\\sum_{j = 1}^{n} a_{n j} b_{j k} \\\\\n",
    "\\end{pmatrix} \\\\\n",
    "&= \\sum_{j = 1}^{n} \\begin{pmatrix}\n",
    "a_{1 j} b_{j k} \\\\\n",
    "\\vdots \\\\\n",
    "a_{n j} b_{j k} \\\\\n",
    "\\end{pmatrix} \\\\\n",
    "&= \\sum_{j = 1}^{n} b_{j k} \\begin{pmatrix}\n",
    "a_{1 j} \\\\\n",
    "\\vdots \\\\\n",
    "a_{n j} \\\\\n",
    "\\end{pmatrix} \\\\\n",
    "&= \\sum_{j = 1}^{n} b_{j k} A^j \\\\\n",
    "&= b_{1 k} A^1 + ... b_{n k} A^n\n",
    "\\end{aligned}\n",
    "\\end{equation}\n",
    "$$\n",
    "\n",
    "Q.E.D."
   ]
  },
  {
   "cell_type": "markdown",
   "metadata": {},
   "source": [
    "## 18. Let $A$ be a square matrix."
   ]
  },
  {
   "cell_type": "markdown",
   "metadata": {},
   "source": [
    "### (a) If $A^2=\\mathit{0}$ show that $I - A$ is invertible.\n",
    "\n",
    "#### Proof\n",
    "\n",
    "Since $A I = I A = A$, and we have $(- A) I = - A = - (A I) = - (I A) = I (- A)$ by [theorem 3.1](../2_3_multiplication_of_matrices.ipynb#Theorem-3.1.).\n",
    "\n",
    "Thus from the conclusion of [exercise 4](#4.) we have\n",
    "\n",
    "$$\n",
    "(I + A) (I - A) = I^2 - A^2 = I\n",
    "$$\n",
    "\n",
    "and\n",
    "\n",
    "$$\n",
    "(I - A) (I + A) = (I + (- A)) (I - (- A)) = I^2 - (-A)^2 = I^2 - A^2 = I^2\n",
    "$$\n",
    "\n",
    "Hence $I - A$ is invertible and its inverse is $I + A$. Q.E.D."
   ]
  },
  {
   "cell_type": "markdown",
   "metadata": {},
   "source": [
    "### (b) If $A^3=\\mathit{0}$ show that $I - A$ is invertible.\n",
    "\n",
    "#### Proof\n",
    "\n",
    "$$\n",
    "\\begin{equation}\n",
    "\\begin{aligned}\n",
    "(I - A) (I + A + A^2) &= (I^2 + I A + I A^2) - (A I + A^2 + A^3) \\\\\n",
    "&= (I + A + A^2) - (A + A^2 + A^3) \\\\ \n",
    "&= I + (A - A) + (A^2 - A^2) - A^3 \\\\\n",
    "&= I\n",
    "\\end{aligned}\n",
    "\\end{equation}\n",
    "$$\n",
    "\n",
    "and\n",
    "\n",
    "$$\n",
    "\\begin{equation}\n",
    "\\begin{aligned}\n",
    "(I + A + A^2) (I - A) &= (I^2 + A I + A^2 I) - (I A + A^2 + A^3) \\\\\n",
    "&= (I + A + A^2) - (A + A^2 + A^3) \\\\\n",
    "&= I + (A - A) + (A^2 - A^2) - A^3 \\\\\n",
    "&= I\n",
    "\\end{aligned}\n",
    "\\end{equation}\n",
    "$$\n",
    "\n",
    "Hence $I - A$ is invertible and its inverse is $I + A + A^2$. Q.E.D."
   ]
  },
  {
   "cell_type": "markdown",
   "metadata": {},
   "source": [
    "### (c) In general, if $A^n = 0$ for some positive integer $n$, show that $I - A$ is invertible.\n",
    "\n",
    "#### Proof\n",
    "\n",
    "$$\n",
    "\\begin{equation}\n",
    "\\begin{aligned}\n",
    "(I - A) (I + A + A^2 + ... + A^{n - 1}) &= I (I + A + A^2 + ... + A^{n - 1}) - A (I + A + A^2 + ... + A^{n - 2} + A^{n - 1}) \\\\\n",
    "&= (I^2 + I A + I A^2 + ... + I A^{n - 1}) - (A I + A^2 + A^3 + ... + A^{n - 1} + A^n) \\\\\n",
    "&= (I + A + A^2 + ... + A^{n - 1}) - (A + A^2 + ... + A^n) \\\\\n",
    "&= I - A^n \\\\\n",
    "&= I\n",
    "\\end{aligned}\n",
    "\\end{equation}\n",
    "$$\n",
    "\n",
    "$$\n",
    "\\begin{equation}\n",
    "\\begin{aligned}\n",
    "(I + A + A^2 + ... + A^{n - 1}) (I - A) &= (I + A + A^2 + ... + A^{n - 1}) I - (I + A + A^2 + ...+ A^{n - 2} + A^{n - 1}) A \\\\\n",
    "&= (I^2 + A I + A^2 I + .. + A^{n - 1} I) - (I A + A^2 + A^3 + ...+ A^{n - 1} + A^n) \\\\\n",
    "&= (I + A + A^2 + ... + A^{n - 1}) - (A + A^2 + A^3 + ... + A^{n - 1} + A^n) \\\\\n",
    "&= I - A^n \\\\\n",
    "&= I\n",
    "\\end{aligned}\n",
    "\\end{equation}\n",
    "$$\n",
    "\n",
    "Hence $I - A$ is invertible and its inverse is $I + A + A^2 + ... + A^{n - 1}$. Q.E.D."
   ]
  },
  {
   "cell_type": "markdown",
   "metadata": {},
   "source": [
    "### (d) Suppose that $A^2 + 2A + I = \\mathit{0}$. Show that $A$ is invertible.\n",
    "\n",
    "#### Proof\n",
    "\n",
    "$$\n",
    "\\begin{equation}\n",
    "\\begin{aligned}\n",
    "A^2 + 2 A + I &= \\mathit{0} \\\\\n",
    "- A^2 - 2 A &= I \\\\\n",
    "- A^2 - 2 A I &= I \\\\\n",
    "\\end{aligned}\n",
    "\\end{equation}\n",
    "$$\n",
    "\n",
    "Hence we have\n",
    "\n",
    "$$\n",
    "A (- A - 2 I) = I\n",
    "$$\n",
    "\n",
    "and\n",
    "\n",
    "$$\n",
    "(- A - 2 I) A = I\n",
    "$$\n",
    "\n",
    "Hence $A$ is invertible and its inverse is $(- A - 2 I)$. Q.E.D."
   ]
  },
  {
   "cell_type": "markdown",
   "metadata": {},
   "source": [
    "### (e) Suppose that $A^3 - A +I = \\mathit{0}$. Show that $A$ is invertible.\n",
    "\n",
    "#### Proof\n",
    "\n",
    "$$\n",
    "\\begin{equation}\n",
    "\\begin{aligned}\n",
    "A^3 - A + I &= \\mathit{0} \\\\\n",
    "A - A^3 &= I \\\\\n",
    "\\end{aligned}\n",
    "\\end{equation}\n",
    "$$\n",
    "\n",
    "Hence\n",
    "\n",
    "$$\n",
    "\\begin{equation}\n",
    "\\begin{aligned}\n",
    "A I - A A^2 &= I \\\\\n",
    "A (I - A^2) &= I\n",
    "\\end{aligned}\n",
    "\\end{equation}\n",
    "$$\n",
    "\n",
    "and\n",
    "\n",
    "$$\n",
    "\\begin{equation}\n",
    "\\begin{aligned}\n",
    "I A - A^2 A &= I \\\\\n",
    "(I - A^2) A &= I\n",
    "\\end{aligned}\n",
    "\\end{equation}\n",
    "$$\n",
    "\n",
    "Hence $A$ is invertible and its inverse is $I - A^2$. Q.E.D."
   ]
  },
  {
   "cell_type": "markdown",
   "metadata": {},
   "source": [
    "## 19.\n",
    "\n",
    "Let $a, b$ be numbers, and let\n",
    "\n",
    "$$\n",
    "\\begin{equation}\n",
    "\\begin{aligned}\n",
    "A = \\begin{pmatrix}\n",
    "1 & a \\\\\n",
    "0 & 1\n",
    "\\end{pmatrix}\n",
    "& & \\text{and}& &\n",
    "B = \\begin{pmatrix}\n",
    "1 & b \\\\\n",
    "0 & 1\n",
    "\\end{pmatrix}\n",
    "\\end{aligned}\n",
    "\\end{equation}\n",
    "$$\n",
    "\n",
    "What is $A B$? What is $A^n$ when $n$ is a positive integer?\n",
    "\n",
    "### Solution\n",
    "\n",
    "$$\n",
    "\\begin{equation}\n",
    "\\begin{aligned}\n",
    "A B &= \\begin{pmatrix}\n",
    "1 & a \\\\\n",
    "0 & 1\n",
    "\\end{pmatrix}\n",
    "\\begin{pmatrix}\n",
    "1 & b \\\\\n",
    "0 & 1\n",
    "\\end{pmatrix} \\\\\n",
    "&= \\begin{pmatrix}\n",
    "1 & a + b \\\\\n",
    "0 & 1\n",
    "\\end{pmatrix}\n",
    "\\end{aligned}\n",
    "\\end{equation}\n",
    "$$\n",
    "\n",
    "Now show \n",
    "\n",
    "$$\n",
    "\\begin{equation}\n",
    "\\begin{aligned}\n",
    "A^n &= \\begin{pmatrix}\n",
    "1 & n a \\\\\n",
    "0 & 1\n",
    "\\end{pmatrix}\n",
    "\\end{aligned}\n",
    "\\end{equation}\n",
    "$$\n",
    "\n",
    "**Proof**\n",
    "\n",
    "We know that\n",
    "\n",
    "$$\n",
    "\\begin{equation}\n",
    "\\begin{aligned}\n",
    "A^2 &= \\begin{pmatrix}\n",
    "1 & 2 a \\\\\n",
    "0 & 1\n",
    "\\end{pmatrix}\n",
    "\\end{aligned}\n",
    "\\end{equation}\n",
    "$$\n",
    "\n",
    "Let $k$ be some positive integer that\n",
    "\n",
    "$$\n",
    "\\begin{equation}\n",
    "\\begin{aligned}\n",
    "A^k &= \\begin{pmatrix}\n",
    "1 & k a \\\\\n",
    "0 & 1\n",
    "\\end{pmatrix}\n",
    "\\end{aligned}\n",
    "\\end{equation}\n",
    "$$\n",
    "\n",
    "is true. Then we have\n",
    "\n",
    "$$\n",
    "\\begin{equation}\n",
    "\\begin{aligned}\n",
    "A A^{k + 1} &= \n",
    "\\begin{pmatrix}\n",
    "1 & a \\\\\n",
    "0 & 1\n",
    "\\end{pmatrix}\n",
    "\\begin{pmatrix}\n",
    "1 & k a \\\\\n",
    "0 & 1\n",
    "\\end{pmatrix} \\\\\n",
    "&= \\begin{pmatrix}\n",
    "1 & (k + 1) a \\\\\n",
    "0 & 1\n",
    "\\end{pmatrix}\n",
    "\\end{aligned}\n",
    "\\end{equation}\n",
    "$$\n",
    "\n",
    "Hence\n",
    "\n",
    "$$\n",
    "\\begin{equation}\n",
    "\\begin{aligned}\n",
    "A^n &= \\begin{pmatrix}\n",
    "1 & n a \\\\\n",
    "0 & 1\n",
    "\\end{pmatrix}\n",
    "\\end{aligned}\n",
    "\\end{equation}\n",
    "$$\n",
    "\n",
    "Q.E.D."
   ]
  },
  {
   "cell_type": "code",
   "execution_count": 23,
   "metadata": {},
   "outputs": [
    {
     "data": {
      "text/latex": [
       "$$\\left[\\begin{matrix}1 & a n\\\\0 & 1\\end{matrix}\\right]$$"
      ],
      "text/plain": [
       "⎡1  a⋅n⎤\n",
       "⎢      ⎥\n",
       "⎣0   1 ⎦"
      ]
     },
     "execution_count": 23,
     "metadata": {},
     "output_type": "execute_result"
    }
   ],
   "source": [
    "a, n = symbols('a n')\n",
    "\n",
    "A = Matrix([[1, a], [0, 1]])\n",
    "\n",
    "A ** n"
   ]
  },
  {
   "cell_type": "markdown",
   "metadata": {},
   "source": [
    "## 20. Show that the matrix A in Exercise 19 has an inverse. What is this inverse?\n",
    "\n",
    "### Proof\n",
    "\n",
    "Let\n",
    "\n",
    "$$\n",
    "\\begin{equation}\n",
    "\\begin{aligned}\n",
    "A^{\\prime} = \\begin{pmatrix}\n",
    "1 & - a \\\\\n",
    "0 & 1\n",
    "\\end{pmatrix}\n",
    "\\end{aligned}\n",
    "\\end{equation}\n",
    "$$\n",
    "\n",
    "Then\n",
    "\n",
    "$$\n",
    "\\begin{equation}\n",
    "\\begin{aligned}\n",
    "A^{\\prime} A &= \\begin{pmatrix}\n",
    "1 & - a \\\\\n",
    "0 & 1\n",
    "\\end{pmatrix}\n",
    "\\begin{pmatrix}\n",
    "1 & a \\\\\n",
    "0 & 1\n",
    "\\end{pmatrix} \\\\\n",
    "&= \\begin{pmatrix}\n",
    "1 & 0 \\\\\n",
    "0 & 1\n",
    "\\end{pmatrix} \\\\\n",
    "&= I\n",
    "\\end{aligned}\n",
    "\\end{equation}\n",
    "$$\n",
    "\n",
    "and\n",
    "\n",
    "$$\n",
    "\\begin{equation}\n",
    "\\begin{aligned}\n",
    "A A^{\\prime} &= \\begin{pmatrix}\n",
    "1 & a \\\\\n",
    "0 & 1\n",
    "\\end{pmatrix}\n",
    "\\begin{pmatrix}\n",
    "1 & - a \\\\\n",
    "0 & 1\n",
    "\\end{pmatrix} \\\\\n",
    "&= \\begin{pmatrix}\n",
    "1 & 0 \\\\\n",
    "0 & 1\n",
    "\\end{pmatrix} \\\\\n",
    "&= I\n",
    "\\end{aligned}\n",
    "\\end{equation}\n",
    "$$\n",
    "\n",
    "Hence $A$ is invertible, and its inverse is\n",
    "\n",
    "$$\n",
    "\\begin{equation}\n",
    "\\begin{aligned}\n",
    "A^{\\prime} = \\begin{pmatrix}\n",
    "1 & - a \\\\\n",
    "0 & 1\n",
    "\\end{pmatrix}\n",
    "\\end{aligned}\n",
    "\\end{equation}\n",
    "$$"
   ]
  },
  {
   "cell_type": "markdown",
   "metadata": {},
   "source": [
    "## 21. Show that if $A, B$ are $n \\times n$ matrices which have inverses, then $AB$ has an inverse.\n",
    "\n",
    "Since $A, B$ are $n \\times n$ matrices which have inverses, then from the [theorem 3.2](../2_3_multiplication_of_matrices.ipynb#Theorem-3.2.) we have\n",
    "\n",
    "$$\n",
    "\\begin{equation}\n",
    "\\begin{aligned}\n",
    "(A B) (B^{-1} A^{-1}) &= A (B B^{-1}) A^{-1} \\\\\n",
    "&= A I A^{-1} \\\\\n",
    "&= A A^{-1} \\\\\n",
    "&= I\n",
    "\\end{aligned}\n",
    "\\end{equation}\n",
    "$$\n",
    "\n",
    "and\n",
    "\n",
    "$$\n",
    "\\begin{equation}\n",
    "\\begin{aligned}\n",
    "(B^{-1} A^{-1}) (A B) &= B^{-1} (A^{-1} A) B \\\\\n",
    "&= B^{-1} I B \\\\\n",
    "&= B^{-1} B \\\\\n",
    "&= I\n",
    "\\end{aligned}\n",
    "\\end{equation}\n",
    "$$\n",
    "\n",
    "\n",
    "Hence $A B$ is invertible, and its inverse is $B^{-1} A^{-1}$. Q.E.D."
   ]
  },
  {
   "cell_type": "markdown",
   "metadata": {},
   "source": [
    "## 22. Determine all $2 \\times 2$ matrices $A$ such that $A^2 = \\mathit{0}$.\n",
    "\n",
    "### Solution\n",
    "\n",
    "Let\n",
    "\n",
    "$$\n",
    "\\begin{equation}\n",
    "\\begin{aligned}\n",
    "A &= \\begin{pmatrix}\n",
    "a & b \\\\\n",
    "c & d\n",
    "\\end{pmatrix}\n",
    "\\end{aligned}\n",
    "\\end{equation}\n",
    "$$\n",
    "\n",
    "If $A^2 = \\mathit{0}$, then we have\n",
    "\n",
    "\n",
    "$$\n",
    "\\begin{equation}\n",
    "\\begin{aligned}\n",
    "A^2 &= A A \\\\\n",
    "&= \\begin{pmatrix}\n",
    "a & b \\\\\n",
    "c & d\n",
    "\\end{pmatrix}\n",
    "\\begin{pmatrix}\n",
    "a & b \\\\\n",
    "c & d\n",
    "\\end{pmatrix}\n",
    "&= \\begin{pmatrix}\n",
    "a^2 + b c & a b + b d \\\\\n",
    "c a + d c & c b + d^2\n",
    "\\end{pmatrix} \\\\\n",
    "&= \\begin{pmatrix}\n",
    "0 & 0 \\\\\n",
    "0 & 0\n",
    "\\end{pmatrix}\n",
    "\\end{aligned}\n",
    "\\end{equation}\n",
    "$$\n",
    "\n",
    "Hence we have\n",
    "\n",
    "$$\n",
    "\\begin{cases}\n",
    "a^2 + b c &= 0 \\\\\n",
    "a b + b d &= 0 \\\\\n",
    "c a + d c &= 0 \\\\\n",
    "c b + d^2 &= 0\n",
    "\\end{cases}\n",
    "$$\n",
    "\n",
    "Then we have\n",
    "\n",
    "$$\n",
    "\\begin{cases}\n",
    "a^2 &= - b c &= - c b &= d^2 \\\\\n",
    "b (a + d) &= c (a + d) &= 0\n",
    "\\end{cases}\n",
    "$$\n",
    "\n",
    "**Case 1**: $a = - d$\n",
    "\n",
    "Then we have\n",
    "\n",
    "$$\n",
    "\\begin{cases}\n",
    "a^2 + b c &= 0 \\\\\n",
    "a b - b a &= 0 \\\\\n",
    "c a - a c &= 0 \\\\\n",
    "c b + a^2 &= 0\n",
    "\\end{cases}\n",
    "$$\n",
    "\n",
    "As the equations (2) and (3) do not give any more information, we can rewrite the system as\n",
    "\n",
    "$$\n",
    "\\begin{cases}\n",
    "a^2 + b c &= 0 \\\\\n",
    "c b + a^2 &= 0\n",
    "\\end{cases}\n",
    "$$\n",
    "\n",
    "Then we have $b c = - a^2$\n",
    "\n",
    "**Case 2**: $a = d$\n",
    "\n",
    "Then we have\n",
    "\n",
    "$$\n",
    "\\begin{cases}\n",
    "a^2 + b c &= 0 \\\\\n",
    "a b + b a &= 0 \\\\\n",
    "c a + a c &= 0 \\\\\n",
    "c b + a^2 &= 0\n",
    "\\end{cases}\n",
    "$$\n",
    "\n",
    "Then we have\n",
    "\n",
    "$$\n",
    "\\begin{cases}\n",
    "b c &= - a^2 \\\\\n",
    "a b &= 0 \\\\\n",
    "a c &= 0 \\\\\n",
    "\\end{cases}\n",
    "$$\n",
    "\n",
    "If $a = 0$, then as $a = - a = - d$, then we are in case 1.\n",
    "\n",
    "If $a \\neq 0$, then we have\n",
    "\n",
    "$$\n",
    "\\begin{cases}\n",
    "b &= 0 \\\\\n",
    "c &= 0 \\\\\n",
    "b c &= - a^2\n",
    "\\end{cases}\n",
    "$$\n",
    "\n",
    "which has no solution.\n",
    "\n",
    "Hence general form for $A$ that $A^2 = \\mathit{0}$ is\n",
    "\n",
    "$$\n",
    "A = \\begin{pmatrix}\n",
    "a & b \\\\\n",
    "c & -a\n",
    "\\end{pmatrix}\n",
    "$$"
   ]
  },
  {
   "cell_type": "markdown",
   "metadata": {},
   "source": [
    "## 23.\n",
    "\n",
    "Let \n",
    "\n",
    "$$\n",
    "A = \\begin{pmatrix}\n",
    "\\cos \\theta & - \\sin \\theta \\\\\n",
    "\\sin \\theta & \\cos \\theta\n",
    "\\end{pmatrix}\n",
    "$$\n",
    "\n",
    "Show that\n",
    "\n",
    "$$\n",
    "A^2 = \\begin{pmatrix}\n",
    "\\cos 2 \\theta & - \\sin 2 \\theta \\\\\n",
    "\\sin 2 \\theta & \\cos 2 \\theta\n",
    "\\end{pmatrix}\n",
    "$$\n",
    "\n",
    "Determine $A^n$ by induction for any positive integer n.\n",
    "\n",
    "### Proof\n",
    "\n",
    "$$\n",
    "\\begin{equation}\n",
    "\\begin{aligned}\n",
    "A^2 &= A A \\\\\n",
    "&= \\begin{pmatrix}\n",
    "\\cos \\theta & - \\sin \\theta \\\\\n",
    "\\sin \\theta & \\cos \\theta\n",
    "\\end{pmatrix}\n",
    "\\begin{pmatrix}\n",
    "\\cos \\theta & - \\sin \\theta \\\\\n",
    "\\sin \\theta & \\cos \\theta\n",
    "\\end{pmatrix} \\\\\n",
    "&= \\begin{pmatrix}\n",
    "(\\cos \\theta)^2 - (\\sin \\theta)^2 & (\\cos \\theta) (- \\sin \\theta) + (- \\sin \\theta) (\\cos \\theta) \\\\\n",
    "(\\sin \\theta) (\\cos \\theta) + (\\cos \\theta) (\\sin \\theta) & - (\\sin \\theta)^2 + (\\cos \\theta)^2\n",
    "\\end{pmatrix} \\\\\n",
    "&= \\begin{pmatrix}\n",
    "(\\cos \\theta)^2 - (\\sin \\theta)^2 & - 2 (\\sin \\theta) (\\cos \\theta) \\\\\n",
    "2 (\\sin \\theta) (\\cos \\theta) & (\\cos \\theta)^2 - (\\sin \\theta)^2\n",
    "\\end{pmatrix} \\\\\n",
    "&= \\begin{pmatrix}\n",
    "\\cos 2 \\theta & - \\sin 2 \\theta \\\\\n",
    "\\sin 2 \\theta & \\cos 2 \\theta\n",
    "\\end{pmatrix} \\\\\n",
    "\\end{aligned}\n",
    "\\end{equation}\n",
    "$$\n",
    "\n",
    "We now show $A^n$ by induction for any positive integer n.\n",
    "\n",
    "We have already shown $A^2$ from above.\n",
    "\n",
    "Let $k$ be some positive integer such that\n",
    "\n",
    "$$\n",
    "A^k = \\begin{pmatrix}\n",
    "\\cos k \\theta & - \\sin k \\theta \\\\\n",
    "\\sin k \\theta & \\cos k \\theta\n",
    "\\end{pmatrix}\n",
    "$$\n",
    "\n",
    "Then we have\n",
    "\n",
    "$$\n",
    "\\begin{equation}\n",
    "\\begin{aligned}\n",
    "A^{k + 1} &= A A^k \\\\\n",
    "&= \n",
    "\\begin{pmatrix}\n",
    "\\cos \\theta & - \\sin \\theta \\\\\n",
    "\\sin \\theta & \\cos \\theta\n",
    "\\end{pmatrix}\n",
    "\\begin{pmatrix}\n",
    "\\cos k \\theta & - \\sin k \\theta \\\\\n",
    "\\sin k \\theta & \\cos k \\theta\n",
    "\\end{pmatrix} \\\\\n",
    "&= \\begin{pmatrix}\n",
    "- (\\sin \\theta) (\\sin k \\theta) + (\\cos \\theta) (\\cos k \\theta) & - (\\sin \\theta) (\\cos k \\theta) - (\\cos \\theta) (\\sin k \\theta) \\\\\n",
    "(\\sin \\theta) (\\cos k \\theta) + (\\cos \\theta) (\\sin k \\theta) & - (\\sin \\theta) (\\sin k \\theta) + (\\cos \\theta) (\\cos k \\theta) \\\\\n",
    "\\end{pmatrix} \\\\\n",
    "&= \\begin{pmatrix}\n",
    "\\cos (k + 1) \\theta & - \\sin (k + 1) \\theta \\\\\n",
    "\\sin (k + 1) \\theta & \\cos (k + 1) \\theta\n",
    "\\end{pmatrix} \\\\\n",
    "\\end{aligned}\n",
    "\\end{equation}\n",
    "$$\n",
    "\n",
    "Hence for some positive integer $n$, we have\n",
    "\n",
    "$$\n",
    "A^n = \\begin{pmatrix}\n",
    "\\cos n \\theta & - \\sin n \\theta \\\\\n",
    "\\sin n \\theta & \\cos n \\theta\n",
    "\\end{pmatrix}\n",
    "$$"
   ]
  },
  {
   "cell_type": "code",
   "execution_count": 40,
   "metadata": {},
   "outputs": [
    {
     "data": {
      "text/latex": [
       "$$\\left[\\begin{matrix}- \\sin^{2}{\\left (\\theta \\right )} + \\cos^{2}{\\left (\\theta \\right )} & - 2 \\sin{\\left (\\theta \\right )} \\cos{\\left (\\theta \\right )}\\\\2 \\sin{\\left (\\theta \\right )} \\cos{\\left (\\theta \\right )} & - \\sin^{2}{\\left (\\theta \\right )} + \\cos^{2}{\\left (\\theta \\right )}\\end{matrix}\\right]$$"
      ],
      "text/plain": [
       "⎡     2         2                        ⎤\n",
       "⎢- sin (θ) + cos (θ)   -2⋅sin(θ)⋅cos(θ)  ⎥\n",
       "⎢                                        ⎥\n",
       "⎢                          2         2   ⎥\n",
       "⎣  2⋅sin(θ)⋅cos(θ)    - sin (θ) + cos (θ)⎦"
      ]
     },
     "execution_count": 40,
     "metadata": {},
     "output_type": "execute_result"
    }
   ],
   "source": [
    "from sympy import cos, sin\n",
    "\n",
    "theta = symbols('theta')\n",
    "\n",
    "A = Matrix([[cos(theta), -sin(theta)], [sin(theta), cos(theta)]])\n",
    "A**2"
   ]
  },
  {
   "cell_type": "code",
   "execution_count": 44,
   "metadata": {},
   "outputs": [
    {
     "data": {
      "text/latex": [
       "$$\\left[\\begin{matrix}\\cos{\\left (2 \\theta \\right )} & - \\sin{\\left (2 \\theta \\right )}\\\\\\sin{\\left (2 \\theta \\right )} & \\cos{\\left (2 \\theta \\right )}\\end{matrix}\\right]$$"
      ],
      "text/plain": [
       "⎡cos(2⋅θ)  -sin(2⋅θ)⎤\n",
       "⎢                   ⎥\n",
       "⎣sin(2⋅θ)  cos(2⋅θ) ⎦"
      ]
     },
     "execution_count": 44,
     "metadata": {},
     "output_type": "execute_result"
    }
   ],
   "source": [
    "from sympy import simplify\n",
    "\n",
    "simplify(A ** 2)"
   ]
  },
  {
   "cell_type": "code",
   "execution_count": 45,
   "metadata": {},
   "outputs": [
    {
     "data": {
      "text/latex": [
       "$$\\left[\\begin{matrix}\\cos{\\left (3 \\theta \\right )} & - \\sin{\\left (3 \\theta \\right )}\\\\\\sin{\\left (3 \\theta \\right )} & \\cos{\\left (3 \\theta \\right )}\\end{matrix}\\right]$$"
      ],
      "text/plain": [
       "⎡cos(3⋅θ)  -sin(3⋅θ)⎤\n",
       "⎢                   ⎥\n",
       "⎣sin(3⋅θ)  cos(3⋅θ) ⎦"
      ]
     },
     "execution_count": 45,
     "metadata": {},
     "output_type": "execute_result"
    }
   ],
   "source": [
    "simplify(A ** 3)"
   ]
  },
  {
   "cell_type": "code",
   "execution_count": 48,
   "metadata": {},
   "outputs": [
    {
     "data": {
      "text/latex": [
       "$$\\left[\\begin{matrix}- \\sin{\\left (\\theta \\right )} \\sin{\\left (k \\theta \\right )} + \\cos{\\left (\\theta \\right )} \\cos{\\left (k \\theta \\right )} & - \\sin{\\left (\\theta \\right )} \\cos{\\left (k \\theta \\right )} - \\sin{\\left (k \\theta \\right )} \\cos{\\left (\\theta \\right )}\\\\\\sin{\\left (\\theta \\right )} \\cos{\\left (k \\theta \\right )} + \\sin{\\left (k \\theta \\right )} \\cos{\\left (\\theta \\right )} & - \\sin{\\left (\\theta \\right )} \\sin{\\left (k \\theta \\right )} + \\cos{\\left (\\theta \\right )} \\cos{\\left (k \\theta \\right )}\\end{matrix}\\right]$$"
      ],
      "text/plain": [
       "⎡-sin(θ)⋅sin(k⋅θ) + cos(θ)⋅cos(k⋅θ)  -sin(θ)⋅cos(k⋅θ) - sin(k⋅θ)⋅cos(θ)⎤\n",
       "⎢                                                                      ⎥\n",
       "⎣sin(θ)⋅cos(k⋅θ) + sin(k⋅θ)⋅cos(θ)   -sin(θ)⋅sin(k⋅θ) + cos(θ)⋅cos(k⋅θ)⎦"
      ]
     },
     "execution_count": 48,
     "metadata": {},
     "output_type": "execute_result"
    }
   ],
   "source": [
    "k = symbols('k')\n",
    "\n",
    "A_k = Matrix([[cos(k * theta), -sin(k * theta)], [sin(k * theta), cos(k * theta)]])\n",
    "\n",
    "A * A_k"
   ]
  },
  {
   "cell_type": "code",
   "execution_count": 49,
   "metadata": {},
   "outputs": [
    {
     "data": {
      "text/latex": [
       "$$\\left[\\begin{matrix}\\cos{\\left (k \\theta + \\theta \\right )} & - \\sin{\\left (k \\theta + \\theta \\right )}\\\\\\sin{\\left (k \\theta + \\theta \\right )} & \\cos{\\left (k \\theta + \\theta \\right )}\\end{matrix}\\right]$$"
      ],
      "text/plain": [
       "⎡cos(k⋅θ + θ)  -sin(k⋅θ + θ)⎤\n",
       "⎢                           ⎥\n",
       "⎣sin(k⋅θ + θ)  cos(k⋅θ + θ) ⎦"
      ]
     },
     "execution_count": 49,
     "metadata": {},
     "output_type": "execute_result"
    }
   ],
   "source": [
    "simplify(A * A_k)"
   ]
  },
  {
   "cell_type": "markdown",
   "metadata": {},
   "source": [
    "## 24. Find a 2 x 2 matrix $A$ such that\n",
    "\n",
    "$$\n",
    "A^2 = - I = \\begin{pmatrix}\n",
    "-1 & 0 \\\\\n",
    "0 & -1\n",
    "\\end{pmatrix}\n",
    "$$\n",
    "\n",
    "### Solution\n",
    "\n",
    "Let\n",
    "\n",
    "$$\n",
    "A = \\begin{pmatrix}\n",
    "a & b \\\\\n",
    "c & d\n",
    "\\end{pmatrix}\n",
    "$$\n",
    "\n",
    "Since $A^2 = -I$, then we have\n",
    "\n",
    "$$\n",
    "\\begin{equation}\n",
    "\\begin{aligned}\n",
    "A^2 &= A A \\\\\n",
    "&= \\begin{pmatrix}\n",
    "a & b \\\\\n",
    "c & d\n",
    "\\end{pmatrix}\n",
    "\\begin{pmatrix}\n",
    "a & b \\\\\n",
    "c & d\n",
    "\\end{pmatrix} \\\\\n",
    "&= \\begin{pmatrix}\n",
    "a^2 + b c & a b + b d \\\\\n",
    "c a + d c & c b + d^2\n",
    "\\end{pmatrix} \\\\\n",
    "&= \\begin{pmatrix}\n",
    "a^2 + b c & b (a + d) \\\\\n",
    "c (a + d) & d^2 + b c\n",
    "\\end{pmatrix}\n",
    "&= \\begin{pmatrix}\n",
    "-1 & 0 \\\\\n",
    "0 & -1\n",
    "\\end{pmatrix}\n",
    "\\end{aligned}\n",
    "\\end{equation}\n",
    "$$\n",
    "\n",
    "Then we have\n",
    "\n",
    "$$\n",
    "\\begin{cases}\n",
    "a^2 + b c &= -1 \\\\\n",
    "b (a + d) &= 0 \\\\\n",
    "c (a + d) &= 0 \\\\\n",
    "d^2 + b c &= -1\n",
    "\\end{cases}\n",
    "$$\n",
    "\n",
    "A solution of the systems of equations is\n",
    "\n",
    "$$\n",
    "\\begin{cases}\n",
    "a &= 0 \\\\\n",
    "b &= 1 \\\\\n",
    "c &= -1\n",
    "d &= 0\n",
    "\\end{cases}\n",
    "$$\n",
    "\n",
    "Which we can write\n",
    "\n",
    "$$\n",
    "A = \\begin{pmatrix}\n",
    "0 & 1 \\\\\n",
    "-1 & 0\n",
    "\\end{pmatrix}\n",
    "$$"
   ]
  },
  {
   "cell_type": "code",
   "execution_count": 50,
   "metadata": {},
   "outputs": [
    {
     "data": {
      "text/latex": [
       "$$\\left[\\begin{matrix}-1 & 0\\\\0 & -1\\end{matrix}\\right]$$"
      ],
      "text/plain": [
       "⎡-1  0 ⎤\n",
       "⎢      ⎥\n",
       "⎣0   -1⎦"
      ]
     },
     "execution_count": 50,
     "metadata": {},
     "output_type": "execute_result"
    }
   ],
   "source": [
    "Matrix([[0, 1], [-1, 0]]) ** 2"
   ]
  },
  {
   "cell_type": "markdown",
   "metadata": {},
   "source": [
    "## 25.\n",
    "\n",
    "Let $A$ be an $n \\times n$ matrix. Define the **trace** of $A$ to be the sum of the diagonal elements. Thus if $A = (a_{i j})$ then\n",
    "\n",
    "$$\n",
    "\\operatorname{tr}(A) = \\sum_{i = 1}^n a_{i i}\n",
    "$$\n",
    "\n",
    "For instance, if\n",
    "\n",
    "$$\n",
    "A = \\begin{pmatrix}\n",
    "1 & 2 \\\\\n",
    "3 & 4\n",
    "\\end{pmatrix}\n",
    "$$\n",
    "\n",
    "then $\\operatorname{tr}(A) = 1 + 4 = 5$.\n",
    "\n",
    "If\n",
    "\n",
    "$$\n",
    "A = \\begin{pmatrix}\n",
    "1 & -1 & 5 \\\\\n",
    "2 & 1 & 3 \\\\\n",
    "1 & -4 & 7\n",
    "\\end{pmatrix}\n",
    "$$\n",
    "\n",
    "then $\\operatorname{tr}(A) = 1 + 1 + 7 = 9$"
   ]
  },
  {
   "cell_type": "markdown",
   "metadata": {},
   "source": [
    "## 27. Prove in general that if $A, B$ are square $n \\times n$ matrices, then\n",
    "\n",
    "$$\n",
    "\\operatorname{tr}(A B) = \\operatorname{tr}(B A)\n",
    "$$\n",
    "\n",
    "### Proof\n",
    "\n",
    "Let $A$ = $(a_{i j})$ and $B = (b_{i j})$ for $i = 1, ..., n$ and $j = 1, ..., n$.\n",
    "\n",
    "Let $C = A B = (c_{i j})$ for $i = 1, ..., n$ and $j = 1, ..., n$.\n",
    "\n",
    "Let $C^{\\prime} = A B = (c^{\\prime}_{j i})$ for $j = 1, ..., n$ and $i = 1, ..., n$.\n",
    "\n",
    "Then we know the diagonal elements of $C = A B$ are\n",
    "\n",
    "$$\n",
    "\\{c_{i i} = \\sum_{j = 1}^n a_{i j} b_{j i} \\}\n",
    "$$\n",
    "\n",
    "for $i = 1, ..., n$.\n",
    "\n",
    "Hence\n",
    "\n",
    "$$\n",
    "\\operatorname{tr}(C) = \\sum_{i = 1}^n \\sum_{j = 1}^n a_{i j} b_{j i}\n",
    "$$\n",
    "\n",
    "Similarly, the diagonal elements of $C = B A$ are\n",
    "\n",
    "$$\n",
    "\\{c^{\\prime}_{j j} = \\sum_{i = 1}^n b_{j i} a_{i j} \\}\n",
    "$$\n",
    "\n",
    "for $j = 1, ..., n$.\n",
    "\n",
    "Hence\n",
    "\n",
    "$$\n",
    "\\operatorname{tr}(C^{\\prime}) = \\sum_{j = 1}^n \\sum_{i = 1}^n b_{j i}a_{i j}\n",
    "$$\n",
    "\n",
    "Then we have\n",
    "\n",
    "$$\n",
    "\\operatorname{tr}(A B) = \\operatorname{tr}(C) = \\sum_{i = 1}^n \\sum_{j = 1}^n a_{i j} b_{j i} = \\sum_{j = 1}^n \\sum_{i = 1}^n a_{i j} b_{j i} = \\sum_{j = 1}^n \\sum_{i = 1}^n b_{j i}a_{i j} = \\operatorname{tr}(C^{\\prime}) = \\operatorname{tr}(B A)\n",
    "$$\n",
    "\n",
    "Q.E.D."
   ]
  },
  {
   "cell_type": "markdown",
   "metadata": {},
   "source": [
    "## 28. For any square matrix $A$, show that $\\operatorname{tr}(A) = \\operatorname{tr}(^tA)$.\n",
    "\n",
    "### Proof\n",
    "\n",
    "Let $A = (a_{i j})$ and $^tA = (a^{\\prime}_{i j})$, for $i = 1, ..., n$ and $j = 1, ..., n$.\n",
    "\n",
    "Then we have $a^{\\prime}_{j i} = a_{i j}$.\n",
    "\n",
    "Hence \n",
    "\n",
    "$$\n",
    "\\operatorname{tr}(A) = \\sum_{i = 1}^n a_{i i} = \\operatorname{tr}(^tA)\n",
    "$$\n",
    "\n",
    "Q.E.D."
   ]
  },
  {
   "cell_type": "markdown",
   "metadata": {},
   "source": [
    "## 30.\n",
    "\n",
    "Let\n",
    "\n",
    "$$\n",
    "A = \\begin{pmatrix}\n",
    "1 & 0 & 0 \\\\\n",
    "0 & 2 & 0 \\\\\n",
    "0 & 0 & 3\n",
    "\\end{pmatrix}\n",
    "$$\n",
    "\n",
    "Find $A^2, A^3, A^4$."
   ]
  },
  {
   "cell_type": "code",
   "execution_count": 59,
   "metadata": {},
   "outputs": [
    {
     "data": {
      "text/latex": [
       "$$\\left[\\begin{matrix}1 & 0 & 0\\\\0 & 4 & 0\\\\0 & 0 & 9\\end{matrix}\\right]$$"
      ],
      "text/plain": [
       "⎡1  0  0⎤\n",
       "⎢       ⎥\n",
       "⎢0  4  0⎥\n",
       "⎢       ⎥\n",
       "⎣0  0  9⎦"
      ]
     },
     "execution_count": 59,
     "metadata": {},
     "output_type": "execute_result"
    }
   ],
   "source": [
    "A = Matrix([[1, 0, 0], [0, 2, 0], [0, 0, 3]])\n",
    "\n",
    "A ** 2"
   ]
  },
  {
   "cell_type": "code",
   "execution_count": 60,
   "metadata": {},
   "outputs": [
    {
     "data": {
      "text/latex": [
       "$$\\left[\\begin{matrix}1 & 0 & 0\\\\0 & 8 & 0\\\\0 & 0 & 27\\end{matrix}\\right]$$"
      ],
      "text/plain": [
       "⎡1  0  0 ⎤\n",
       "⎢        ⎥\n",
       "⎢0  8  0 ⎥\n",
       "⎢        ⎥\n",
       "⎣0  0  27⎦"
      ]
     },
     "execution_count": 60,
     "metadata": {},
     "output_type": "execute_result"
    }
   ],
   "source": [
    "A ** 3"
   ]
  },
  {
   "cell_type": "code",
   "execution_count": 61,
   "metadata": {},
   "outputs": [
    {
     "data": {
      "text/latex": [
       "$$\\left[\\begin{matrix}1 & 0 & 0\\\\0 & 16 & 0\\\\0 & 0 & 81\\end{matrix}\\right]$$"
      ],
      "text/plain": [
       "⎡1  0   0 ⎤\n",
       "⎢         ⎥\n",
       "⎢0  16  0 ⎥\n",
       "⎢         ⎥\n",
       "⎣0  0   81⎦"
      ]
     },
     "execution_count": 61,
     "metadata": {},
     "output_type": "execute_result"
    }
   ],
   "source": [
    "A ** 4"
   ]
  },
  {
   "cell_type": "markdown",
   "metadata": {},
   "source": [
    "## 30. Let $A$ be a diagonal matrix, with diagonal elements $a_1, ... ,a_n$. What is $A^2, A^3, A^k$ for any positive integer $k$?\n",
    "\n",
    "### Solution\n",
    "\n",
    "$A^k$ is a diagonal matrix with diagonal elements $a_1^k, ..., a_n^k$."
   ]
  },
  {
   "cell_type": "markdown",
   "metadata": {},
   "source": [
    "## 31.\n",
    "\n",
    "Let\n",
    "\n",
    "$$\n",
    "A = \\begin{pmatrix}\n",
    "0 & 1 & 6 \\\\\n",
    "0 & 0 & 4 \\\\\n",
    "0 & 0 & 0\n",
    "\\end{pmatrix}\n",
    "$$\n",
    "\n",
    "Find $A^3$"
   ]
  },
  {
   "cell_type": "code",
   "execution_count": 62,
   "metadata": {},
   "outputs": [
    {
     "data": {
      "text/latex": [
       "$$\\left[\\begin{matrix}0 & 0 & 0\\\\0 & 0 & 0\\\\0 & 0 & 0\\end{matrix}\\right]$$"
      ],
      "text/plain": [
       "⎡0  0  0⎤\n",
       "⎢       ⎥\n",
       "⎢0  0  0⎥\n",
       "⎢       ⎥\n",
       "⎣0  0  0⎦"
      ]
     },
     "execution_count": 62,
     "metadata": {},
     "output_type": "execute_result"
    }
   ],
   "source": [
    "A = Matrix([[0, 1, 6], [0, 0, 4], [0, 0, 0]])\n",
    "\n",
    "A **3"
   ]
  },
  {
   "cell_type": "markdown",
   "metadata": {},
   "source": [
    "## 32. \n",
    "\n",
    "Let $A$ be an invertible $n \\times n$ matrix. Show that\n",
    "\n",
    "$$\n",
    "^t(A^{-1}) = (^tA)^{-1}\n",
    "$$\n",
    "\n",
    "We may therefore write $^tA^{-1}$ without fear of confusion.\n",
    "\n",
    "### Proof\n",
    "\n",
    "From [theorem 3.3](../2_3_multiplication_of_matrices.ipynb#Theorem-3.3.) we have\n",
    "\n",
    "$$\n",
    "^t(A^{-1}) ^tA = ^t(A A^{-1}) = ^t I = I\n",
    "$$\n",
    "\n",
    "and\n",
    "\n",
    "$$\n",
    "^tA ^t(A^{-1}) = ^t (A^{-1} A) = ^t I = I\n",
    "$$\n",
    "\n",
    "Hence \n",
    "\n",
    "$$\n",
    "^t(A^{-1}) = (^t A)^{-1}\n",
    "$$\n",
    "\n",
    "Q.E.D."
   ]
  },
  {
   "cell_type": "markdown",
   "metadata": {},
   "source": [
    "## 33. \n",
    "\n",
    "Let $A$ be a complex matrix, $A = (a_{i j})$ , and let $\\overline{A} = (\\overline{a_{i j}})$ where the bar means\n",
    "complex conjugate. Show that\n",
    "\n",
    "$$\n",
    "^t(\\overline{A}) = \\overline{^tA}\n",
    "$$\n",
    "\n",
    "We then write simply $^t\\overline{A}$."
   ]
  },
  {
   "cell_type": "markdown",
   "metadata": {},
   "source": [
    "## 34.\n",
    "\n",
    "Let $A$ be a diagonal matrix:\n",
    "\n",
    "$$\n",
    "A = \\begin{pmatrix}\n",
    "a_1 & 0 & ... & 0 \\\\\n",
    "0 & a_2 & ... & 0 \\\\\n",
    "\\vdots & \\vdots & & \\vdots \\\\\n",
    "0 & 0 & ... & a_n \\\\\n",
    "\\end{pmatrix}\n",
    "$$\n",
    "\n",
    "\n",
    "If $a_i = 0$ for all $i$, show that $A$ is invertible. What is its inverse?\n",
    "\n",
    "### Solution\n",
    "\n",
    "Let \n",
    "\n",
    "$$\n",
    "A^{\\prime} = \\begin{pmatrix}\n",
    "\\frac{1}{a_1} & 0 & ... & 0 \\\\\n",
    "0 & \\frac{1}{a_2} & ... & 0 \\\\\n",
    "\\vdots & \\vdots & & \\vdots \\\\\n",
    "0 & 0 & ... & \\frac{1}{a_n} \\\\\n",
    "\\end{pmatrix}\n",
    "$$\n",
    "\n",
    "Then\n",
    "\n",
    "$$\n",
    "\\begin{equation}\n",
    "\\begin{aligned}\n",
    "A^{\\prime} A &= \\begin{pmatrix}\n",
    "\\frac{1}{a_1} & 0 & ... & 0 \\\\\n",
    "0 & \\frac{1}{a_2} & ... & 0 \\\\\n",
    "\\vdots & \\vdots & & \\vdots \\\\\n",
    "0 & 0 & ... & \\frac{1}{a_n} \\\\\n",
    "\\end{pmatrix}\n",
    "\\begin{pmatrix}\n",
    "a_1 & 0 & ... & 0 \\\\\n",
    "0 & a_2 & ... & 0 \\\\\n",
    "\\vdots & \\vdots & & \\vdots \\\\\n",
    "0 & 0 & ... & a_n \\\\\n",
    "\\end{pmatrix} \\\\\n",
    "&= \\begin{pmatrix}\n",
    "1 & 0 & ... & 0 \\\\\n",
    "0 & 1 & ... & 0 \\\\\n",
    "\\vdots & \\vdots & & \\vdots \\\\\n",
    "0 & 0 & ... & 1 \\\\\n",
    "\\end{pmatrix} \\\\\n",
    "&= I\n",
    "\\end{aligned}\n",
    "\\end{equation}\n",
    "$$\n",
    "\n",
    "$$\n",
    "\\begin{equation}\n",
    "\\begin{aligned}\n",
    "A A^{\\prime} &= \\begin{pmatrix}\n",
    "a_1 & 0 & ... & 0 \\\\\n",
    "0 & a_2 & ... & 0 \\\\\n",
    "\\vdots & \\vdots & & \\vdots \\\\\n",
    "0 & 0 & ... & a_n \\\\\n",
    "\\end{pmatrix}\n",
    "\\begin{pmatrix}\n",
    "\\frac{1}{a_1} & 0 & ... & 0 \\\\\n",
    "0 & \\frac{1}{a_2} & ... & 0 \\\\\n",
    "\\vdots & \\vdots & & \\vdots \\\\\n",
    "0 & 0 & ... & \\frac{1}{a_n} \\\\\n",
    "\\end{pmatrix}\\\\\n",
    "&= \\begin{pmatrix}\n",
    "1 & 0 & ... & 0 \\\\\n",
    "0 & 1 & ... & 0 \\\\\n",
    "\\vdots & \\vdots & & \\vdots \\\\\n",
    "0 & 0 & ... & 1 \\\\\n",
    "\\end{pmatrix} \\\\\n",
    "&= I\n",
    "\\end{aligned}\n",
    "\\end{equation}\n",
    "$$\n",
    "\n",
    "Hence $A$ is invertible and $A^{-1} = A^\\prime$."
   ]
  },
  {
   "cell_type": "code",
   "execution_count": 67,
   "metadata": {},
   "outputs": [
    {
     "data": {
      "text/latex": [
       "$$\\left[\\begin{matrix}1 & 0 & 0 & 0\\\\0 & 1 & 0 & 0\\\\0 & 0 & 1 & 0\\\\0 & 0 & 0 & 1\\end{matrix}\\right]$$"
      ],
      "text/plain": [
       "⎡1  0  0  0⎤\n",
       "⎢          ⎥\n",
       "⎢0  1  0  0⎥\n",
       "⎢          ⎥\n",
       "⎢0  0  1  0⎥\n",
       "⎢          ⎥\n",
       "⎣0  0  0  1⎦"
      ]
     },
     "execution_count": 67,
     "metadata": {},
     "output_type": "execute_result"
    }
   ],
   "source": [
    "a_1, a_2, a_3, a_4 = symbols('a1:5')\n",
    "\n",
    "A = Matrix([[a_1, 0, 0, 0], [0, a_2, 0, 0], [0, 0, a_3, 0], [0, 0, 0, a_4]])\n",
    "A_prime = Matrix([[1 / a_1, 0, 0, 0], [0, 1 / a_2, 0, 0], [0, 0, 1 / a_3, 0], [0, 0, 0, 1 / a_4]])\n",
    "\n",
    "A * A_prime"
   ]
  },
  {
   "cell_type": "markdown",
   "metadata": {},
   "source": [
    "## 35.\n",
    "\n",
    "Let $A$ be a strictly upper triangular matrix, i.e. a square matrix $(a_{i j})$ having all its components below and on the diagonal equal to $0$. We may express this by writing $a_{i j} = 0$ if $i \\geq j$.\n",
    "\n",
    "$$\n",
    "A = \\begin{pmatrix}\n",
    "0 & a_{1 2} & a_{1 3} & ... & a_{1 n} \\\\\n",
    "0 & 0 & a_{2 3} & ... & a_{2 n} \\\\\n",
    "\\vdots & \\vdots & \\vdots & & \\vdots \\\\\n",
    "0 & 0 & 0 & ... & a_{n - 1 \\  n} \\\\\n",
    "0 & 0 & 0 & ... & 0 \\\\\n",
    "\\end{pmatrix}\n",
    "$$\n",
    "\n",
    "Prove that $A^n = \\mathit{0}$. (If you wish, you may do it only in case $n = 2, 3$ and $4$. The general case can be done by induction.)\n",
    "\n",
    "### Proof\n",
    "\n"
   ]
  },
  {
   "cell_type": "code",
   "execution_count": null,
   "metadata": {},
   "outputs": [],
   "source": []
  }
 ],
 "metadata": {
  "kernelspec": {
   "display_name": "Python 3",
   "language": "python",
   "name": "python3"
  },
  "language_info": {
   "codemirror_mode": {
    "name": "ipython",
    "version": 3
   },
   "file_extension": ".py",
   "mimetype": "text/x-python",
   "name": "python",
   "nbconvert_exporter": "python",
   "pygments_lexer": "ipython3",
   "version": "3.7.0"
  }
 },
 "nbformat": 4,
 "nbformat_minor": 2
}
