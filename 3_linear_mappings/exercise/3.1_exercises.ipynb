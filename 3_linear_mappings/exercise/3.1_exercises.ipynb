{
 "cells": [
  {
   "cell_type": "markdown",
   "metadata": {},
   "source": [
    "## 1. In [Example 3](../3_1_mappings.ipynb#Example-3), give $\\operatorname{D}f$ as a function of $x$ when $f$ is the function:"
   ]
  },
  {
   "cell_type": "markdown",
   "metadata": {},
   "source": [
    "### (a) $f(x) = \\sin x$\n",
    "\n",
    "#### Solution\n",
    "\n",
    "$\\operatorname{D} f: (0, 1) \\to (0, 1)$ is a mapping such that\n",
    "\n",
    "$$\n",
    "\\operatorname{D} f (t) = \\frac{d}{d t} \\sin t = \\cos t\n",
    "$$"
   ]
  },
  {
   "cell_type": "markdown",
   "metadata": {},
   "source": [
    "### (b) $f(x) = e^x$\n",
    "\n",
    "#### Solution\n",
    "\n",
    "$\\operatorname{D} f: (0, 1) \\to (0, 1)$ is a mapping such that\n",
    "\n",
    "$$\n",
    "\\operatorname{D} f (t) = \\frac{d}{d t} e^t = e^t\n",
    "$$"
   ]
  },
  {
   "cell_type": "markdown",
   "metadata": {},
   "source": [
    "### (c) $f(x) = \\log x$\n",
    "\n",
    "#### Solution\n",
    "\n",
    "$\\operatorname{D} f: (0, 1) \\to (0, 1)$ is a mapping such that\n",
    "\n",
    "$$\n",
    "\\operatorname{D} f (t) = \\frac{d}{d t} \\log t = \\frac{1}{t}\n",
    "$$"
   ]
  },
  {
   "cell_type": "markdown",
   "metadata": {},
   "source": [
    "## 4. Let $F: R \\to R^2$ be the mapping such that $F(t) = (e^t, t)$. What is $F(1), F(0), F(-1)$?\n",
    "\n",
    "### Solution\n",
    "\n",
    "$$\n",
    "\\begin{array}{c}\n",
    "F(1) &= (e^1, 1) &= (e, 1) \\\\\n",
    "F(0) &= (e^0, 0) &= (1, 0) \\\\\n",
    "F(-1) &= (e^{-1}, -1) &= (\\frac{1}{e}, -1)\n",
    "\\end{array}\n",
    "$$"
   ]
  },
  {
   "cell_type": "markdown",
   "metadata": {},
   "source": [
    "## 5. Let $G: R \\to R^2$ be the mapping such that $G(t)=(t, 2t)$. Let $F$ be as in Exercise 4. What is $(F + G)(1), (F + G)(2), (F + G)(0)$?\n",
    "\n",
    "### Solution\n",
    "\n",
    "$$\n",
    "(F + G)(t) = (e^t + t, t + 2 t) = (e^t + t, 3 t)\n",
    "$$\n",
    "\n",
    "Thus\n",
    "\n",
    "$$\n",
    "\\begin{array}{c}\n",
    "(F + G)(1) &= (e^1 + 1, 3 \\cdot 1) &= (e + 1, 3) \\\\\n",
    "(F + G)(2) &= (e^2 + 2, 3 \\cdot 2) &= (e^2 + 2, 6) \\\\\n",
    "(F + G)(3) &= (e^3 + 3, 3 \\cdot 3) &= (e^3 + 3, 9)\n",
    "\\end{array}\n",
    "$$"
   ]
  },
  {
   "cell_type": "markdown",
   "metadata": {},
   "source": [
    "## 6. Let $F$ be as in Exercise 4. What is $(2F)(0), (\\pi F)(1)$?\n",
    "\n",
    "### Solution\n",
    "\n",
    "$$\n",
    "(2 F)(t) = 2 F(t) = 2 (e^t, t) = (2 e^t, 2 t)\n",
    "$$\n",
    "\n",
    "$$\n",
    "(\\pi F)(t) = \\pi F(t) = \\pi (e^t, t) = (\\pi e^t, \\pi t)\n",
    "$$\n",
    "\n",
    "Hence\n",
    "\n",
    "$$\n",
    "(2 F)(0) = (2 e^0, 2 \\cdot 0) = (2, 0)\n",
    "$$\n",
    "\n",
    "and\n",
    "\n",
    "$$\n",
    "(\\pi F)(1) = (\\pi e^1, \\pi \\cdot 1) = (\\pi e, \\pi)\n",
    "$$"
   ]
  },
  {
   "cell_type": "markdown",
   "metadata": {},
   "source": [
    "In Exercises 8 through 12, refer to [Example 6](../3_1_mappings.ipynb#Example-6). In each case, to prove that the image is equal to a certain set $S$, you must prove that the image is contained in $S$, and also that every element of S is in the image."
   ]
  },
  {
   "cell_type": "markdown",
   "metadata": {},
   "source": [
    "## 8. Let $F: R^2 \\to R^2$ be the mapping defined by $F(x, y) = (2x, 3y)$. Describe the image of the points lying on the circle $x^2 + y^2 = 1$.\n",
    "\n",
    "### Solution\n",
    "\n",
    "Let $(x, y)$ be the point on the circle of radius 1, thus $x^2 + y^2 = 1$.\n",
    "\n",
    "Let $u = 2 x, v = 3 y$. Then $u, v$ satisfy the relation\n",
    "\n",
    "$$\n",
    "(\\frac{u}{2})^2 + (\\frac{v}{3})^2 = 1\n",
    "$$\n",
    "\n",
    "Thus\n",
    "\n",
    "$$\n",
    "\\frac{u^2 - 0}{2^2} + \\frac{v^2 - 0}{3^2} = 1 \\\\\n",
    "$$\n",
    "\n",
    "Hence $(u, v)$ is on such the ellipse with $h = 0, k = 0, a = 2, b = 3$.\n",
    "\n",
    "Let $S$ be the image of $F$ of the points lying on the circle $x^2 + y^2 = 1$, and $S^\\prime$ be the ellipse described above. We have $S \\subseteq S^\\prime$.\n",
    "\n",
    "Conversely, let $(u, v) \\in S^\\prime$, thus $(u, v)$ satisfies\n",
    "\n",
    "$$\n",
    "\\frac{u^2 - 0}{2^2} + \\frac{v^2 - 0}{3^2} = 1\n",
    "$$\n",
    "\n",
    "Thus\n",
    "\n",
    "$$\n",
    "(\\frac{u}{2})^2 + (\\frac{v}{3})^2 = 1\n",
    "$$\n",
    "\n",
    "Let $x = \\frac{u}{2}, y = \\frac{v}{3}$. Then we have\n",
    "\n",
    "$$\n",
    "x^2 + y^2 = 1\n",
    "$$\n",
    "\n",
    "Hence $(x, y)$ is at the point of the circle with radius $1$. Hence very point on the ellipse with $h = 0, k = 0, a = 2, b = 3$ is the image of some point of the circle with radius $1$. Hence $S \\subseteq S^\\prime$.\n",
    "\n",
    "Hence $S = S^\\prime$. Thus the image of the points lying on the circle $x^2 + y^2 = 1$ is the ellipse with $h = 0, k = 0, a = 2, b = 3$."
   ]
  },
  {
   "cell_type": "markdown",
   "metadata": {},
   "source": [
    "## 9. Let $F: R^2 \\to R^2$ be the mapping defined by $F(x, y) = (xy, y)$. Describe the image under $F$ of the straight line $x = 2$.\n",
    "\n",
    "### Solution\n",
    "\n",
    "Let $(x, y)$ be the point on the straight line $x = 2$. Hence $x = 2$, and $y$ can be whatever number in $R$.\n",
    "\n",
    "Let $u = x y, v = y$, thus $u = 4$, $v$ can be whatever number in $R$, hence $(u, v)$ is a point on the straight line $u = 4$.\n",
    "\n",
    "Let $S$ be the image of $F$ of the straight line of points $(x, y)$ where $x = 2$. Let $S^\\prime$ be the straight line of points $(u, v)$ where $u = 4$. From above we have $S \\subseteq S^\\prime$.\n",
    "\n",
    "Conversely, let $(u, v) \\in S^\\prime$. Let $x = \\frac{1}{2}u$, and $y$ be any number in $R$. Then we have $(x, y) \\in S$. Hence every point on $S^\\prime$ is on $S$, thus $S^\\prime \\subseteq S$.\n",
    "\n",
    "Thus $S = S^\\prime$. Thus the image under $F$ of the straight line $x = 2$ is the straight line of $(u, v)$ where $u = 4$."
   ]
  },
  {
   "cell_type": "markdown",
   "metadata": {},
   "source": [
    "## 10. Let $F$ be the mapping defined by $F(x, y) = (e^x \\cos y, e^x \\sin y)$. Describe the image under $F$ of the line $x = 1$. Describe more generally the image under $F$ of a line $x = c$,where $c$ is a constant.\n",
    "\n",
    "### Solution\n",
    "\n",
    "Let $(x, y)$ be the point of the straight line $x = c$. Hence $x = c$ and $y$ can be whatever number in $R$.\n",
    "\n",
    "Let $u = e^x \\cos y, v = e^x \\sin y$. Thus $u = e^c \\cos y, v = e^c \\sin y$. Thus $u, v$ is a point on the circle with radius $e$, thus\n",
    "\n",
    "$$\n",
    "u^2 + v^2 = e^{2 c}\n",
    "$$\n",
    "\n",
    "Let $S$ be the image of $F$ of the line $x = c$. Let $S^\\prime$ be the circle describe above. From above we have $S \\subseteq S^\\prime$.\n",
    "\n",
    "Conversely, let $(u, v) \\in S^\\prime$. Then there exists a number $y$ such that\n",
    "\n",
    "$$\n",
    "\\begin{cases}\n",
    "u &= e^c \\cos y \\\\\n",
    "v &= e^c \\sin y\n",
    "\\end{cases}\n",
    "$$\n",
    "\n",
    "thus\n",
    "\n",
    "$$\n",
    "(u, v) = (e^c \\cos y, e^c \\sin y)\n",
    "$$\n",
    "\n",
    "Hence $S^\\prime \\subseteq S$. Hence $S = S^\\prime$.\n",
    "\n",
    "Hence the image of $F$ of the line $x = c$ is the circle with center at $(0, 0)$ and radius $e^c$."
   ]
  },
  {
   "cell_type": "markdown",
   "metadata": {},
   "source": [
    "## 11. Let $F$ be the mapping defined by $F(t, u) = (\\cos t, \\sin t, u)$. Describe geometrically the image of the $(t, u)$-plane under $F$.\n",
    "\n",
    "### Solution\n",
    "\n",
    "The $t, u$-plane has $t$, $u$ be any number in $R$.\n",
    "\n",
    "Let $a = \\cos t, b = \\sin t, c = u$. Then we have $a^2 + b^2 = 1$, and $w$ can be any number in $R$.\n",
    "\n",
    "Hence $(a, b, c)$ is on the cylinder surface centered at $(0, 0, 0)$, with radius $1$ that infinitely extending at the $(0, 0, 1)$-basis. Let's denote such a surface as $S^\\prime$, and let's denote the image of $F$ on of the $(t, u)$-plane as $S$. Then we have $S \\subseteq S^\\prime$.\n",
    "\n",
    "Conversely, let $(a, b, c) \\in S^\\prime$. Since $a^2 + b^2 = 1$, and $c$ can be any number in $R$, we can find some $t, u \\in R$ such that\n",
    "\n",
    "$$\n",
    "\\begin{cases}\n",
    "a &= \\cos t \\\\\n",
    "b &= \\sin t \\\\\n",
    "c &= u\n",
    "\\end{cases}\n",
    "$$\n",
    "\n",
    "Hence $S^\\prime \\subseteq S$. Hence $S = S^\\prime$.\n",
    "\n",
    "Hence the image of the $(t, u)$-plane under $F$ is the cylinder surface centered at $(0, 0, 0)$, with radius $1$ that infinitely extending at the $(0, 0, 1)$-basis."
   ]
  },
  {
   "cell_type": "code",
   "execution_count": null,
   "metadata": {},
   "outputs": [],
   "source": []
  }
 ],
 "metadata": {
  "kernelspec": {
   "display_name": "Python 3",
   "language": "python",
   "name": "python3"
  },
  "language_info": {
   "codemirror_mode": {
    "name": "ipython",
    "version": 3
   },
   "file_extension": ".py",
   "mimetype": "text/x-python",
   "name": "python",
   "nbconvert_exporter": "python",
   "pygments_lexer": "ipython3",
   "version": "3.7.0"
  }
 },
 "nbformat": 4,
 "nbformat_minor": 2
}
