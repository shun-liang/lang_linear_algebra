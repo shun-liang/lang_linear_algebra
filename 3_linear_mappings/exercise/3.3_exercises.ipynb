{
 "cells": [
  {
   "cell_type": "markdown",
   "metadata": {},
   "source": [
    "## 1. Let $A,B$ be two vectors in $R^2$ forming a basis of $R^2$. Let $F:R^2 \\to R^n$ be a linear map. Show that either $F(A), F(B)$ are linearly independent, or the image of $F$ has dimension $1$, or the image of F is $\\{\\mathit{0}\\}$.\n",
    "\n",
    "### Proof\n",
    "\n",
    "Since $F$ is a linear map, from [theorem 3.2](../3_3.kernel_and_image_of_a_linear_map.ipynb#Theorem-3.2:-Kernel,-image,-and-dimensions), we have\n",
    "\n",
    "$$\n",
    "\\dim R^2 = 2 = \\dim \\operatorname{Ker} F + \\dim \\operatorname{Im} F\n",
    "$$\n",
    "\n",
    "Since dimensions of vector spaces are natural numbers, there are three cases\n",
    "\n",
    "$$\n",
    "\\begin{cases}\n",
    "\\dim \\operatorname{Ker} F = 0, \\dim \\operatorname{Im} F = 2 &\\text{(a)} \\\\\n",
    "\\dim \\operatorname{Ker} F = 1, \\dim \\operatorname{Im} F = 1 &\\text{(b)} \\\\\n",
    "\\dim \\operatorname{Ker} F = 2, \\dim \\operatorname{Im} F = 0 &\\text{(c)} \\\\\n",
    "\\end{cases}\n",
    "$$\n",
    "\n",
    "In cases (a), we have $\\operatorname{Ker} F = \\{0\\}$. Since $\\{A, B\\}$ is a basis of $R^2$, thus $A, B$ are linearly independent. By [theorem 3.1](../3_3.kernel_and_image_of_a_linear_map.ipynb#Theorem-3.1.) we have $F(A), F(B)$ being linearly independent in $R^n$.\n",
    "\n",
    "In cases (b), we have $\\dim \\operatorname{Im} F = 1$.\n",
    "\n",
    "In case (c), we have $\\operatorname{Im} F = \\{0\\}$.\n",
    "\n",
    "Q.E.D."
   ]
  },
  {
   "cell_type": "markdown",
   "metadata": {},
   "source": [
    "## 2. Let $A$ be a non-zero vector in $R^2$. Let $F: R^2 \\to W$ be a linear map such that $F(A) = \\mathit{0}$. Show that the image of $F$ is either a straight line or ${\\mathit{0}}$.\n",
    "\n",
    "### Proof\n",
    "\n",
    "Since $F$ is a linear map, from [theorem 3.2](../3_3.kernel_and_image_of_a_linear_map.ipynb#Theorem-3.2:-Kernel,-image,-and-dimensions), we have\n",
    "\n",
    "$$\n",
    "\\dim R^2 = 2 = \\dim \\operatorname{Ker} F + \\dim \\operatorname{Im} F\n",
    "$$\n",
    "\n",
    "\n",
    "And since $F(A) = \\mathit{0}$, we have $A \\in \\operatorname{Ker} F$. Hence $\\dim \\operatorname{Ker} F \\neq 0$. And it can only be $1$ or $2$.\n",
    "\n",
    "If $\\dim \\operatorname{Ker} F = 1$, we have $\\dim \\dim \\operatorname{Im} F = \\dim R^2 - \\dim \\operatorname{Ker} F = 1$. Thus $\\operatorname{Im} F$ is a straight line.\n",
    "\n",
    "If $\\dim \\operatorname{Ker} F = 2$, we have $\\dim \\dim \\operatorname{Im} F = \\dim R^2 - \\dim \\operatorname{Ker} F = 0$. Thus $\\operatorname{Im} F = \\{0\\}$.\n",
    "\n",
    "Q.E.D."
   ]
  },
  {
   "cell_type": "markdown",
   "metadata": {},
   "source": [
    "## 3. Determine the dimension of the subspace of $R^4$ consisting of all $X \\in R^4$ such that\n",
    "\n",
    "$$\n",
    "\\begin{aligned}\n",
    "x_1 + 2 x_2 = 0 && \\text{and} && x_3 - 15 x_4 = 0\n",
    "\\end{aligned}\n",
    "$$\n",
    "\n",
    "### Solution\n",
    "\n",
    "Since there are linear relationship between $x_1, x_2$ and $x_3, x_4$, we have $\\dim \\operatorname{Im} F = 2$."
   ]
  },
  {
   "cell_type": "markdown",
   "metadata": {},
   "source": [
    "## 4. Let $L:V \\to W$ be a linear map. Let $w$ be an element of $W$. Let $v_0$ be an element of $V$ such that $L(v_0) = w$. Show that any solution of the equation $L(X) = w$ is of type $v_0 + u$, where $u$ is an element of the kernel of $L$.\n",
    "\n",
    "### Proof\n",
    "\n",
    "For any $X \\in V$ such that $L(X) = w$, let $u = X - v_0$. Thus $X = u + v_0$. Since $L$ is a linear map, we have\n",
    "\n",
    "$$\n",
    "L(X) = L(v_0 + u) = L(v_0) + L(u)\n",
    "$$\n",
    "\n",
    "And since $L(x) = L(v_0) = w$, we have $L(u) = \\mathit{0}$. Thus $u \\in \\operatorname{Ker} L$. Q.E.D."
   ]
  },
  {
   "cell_type": "markdown",
   "metadata": {},
   "source": [
    "## 5.  Let $V$ be the vector space of functions which have derivatives of all orders, and let $D: V \\to V$ be the derivative. What is the kernel of $D$?\n",
    "\n",
    "### Solution\n",
    "\n",
    "The kernel of $D$ is the set of all constant functions."
   ]
  },
  {
   "cell_type": "markdown",
   "metadata": {},
   "source": [
    "## 6. Let $D^2$ be the second derivative (i.e. the iteration of $D$ taken twice). What is the kernel of $D^2$? In general, what is the kernel of $D^n$ ($n$-th derivative)?\n",
    "\n",
    "### Solution\n",
    "\n",
    "The kernel of $D^2$ is the set of all functions of the form $F(x) = a x + b$ for any $a, b \\in R$.\n",
    "\n",
    "The kernel of $D^n$ is the set of all functions of the form $F(x) = a_1 x^{n - 1} + a_2 x^{n - 2} + ... + a_{n - 1} x + a_n$ for any $a_1, ..., a_n \\in R$."
   ]
  },
  {
   "cell_type": "markdown",
   "metadata": {},
   "source": [
    "## 7.\n",
    "\n",
    "Let $V$ be again the vector space of functions which have derivatives of all orders. Let $W$ be the subspace of $V$ consisting of those functions $f$ such that\n",
    "\n",
    "$$\n",
    "\\begin{aligned}\n",
    "f^{\\prime\\prime} + 4 f = 0 && \\text{and} && f(\\pi) = 0\n",
    "\\end{aligned}\n",
    "$$\n",
    "\n",
    "Determine the dimension of $W$.\n",
    "\n",
    "### Solution\n",
    "\n",
    "Let $K$ be the field under the domain of the functions in $V$."
   ]
  },
  {
   "cell_type": "code",
   "execution_count": 2,
   "metadata": {},
   "outputs": [
    {
     "data": {
      "text/plain": [
       "Eq(f(x), C1*sin(2*x) + C2*cos(2*x))"
      ]
     },
     "execution_count": 2,
     "metadata": {},
     "output_type": "execute_result"
    }
   ],
   "source": [
    "from sympy import Function, Eq, Derivative, dsolve\n",
    "from sympy.abc import x\n",
    "\n",
    "f = Function('f')\n",
    "eq = Eq(Derivative(f(x), x, 2) + 4 * f(x), 0)\n",
    "dsolve(eq)"
   ]
  },
  {
   "cell_type": "markdown",
   "metadata": {},
   "source": [
    "Hence the set of solutions for $f^{\\prime\\prime} + 4 f = 0$ is $\\{f \\in V | (\\forall c_1, c_2 \\in K) [f(x) = c_1 \\sin(2 * x) + c_2 \\cos(2 * x)]\\}$.\n",
    "\n",
    "And since $f(\\pi) = 0$, for any function in the solution above, we have $c_1 \\sin(2 * pi) + c_2 \\cos(2 * pi) = c_2 = 0$. Hence $W = \\{f \\in V | (\\forall c_1 \\in K) [f(x) = c_1 \\sin(2 * x)\\}$. Hence $\\dim W = 1$."
   ]
  },
  {
   "cell_type": "markdown",
   "metadata": {},
   "source": [
    "## 8.\n",
    "\n",
    "Let $V$ be the vector space of all infinitely differentiable functions. We write the functions as functions of a variable $t$, and let $D = \\frac{d}{d t}$. Let $a_1, ..., a_m$ be numbers. Let $g$ be an element of $V$. Describe how the problem of finding a solution of the differential equation\n",
    "\n",
    "$$\n",
    "a_m \\frac{d^m f}{d f^m} + a_{m - 1} \\frac{d^{m - 1} f}{d f^{m - 1}} + ... + a_0 f = g\n",
    "$$\n",
    "\n",
    "can be interpreted as fitting the abstract situation described in Exercise 4.\n",
    "\n",
    "### Solution\n",
    "\n"
   ]
  },
  {
   "cell_type": "markdown",
   "metadata": {},
   "source": [
    "## 9. Again let $V$ be the space of all infinitely differentiable functions, and let $D: V \\to V$ be the derivative."
   ]
  },
  {
   "cell_type": "markdown",
   "metadata": {},
   "source": [
    "### (a) Let $L = D - I$ where $I$ is the identity mapping. What is the kernel of $L$?\n",
    "\n",
    "#### Solution\n",
    "\n",
    "Let $K$ be the field under $V$.\n",
    "\n",
    "For any $f \\in V$\n",
    "\n",
    "$$\n",
    "L(f) = (D - I) f = (D f) - f\n",
    "$$\n",
    "\n",
    "Hence if $L(f) = \\mathit{0}$, we have $D f = f$. Hence the kernel of $L$ is $\\{f \\in V | (\\forall c \\in K) [f(x) = c e^x]\\}$."
   ]
  },
  {
   "cell_type": "markdown",
   "metadata": {},
   "source": [
    "### (b)  Same question if $L = D - a I$, where a is a number.\n",
    "\n",
    "#### Solution\n",
    "\n",
    "Let $K$ be the field under $V$.\n",
    "\n",
    "For any $f \\in V$\n",
    "\n",
    "$$\n",
    "L(f) = (D - a I) f = (D f) - a f\n",
    "$$\n",
    "\n",
    "Hence if $L(f) = \\mathit{0}$, we have $D f = a f$. Hence the kernel of $L$ is $\\{f \\in V | (\\forall c \\in K) [f(x) = c e^{a x}]\\}$."
   ]
  },
  {
   "cell_type": "markdown",
   "metadata": {},
   "source": [
    "## 10.\n",
    "\n",
    "### (a) What is the dimension of the subspace of $K^n$ consisting of those vectors $A = (a_1, ..., a_n)$ such that $a_1 + ... + a_n = 0$?\n",
    "\n",
    "#### Solution\n",
    "\n",
    "This question is identical to:\n",
    "\n",
    "Let $L: K^n \\to K$ be a mapping such that such that $L(A) = a_1 + ... + a_n$ for vectors $A = (a_1, ..., a_n)$. It's obvious that $L$ is a linear map. What is $\\dim \\operatorname{Ker} L$?\n",
    "\n",
    "Since $L$ is a linear map, from [theorem 3.2](../3_3.kernel_and_image_of_a_linear_map.ipynb#Theorem-3.2:-Kernel,-image,-and-dimensions), we have\n",
    "\n",
    "$$\n",
    "\\dim V = \\dim \\operatorname{Im} L + \\dim \\operatorname{Ker} L\n",
    "$$\n",
    "\n",
    "Hence $\\dim \\operatorname{Ker} L = \\dim K^n - \\dim \\operatorname{Im} L$.\n",
    "\n",
    "It is obvious that $\\operatorname{Im} L \\neq \\{0\\}$. Hence $\\dim \\operatorname{Im} L > 0$. And from [theorem 3.7 in chapter 1](../../1_vector_spaces/1_vector_spaces.ipynb#Theorem-3.7.), since $\\operatorname{Im} L$ [is a subspace](../3_3.kernel_and_image_of_a_linear_map.ipynb#Image-of-a-linear-map-as-a-subspace) of $K$, we have $\\dim \\operatorname{Im} L \\leq K = 1$. Hence $\\dim \\operatorname{Im} L = 1$.\n",
    "\n",
    "Thus $\\dim \\operatorname{Ker} L = \\dim K^n - \\dim \\operatorname{Im} L = n - 1 $."
   ]
  },
  {
   "cell_type": "markdown",
   "metadata": {},
   "source": [
    "### (b) What is the dimension of the subspace of the space of $n \\times n$ matrices $(a_{i j})$ such that\n",
    "\n",
    "$$\n",
    "a_{1 1} + ... + a_{n n} = \\sum_{i = 1}^{n} a_{i i} = 0 ?\n",
    "$$\n",
    "\n",
    "\\[For part (b), look at the next exercise.\\]"
   ]
  },
  {
   "cell_type": "code",
   "execution_count": null,
   "metadata": {},
   "outputs": [],
   "source": []
  }
 ],
 "metadata": {
  "kernelspec": {
   "display_name": "Python 3",
   "language": "python",
   "name": "python3"
  },
  "language_info": {
   "codemirror_mode": {
    "name": "ipython",
    "version": 3
   },
   "file_extension": ".py",
   "mimetype": "text/x-python",
   "name": "python",
   "nbconvert_exporter": "python",
   "pygments_lexer": "ipython3",
   "version": "3.7.0"
  }
 },
 "nbformat": 4,
 "nbformat_minor": 2
}
