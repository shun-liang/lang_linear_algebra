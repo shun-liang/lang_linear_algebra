{
 "cells": [
  {
   "cell_type": "markdown",
   "metadata": {},
   "source": [
    "## Motivation\n",
    "\n",
    "We have already considered the relation between matrices and linear maps of $K^n \\to K^m$.\n",
    "\n",
    "Now let $V, W$ be arbitrary finite dimensional vector spaces over $K$. Let\n",
    "\n",
    "$$\n",
    "\\begin{aligned}\n",
    "\\mathscr{B} = \\{v_1, ..., v_n\\} &&  \\text{and} && \\mathscr{B}^\\prime = \\{w_1, ..., w_m\\}\n",
    "\\end{aligned}\n",
    "$$\n",
    "\n",
    "be bases of $V$ and $W$ respectively.\n",
    "\n",
    "Then we know that elements of $V$ and $W$ have coordinate vectors with respect to these bases.\n",
    "\n",
    "In other words, if $v \\in V$, then we can express $v$ uniquely as a linear combination\n",
    "\n",
    "$$\n",
    "\\begin{aligned}\n",
    "v = x_1 v_1 + ... + x_n v_n && x_i \\in K\n",
    "\\end{aligned}\n",
    "$$\n",
    "\n",
    "Thus $V$ is isomorphic to $K^n$ under the map $K^n \\to V$ given by\n",
    "\n",
    "$$\n",
    "(x_1, ..., x_n) \\mapsto x_1 v_1 + ... + x_n v_n\n",
    "$$\n",
    "\n",
    "Similarly for $W$. If $F: V \\to W$ is a linear map, then using the above isomorphism, we can interpret $F$ as a linear map of $K^n$ into $K^m$."
   ]
  },
  {
   "cell_type": "code",
   "execution_count": null,
   "metadata": {},
   "outputs": [],
   "source": []
  }
 ],
 "metadata": {
  "kernelspec": {
   "display_name": "Python 3",
   "language": "python",
   "name": "python3"
  },
  "language_info": {
   "codemirror_mode": {
    "name": "ipython",
    "version": 3
   },
   "file_extension": ".py",
   "mimetype": "text/x-python",
   "name": "python",
   "nbconvert_exporter": "python",
   "pygments_lexer": "ipython3",
   "version": "3.7.0"
  }
 },
 "nbformat": 4,
 "nbformat_minor": 2
}
