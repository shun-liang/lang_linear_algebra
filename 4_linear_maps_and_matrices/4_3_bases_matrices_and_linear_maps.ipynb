{
 "cells": [
  {
   "cell_type": "markdown",
   "metadata": {},
   "source": [
    "## Motivation\n",
    "\n",
    "We have already considered the relation between matrices and linear maps of $K^n \\to K^m$.\n",
    "\n",
    "Now let $V, W$ be arbitrary finite dimensional vector spaces over $K$. Let\n",
    "\n",
    "$$\n",
    "\\begin{aligned}\n",
    "\\mathscr{B} = \\{v_1, ..., v_n\\} &&  \\text{and} && \\mathscr{B}^\\prime = \\{w_1, ..., w_m\\}\n",
    "\\end{aligned}\n",
    "$$\n",
    "\n",
    "be bases of $V$ and $W$ respectively.\n",
    "\n",
    "\n",
    "Then we have\n",
    "\n",
    "$$\n",
    "\\dim V = \\dim K^n = n \\\\\n",
    "\\dim W = \\dim K^m = m\n",
    "$$\n",
    "\n",
    "And since [two finite dimensional vector spaces are isomorphic if and only if they have the same dimension](../extra_notes/isomorphism_of_vector_spaces.ipynb#Corollary-7.-Two-finite-dimensional-vector-spaces-are-isomorphic-if-and-only-if-they-have-the-same-dimension.), we know $V$ is isomorphic to $K^n$, and $W$ is isomorphic to $K^m$.\n",
    "\n",
    "And since the [coordinates linear maps](../extra_notes/isomorphism_of_vector_spaces.ipynb#Coordinates-with-respect-to-a-basis-determine-an-isomorphism) $\\phi_\\mathscr{B}: V \\xrightarrow{\\simeq} K^n$ and $\\phi_{\\mathscr{B}^\\prime}: W \\xrightarrow{\\simeq} K^m$ [are isomorphisms](../extra_notes/isomorphism_of_vector_spaces.ipynb#Theorem-6.-The-correspondence-$v$-to-$[v]_\\beta$-is-an-isomorphism-$\\phi_\\beta:-V-\\xrightarrow{\\simeq}-F^n$.), and [since an isomorphism's inverse is also an isomorphism](extra_notes/isomorphism_of_vector_spaces.ipynb#Theorem-2:-An-isomorphism-is-invertible,-and-its-inverse-is-also-an-isomorphism), then we have $\\phi_\\mathscr{B}^{-1}: K^n \\xrightarrow{\\simeq} V$ and $\\phi_\\mathscr{B}^{-1}: K^m \\xrightarrow{\\simeq} W$, where\n",
    "\n",
    "$$\n",
    "\\phi_\\mathscr{B}^{-1}()\n",
    "$$"
   ]
  },
  {
   "cell_type": "code",
   "execution_count": null,
   "metadata": {},
   "outputs": [],
   "source": []
  }
 ],
 "metadata": {
  "kernelspec": {
   "display_name": "Python 3",
   "language": "python",
   "name": "python3"
  },
  "language_info": {
   "codemirror_mode": {
    "name": "ipython",
    "version": 3
   },
   "file_extension": ".py",
   "mimetype": "text/x-python",
   "name": "python",
   "nbconvert_exporter": "python",
   "pygments_lexer": "ipython3",
   "version": "3.7.1"
  }
 },
 "nbformat": 4,
 "nbformat_minor": 2
}
