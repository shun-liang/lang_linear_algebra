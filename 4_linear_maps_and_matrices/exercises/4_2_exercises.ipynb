{
 "cells": [
  {
   "cell_type": "markdown",
   "metadata": {},
   "source": [
    "## 1. Find the matrix associated with the following linear maps."
   ]
  },
  {
   "cell_type": "markdown",
   "metadata": {},
   "source": [
    "### (a) $F:R^4 \\to R^2$ given by $F(\\begin{pmatrix}x_1 \\\\ x_2 \\\\ x_3 \\\\ x_4\\end{pmatrix})= \\begin{pmatrix}x_1 \\\\ x_2 \\end{pmatrix}$ (the projection)\n",
    "\n",
    "####  Solution\n",
    "\n",
    "Since\n",
    "$$\n",
    "F(E^1) = \\begin{pmatrix} 1 \\\\ 0 \\end{pmatrix}, F(E^2) = \\begin{pmatrix} 0 \\\\ 1\\end{pmatrix}, F(E^3) = \\begin{pmatrix} 0 \\\\ 0 \\end{pmatrix}, F(E^4) = \\begin{pmatrix} 0 \\\\ 0 \\end{pmatrix}\n",
    "$$\n",
    "\n",
    "Then we have the associated matrix $A$ for $F$ as\n",
    "\n",
    "$$\n",
    "A = \\begin{pmatrix}\n",
    "F(E^1) & F(E^2) & F(E^3) & F(E^4)\n",
    "\\end{pmatrix} =\n",
    "\\begin{pmatrix}\n",
    "1 & 0 & 0 & 0 \\\\\n",
    "0 & 1 & 0 & 0\n",
    "\\end{pmatrix}\n",
    "$$"
   ]
  },
  {
   "cell_type": "code",
   "execution_count": 1,
   "metadata": {},
   "outputs": [
    {
     "data": {
      "text/latex": [
       "$$\\left[\\begin{matrix}x_{1}\\\\x_{2}\\end{matrix}\\right]$$"
      ],
      "text/plain": [
       "⎡x₁⎤\n",
       "⎢  ⎥\n",
       "⎣x₂⎦"
      ]
     },
     "execution_count": 1,
     "metadata": {},
     "output_type": "execute_result"
    }
   ],
   "source": [
    "## Verify\n",
    "\n",
    "from sympy import Matrix, symbols, init_printing\n",
    "\n",
    "init_printing()\n",
    "\n",
    "x_1, x_2, x_3, x_4 = symbols('x_1 x_2 x_3 x_4')\n",
    "\n",
    "A = Matrix([[1, 0, 0, 0], [0, 1, 0, 0]])\n",
    "\n",
    "X = Matrix([[x_1, x_2, x_3, x_4]]).T\n",
    "\n",
    "A * X"
   ]
  },
  {
   "cell_type": "markdown",
   "metadata": {},
   "source": [
    "### (b) The projection from $R^4$ to $R^3$\n",
    "\n",
    "#### Solution\n",
    "\n",
    "The project $R^4$ to $R^3$ is a linear map $F: R^4 \\to R^3$ which is defined as\n",
    "\n",
    "$$\n",
    "F(\\begin{pmatrix}x_1 \\\\ x_2 \\\\ x_3 \\\\ x_4\\end{pmatrix})= \\begin{pmatrix}x_1 \\\\ x_2 \\\\ x_3 \\end{pmatrix}\n",
    "$$\n",
    "\n",
    "Thus\n",
    "\n",
    "$$\n",
    "F(E^1) = \\begin{pmatrix} 1 \\\\ 0 \\\\ 0 \\end{pmatrix}, F(E^2) = \\begin{pmatrix} 0 \\\\ 1 \\\\ 0 \\end{pmatrix}, F(E^3) = \\begin{pmatrix} 0 \\\\ 0 \\\\ 1 \\end{pmatrix}, F(E^4) = \\begin{pmatrix} 0 \\\\ 0 \\\\ 0 \\end{pmatrix}\n",
    "$$\n",
    "\n",
    "Then we have the associated matrix $A$ of $F$ as\n",
    "\n",
    "$$\n",
    "A = \\begin{pmatrix} F(E^1) & F(E^2) & F(E^3) & F(E^4) \\end{pmatrix} =  \\begin{pmatrix} 1 & 0 & 0  & 0\\\\ 0 & 1 & 0 & 0 \\\\ 0 & 0 & 1 & 0 \\end{pmatrix}\n",
    "$$"
   ]
  },
  {
   "cell_type": "code",
   "execution_count": 2,
   "metadata": {},
   "outputs": [
    {
     "data": {
      "text/latex": [
       "$$\\left[\\begin{matrix}x_{1}\\\\x_{2}\\\\x_{3}\\end{matrix}\\right]$$"
      ],
      "text/plain": [
       "⎡x₁⎤\n",
       "⎢  ⎥\n",
       "⎢x₂⎥\n",
       "⎢  ⎥\n",
       "⎣x₃⎦"
      ]
     },
     "execution_count": 2,
     "metadata": {},
     "output_type": "execute_result"
    }
   ],
   "source": [
    "## Verify\n",
    "\n",
    "A = Matrix([[1, 0, 0, 0], [0, 1, 0, 0], [0, 0, 1, 0]])\n",
    "\n",
    "A * X"
   ]
  },
  {
   "cell_type": "markdown",
   "metadata": {},
   "source": [
    "### (c) $F: R^2 \\to R^2$ given by $F(\\begin{pmatrix} x \\\\ y \\end{pmatrix}) = \\begin{pmatrix} 3 x \\\\ 3 y \\end{pmatrix}$\n",
    "\n",
    "#### Solution\n",
    "\n",
    "We have\n",
    "\n",
    "$$\n",
    "F(E^1) = \\begin{pmatrix} 3 \\\\ 0 \\end{pmatrix}, F(E^1) = \\begin{pmatrix} 0 \\\\ 3 \\end{pmatrix}\n",
    "$$\n",
    "\n",
    "Then we have the associated matrix $A$ of $F$ as\n",
    "\n",
    "$$\n",
    "A = \\begin{pmatrix} F(E^1) & F(E^2) \\end{pmatrix} = \\begin{pmatrix} 3 & 0 \\\\ 0 & 3 \\end{pmatrix}\n",
    "$$"
   ]
  },
  {
   "cell_type": "code",
   "execution_count": 3,
   "metadata": {},
   "outputs": [
    {
     "data": {
      "text/latex": [
       "$$\\left[\\begin{matrix}3 x_{1}\\\\3 x_{2}\\end{matrix}\\right]$$"
      ],
      "text/plain": [
       "⎡3⋅x₁⎤\n",
       "⎢    ⎥\n",
       "⎣3⋅x₂⎦"
      ]
     },
     "execution_count": 3,
     "metadata": {},
     "output_type": "execute_result"
    }
   ],
   "source": [
    "## Verify\n",
    "\n",
    "X = Matrix([[x_1, x_2]]).T\n",
    "\n",
    "A = Matrix([[3, 0], [0, 3]])\n",
    "\n",
    "A * X"
   ]
  },
  {
   "cell_type": "markdown",
   "metadata": {},
   "source": [
    "### (d) $F: R^n \\to R^n$ given by $F(X) = 7 X$\n",
    "\n",
    "#### Solution\n",
    "\n",
    "We have\n",
    "\n",
    "$$\n",
    "F(E^1) = \\begin{pmatrix} 7 \\\\ 0 \\\\ \\vdots \\\\ 0 \\end{pmatrix}, F(E^2)= \\begin{pmatrix} 0 \\\\ 7 \\\\ \\vdots \\\\ 0 \\end{pmatrix}, ..., F(E^n) = \\begin{pmatrix} 0 \\\\ 0 \\\\ \\vdots \\\\ 7 \\end{pmatrix}\n",
    "$$\n",
    "\n",
    "Thus\n",
    "\n",
    "$$\n",
    "A = \\begin{pmatrix} F(E^1) & F(E^2) & \\cdots & F(E^n) \\end{pmatrix} = \\begin{pmatrix} 7 & 0 & \\cdots & 0 \\\\ 0 & 7 & \\cdots & 0 \\\\ 0 & 0 & \\cdots & 7 \\end{pmatrix} = 7 I_n\n",
    "$$"
   ]
  },
  {
   "cell_type": "code",
   "execution_count": 4,
   "metadata": {},
   "outputs": [
    {
     "data": {
      "text/latex": [
       "$$\\left[\\begin{matrix}7 x_{1}\\\\7 x_{2}\\\\7 x_{3}\\\\7 x_{4}\\end{matrix}\\right]$$"
      ],
      "text/plain": [
       "⎡7⋅x₁⎤\n",
       "⎢    ⎥\n",
       "⎢7⋅x₂⎥\n",
       "⎢    ⎥\n",
       "⎢7⋅x₃⎥\n",
       "⎢    ⎥\n",
       "⎣7⋅x₄⎦"
      ]
     },
     "execution_count": 4,
     "metadata": {},
     "output_type": "execute_result"
    }
   ],
   "source": [
    "## Verify\n",
    "\n",
    "from sympy import eye\n",
    "\n",
    "n = 4\n",
    "\n",
    "X = Matrix([[x_1, x_2, x_3, x_4]]).T\n",
    "\n",
    "(7 * eye(4)) * X"
   ]
  },
  {
   "cell_type": "markdown",
   "metadata": {},
   "source": [
    "### (f) $F: R^4 \\to R^4$ given by $F(\\begin{pmatrix}x_1 \\\\ x_2 \\\\ x_3 \\\\ x_4\\end{pmatrix}) = \\begin{pmatrix}x_1 \\\\ x_2 \\\\ 0 \\\\ 0 \\end{pmatrix}$\n",
    "\n",
    "#### Solution\n",
    "\n",
    "We have\n",
    "\n",
    "$$\n",
    "F(E^1) = \\begin{pmatrix}1 \\\\ 0 \\\\ 0 \\\\ 0 \\end{pmatrix}, F(E^2) = \\begin{pmatrix}0 \\\\ 1 \\\\ 0 \\\\ 0 \\end{pmatrix}, F(E^3) = \\begin{pmatrix}0 \\\\ 0 \\\\ 0 \\\\ 0 \\end{pmatrix}, F(E^4) = \\begin{pmatrix}0 \\\\ 0 \\\\ 0 \\\\ 0 \\end{pmatrix}\n",
    "$$\n",
    "\n",
    "Thus\n",
    "\n",
    "$$\n",
    "A = \\begin{pmatrix} F(E^1) & F(E^2) & F(E^3) & F(E^3) \\end{pmatrix} = \\begin{pmatrix}1 & 0 & 0 & 0 \\\\ 0 & 1 & 0 & 0 \\\\ 0 & 0 & 0 & 0 \\\\ 0 & 0 & 0 & 0 \\end{pmatrix}\n",
    "$$"
   ]
  },
  {
   "cell_type": "code",
   "execution_count": 5,
   "metadata": {},
   "outputs": [
    {
     "data": {
      "text/latex": [
       "$$\\left[\\begin{matrix}x_{1}\\\\x_{2}\\\\0\\\\0\\end{matrix}\\right]$$"
      ],
      "text/plain": [
       "⎡x₁⎤\n",
       "⎢  ⎥\n",
       "⎢x₂⎥\n",
       "⎢  ⎥\n",
       "⎢0 ⎥\n",
       "⎢  ⎥\n",
       "⎣0 ⎦"
      ]
     },
     "execution_count": 5,
     "metadata": {},
     "output_type": "execute_result"
    }
   ],
   "source": [
    "## Verify\n",
    "\n",
    "A = Matrix([[1, 0, 0, 0], [0, 1, 0, 0], [0, 0, 0, 0], [0, 0, 0, 0]])\n",
    "\n",
    "A * X"
   ]
  },
  {
   "cell_type": "markdown",
   "metadata": {},
   "source": [
    "## 2. Find the matrix $R(\\theta)$ associated with the rotation for each of the following values of $\\theta$.\n",
    "\n",
    "- (a) $\\frac{\\pi}{2}$\n",
    "- (b) $\\frac{\\pi}{4}$\n",
    "- (c) $\\pi$\n",
    "- (d) $- \\pi$\n",
    "- (e) $- \\frac{\\pi}{3}$\n",
    "- (f) $\\frac{\\pi}{6}$\n",
    "- (g) $\\frac{5 \\pi}{4}$"
   ]
  },
  {
   "cell_type": "code",
   "execution_count": 28,
   "metadata": {},
   "outputs": [
    {
     "data": {
      "text/latex": [
       "$$R(\\frac{\\pi}{2}) = \\left[\\begin{matrix}0 & -1\\\\1 & 0\\end{matrix}\\right]$$"
      ],
      "text/plain": [
       "<IPython.core.display.Latex object>"
      ]
     },
     "metadata": {},
     "output_type": "display_data"
    },
    {
     "data": {
      "text/latex": [
       "$$R(\\frac{\\pi}{4}) = \\left[\\begin{matrix}\\frac{\\sqrt{2}}{2} & - \\frac{\\sqrt{2}}{2}\\\\\\frac{\\sqrt{2}}{2} & \\frac{\\sqrt{2}}{2}\\end{matrix}\\right]$$"
      ],
      "text/plain": [
       "<IPython.core.display.Latex object>"
      ]
     },
     "metadata": {},
     "output_type": "display_data"
    },
    {
     "data": {
      "text/latex": [
       "$$R(\\pi) = \\left[\\begin{matrix}-1 & 0\\\\0 & -1\\end{matrix}\\right]$$"
      ],
      "text/plain": [
       "<IPython.core.display.Latex object>"
      ]
     },
     "metadata": {},
     "output_type": "display_data"
    },
    {
     "data": {
      "text/latex": [
       "$$R(- \\pi) = \\left[\\begin{matrix}-1 & 0\\\\0 & -1\\end{matrix}\\right]$$"
      ],
      "text/plain": [
       "<IPython.core.display.Latex object>"
      ]
     },
     "metadata": {},
     "output_type": "display_data"
    },
    {
     "data": {
      "text/latex": [
       "$$R(- \\frac{\\pi}{3}) = \\left[\\begin{matrix}\\frac{1}{2} & \\frac{\\sqrt{3}}{2}\\\\- \\frac{\\sqrt{3}}{2} & \\frac{1}{2}\\end{matrix}\\right]$$"
      ],
      "text/plain": [
       "<IPython.core.display.Latex object>"
      ]
     },
     "metadata": {},
     "output_type": "display_data"
    },
    {
     "data": {
      "text/latex": [
       "$$R(\\frac{\\pi}{6}) = \\left[\\begin{matrix}\\frac{\\sqrt{3}}{2} & - \\frac{1}{2}\\\\\\frac{1}{2} & \\frac{\\sqrt{3}}{2}\\end{matrix}\\right]$$"
      ],
      "text/plain": [
       "<IPython.core.display.Latex object>"
      ]
     },
     "metadata": {},
     "output_type": "display_data"
    },
    {
     "data": {
      "text/latex": [
       "$$R(\\frac{5 \\pi}{4}) = \\left[\\begin{matrix}- \\frac{\\sqrt{2}}{2} & \\frac{\\sqrt{2}}{2}\\\\- \\frac{\\sqrt{2}}{2} & - \\frac{\\sqrt{2}}{2}\\end{matrix}\\right]$$"
      ],
      "text/plain": [
       "<IPython.core.display.Latex object>"
      ]
     },
     "metadata": {},
     "output_type": "display_data"
    }
   ],
   "source": [
    "### Solution\n",
    "\n",
    "from IPython.display import display, Latex\n",
    "from sympy import cos, sin, pi, latex\n",
    "\n",
    "theta = symbols('theta')\n",
    "\n",
    "R = Matrix([[cos(theta), - sin(theta)], [sin(theta), cos(theta)]])\n",
    "\n",
    "for angle in [pi / 2, pi / 4, pi, - pi, - pi / 3, pi / 6, 5 * pi / 4]:\n",
    "   display(Latex(f'$$R({latex(angle)}) = {latex(R.subs(theta, angle))}$$'))"
   ]
  },
  {
   "cell_type": "markdown",
   "metadata": {},
   "source": [
    "## 3. In general, let $\\theta > 0$. What is the matrix associated with the rotation by an angle $-\\theta$ (i.e. clockwise rotation by $\\theta$)?\n",
    "\n",
    "### Solution\n",
    "\n",
    "We already know the rotation matrix of $\\theta$ is\n",
    "\n",
    "$$\n",
    "R(\\theta) = \\begin{pmatrix}\n",
    "\\cos \\theta & - \\sin \\theta \\\\\n",
    "\\sin \\theta & \\cos \\theta\n",
    "\\end{pmatrix}\n",
    "$$\n",
    "\n",
    "Then we have\n",
    "\n",
    "$$\n",
    "R(- \\theta) = \\begin{pmatrix}\n",
    "\\cos (- \\theta) & - \\sin (- \\theta) \\\\\n",
    "\\sin (- \\theta) & \\cos (- \\theta)\n",
    "\\end{pmatrix}\n",
    "= \\begin{pmatrix}\n",
    "\\cos \\theta & \\sin \\theta \\\\\n",
    "- \\sin \\theta & \\cos \\theta\n",
    "\\end{pmatrix}\n",
    "$$"
   ]
  },
  {
   "cell_type": "markdown",
   "metadata": {},
   "source": [
    "## 4. Let $X = \\begin{pmatrix}1 \\\\ 2 \\end{pmatrix}$ be a point of the plane. Let $F$ be the rotation through an angle of $\\frac{\\pi}{4}$. What are the coordinates of $F(X)$ relative to the usual basis $\\{E^1, E^2\\}$?"
   ]
  },
  {
   "cell_type": "code",
   "execution_count": 25,
   "metadata": {},
   "outputs": [
    {
     "data": {
      "text/latex": [
       "$$R(\\frac{\\pi}{4}) X = \\left[\\begin{matrix}- \\frac{\\sqrt{2}}{2}\\\\\\frac{3 \\sqrt{2}}{2}\\end{matrix}\\right]$$"
      ],
      "text/plain": [
       "<IPython.core.display.Latex object>"
      ]
     },
     "metadata": {},
     "output_type": "display_data"
    }
   ],
   "source": [
    "## Solution\n",
    "\n",
    "X = Matrix([[1, 2]]).T\n",
    "X_1 = Matrix([[x_1, x_2]]).T\n",
    "angle = pi / 4\n",
    "\n",
    "display(Latex(f'$$R({latex(angle)}) X = {latex(R.subs(theta, angle) * X)}$$'))"
   ]
  },
  {
   "cell_type": "markdown",
   "metadata": {},
   "source": [
    "## 5. Same question when $X = \\begin{pmatrix} -1 \\\\ 3 \\end{pmatrix}$, and $F$ is the rotation through $\\frac{\\pi}{2}$."
   ]
  },
  {
   "cell_type": "code",
   "execution_count": 30,
   "metadata": {},
   "outputs": [
    {
     "data": {
      "text/latex": [
       "$$R(\\frac{\\pi}{2}) X = \\left[\\begin{matrix}-3\\\\-1\\end{matrix}\\right]$$"
      ],
      "text/plain": [
       "<IPython.core.display.Latex object>"
      ]
     },
     "metadata": {},
     "output_type": "display_data"
    }
   ],
   "source": [
    "## Solution\n",
    "\n",
    "X = Matrix([[-1, 3]]).T\n",
    "angle = pi / 2\n",
    "\n",
    "display(Latex(f'$$R({latex(angle)}) X = {latex(R.subs(theta, angle) * X)}$$'))"
   ]
  },
  {
   "cell_type": "markdown",
   "metadata": {},
   "source": [
    "## 6. Let $F: R^n \\to R^n$ be a linear map which is invertible. Show that if $A$ is the matrix associated with $F$, then $A^{-1}$ is the matrix associated with the inverse of $F$.\n",
    "\n",
    "### Proof\n",
    "\n",
    "Let $G: R^n \\to R^n$ be the inverse mapping of $F$. By [theorem 2.1](../4_linear_maps_and_matricies.ipynb#Theorem-2.1:-Generalization:--$L:-K^n-\\to-K^m$) we know there is a unique associated matrix $B$ of $G$.\n",
    "\n",
    "Since $G$ is the inverse function of $F$, for any $X \\in R^n$, we have\n",
    "\n",
    "$$\n",
    "(F \\circ G)(X) = I_{R^n \\to R^n}(X) = X \\\\\n",
    "(G \\circ F)(X) = I_{R^n \\to R^n}(X) = X\n",
    "$$\n",
    "\n",
    "And by the definition of mapping composition, we have\n",
    "\n",
    "$$\n",
    "(F \\circ G)(X) = F(G(X)) = F(B X) = A (B X) = (A B) X \\\\\n",
    "(G \\circ F)(X) = G(F(X)) = G(A X) = B (A X) = (B A) X\n",
    "$$\n",
    "\n",
    "Thus\n",
    "\n",
    "$$\n",
    "A B = I_{n} \\\\\n",
    "B A = I_{n}\n",
    "$$\n",
    "\n",
    "By definition $B = A^{-1}$. Thus $A$ is invertible, and $A^{-1}$ is the matrix associated with the inverse of $F$.\n",
    "\n",
    "Q.E.D."
   ]
  },
  {
   "cell_type": "markdown",
   "metadata": {},
   "source": [
    "## 7. Let $F$ be a rotation through an angle $\\theta$. Show that for any vector $X$ in $R^3$ we have $\\lVert X \\rVert = \\lVert F(X) \\rVert$ (i.e. $F$ preserves norms), where $\\lVert \\begin{pmatrix} a \\\\ b \\end{pmatrix} \\rVert = \\sqrt{a^2 + b^2}$.\n",
    "\n",
    "### Proof\n",
    "\n",
    "For any $X = (x_1, x_2) \\in R^n$, we have\n",
    "\n",
    "$$\n",
    "\\lVert X \\rVert = \\lVert \\begin{pmatrix} x_1 \\\\ x_2 \\end{pmatrix} \\rVert = \\sqrt{x_1^2 + x_2^2}\n",
    "$$\n",
    "\n",
    "and\n",
    "\n",
    "$$\n",
    "R(\\theta) X = \\begin{pmatrix} \\cos \\theta & - \\sin \\theta \\\\ \\sin \\theta & \\cos \\theta \\end{pmatrix}\n",
    "\\begin{pmatrix}\n",
    "x_1 \\\\\n",
    "x_2\n",
    "\\end{pmatrix}\n",
    "= x_1 \\begin{pmatrix}\\cos \\theta \\\\ - \\sin \\theta \\end{pmatrix} + x_2 \\begin{pmatrix} \\sin \\theta \\\\ \\cos \\theta \\end{pmatrix}\n",
    "= \\begin{pmatrix}\n",
    "x_1 \\cos \\theta + x_2 \\sin \\theta \\\\\n",
    "- x_1 \\sin \\theta + x_2 \\cos \\theta \n",
    "\\end{pmatrix}\n",
    "$$\n",
    "\n",
    "Thus\n",
    "\n",
    "$$\n",
    "\\begin{aligned}\n",
    "\\lVert R(\\theta) X \\rVert &= \\lVert \\begin{pmatrix}\n",
    "x_1 \\cos \\theta + x_2 \\sin \\theta \\\\\n",
    "- x_1 \\sin \\theta + x_2 \\cos \\theta \n",
    "\\end{pmatrix} \\rVert \\\\\n",
    "&= \\sqrt{(x_1 \\cos \\theta + x_2 \\sin \\theta)^2 + (- x_1 \\sin \\theta + x_2 \\cos \\theta)^2} \\\\\n",
    "&= \\sqrt{((x_1 \\cos \\theta)^2 + 2 x_1 x_2 \\cos \\theta \\sin \\theta + (x_2 \\sin \\theta)^2) + ((- x_1 \\sin \\theta)^2 - 2 x_1 x_2 \\cos \\theta \\sin \\theta + (x_2 \\cos \\theta)^2)} \\\\\n",
    "&= \\sqrt{(x_1 \\cos \\theta)^2 +  (x_2 \\sin \\theta)^2+ (x_1 \\sin \\theta)^2 + (x_2 \\cos \\theta)^2} \\\\\n",
    "&= \\sqrt{x_1^2 ((\\cos \\theta)^2 + (\\sin \\theta)^2) + x_2^2 ((\\sin \\theta)^2 + (\\cos \\theta)^2)} \\\\\n",
    "&= \\sqrt{x_1^2 + x_2^2}\n",
    "\\end{aligned}\n",
    "$$\n",
    "\n",
    "Thus\n",
    "\n",
    "$$\n",
    "\\lVert R(\\theta) X \\rVert = \\lVert X \\rVert\n",
    "$$\n",
    "\n",
    "Q.E.D."
   ]
  },
  {
   "cell_type": "markdown",
   "metadata": {},
   "source": [
    "## 8. Let $c$ be a number, and let $L: R^n \\to R^n$ be the linear map such that $L(X) = c X$. What is the matrix associated with this linear map?\n",
    "\n",
    "### Solution\n",
    "\n",
    "We have\n",
    "\n",
    "$$\n",
    "L(E^1) = c E^1, L(E^2) = c E^2, ..., L(E^n) = c E^n\n",
    "$$\n",
    "\n",
    "Thus the associated matrix $A$ of $L$ as\n",
    "\n",
    "$$\n",
    "A = \\begin{pmatrix}\n",
    "L(E^1) & L(E^2) & \\cdots & L(E^n)\n",
    "\\end{pmatrix} = \n",
    "\\begin{pmatrix}\n",
    "c & 0 & \\cdots & 0 \\\\\n",
    "0 & c & \\cdots & 0 \\\\\n",
    "\\vdots & \\vdots & \\cdots & \\vdots \\\\\n",
    "0 & 0 & \\cdots & c \\\\\n",
    "\\end{pmatrix}\n",
    "= c I_n\n",
    "$$"
   ]
  },
  {
   "cell_type": "markdown",
   "metadata": {},
   "source": [
    "## 9. Let $F_\\theta$ be rotation by an angle $\\theta$. If $\\theta, \\varphi$ are numbers, compute the matrix of the linear map $F_{\\theta} \\circ F_{\\varphi}$ and show that it is the matrix of $F_{\\theta + \\varphi}$.\n",
    "\n",
    "### Solution: Compute the matrix of the linear map $F_{\\theta} \\circ F_{\\varphi}$.\n",
    "\n",
    "For any vector $X \\in R^2$, we have\n",
    "\n",
    "$$\n",
    "(F_{\\theta} \\circ F_{\\varphi})(X) = F_{\\theta}(F_{\\varphi}(X)) = F_{\\theta}(R_{\\varphi} X) = R_{\\theta} R_{\\varphi} X\n",
    "$$"
   ]
  },
  {
   "cell_type": "code",
   "execution_count": 45,
   "metadata": {},
   "outputs": [
    {
     "data": {
      "text/latex": [
       "$$\\left[\\begin{matrix}- \\sin{\\left (\\theta \\right )} \\sin{\\left (\\varphi \\right )} + \\cos{\\left (\\theta \\right )} \\cos{\\left (\\varphi \\right )} & - \\sin{\\left (\\theta \\right )} \\cos{\\left (\\varphi \\right )} - \\sin{\\left (\\varphi \\right )} \\cos{\\left (\\theta \\right )}\\\\\\sin{\\left (\\theta \\right )} \\cos{\\left (\\varphi \\right )} + \\sin{\\left (\\varphi \\right )} \\cos{\\left (\\theta \\right )} & - \\sin{\\left (\\theta \\right )} \\sin{\\left (\\varphi \\right )} + \\cos{\\left (\\theta \\right )} \\cos{\\left (\\varphi \\right )}\\end{matrix}\\right]$$"
      ],
      "text/plain": [
       "⎡-sin(θ)⋅sin(varphi) + cos(θ)⋅cos(varphi)  -sin(θ)⋅cos(varphi) - sin(varphi)⋅c\n",
       "⎢                                                                             \n",
       "⎣sin(θ)⋅cos(varphi) + sin(varphi)⋅cos(θ)   -sin(θ)⋅sin(varphi) + cos(θ)⋅cos(va\n",
       "\n",
       "os(θ)⎤\n",
       "     ⎥\n",
       "rphi)⎦"
      ]
     },
     "metadata": {},
     "output_type": "display_data"
    },
    {
     "data": {
      "text/latex": [
       "$$\\left[\\begin{matrix}\\cos{\\left (\\theta + \\varphi \\right )} & - \\sin{\\left (\\theta + \\varphi \\right )}\\\\\\sin{\\left (\\theta + \\varphi \\right )} & \\cos{\\left (\\theta + \\varphi \\right )}\\end{matrix}\\right]$$"
      ],
      "text/plain": [
       "⎡cos(θ + varphi)  -sin(θ + varphi)⎤\n",
       "⎢                                 ⎥\n",
       "⎣sin(θ + varphi)  cos(θ + varphi) ⎦"
      ]
     },
     "metadata": {},
     "output_type": "display_data"
    }
   ],
   "source": [
    "## Computation:\n",
    "\n",
    "from sympy import simplify\n",
    "\n",
    "varphi = symbols('varphi')\n",
    "X = Matrix([[x_1, x_2]]).T\n",
    "\n",
    "R_composed = R * R.subs(theta, varphi)\n",
    "\n",
    "display(R_composed)\n",
    "display(simplify(R_composed))"
   ]
  },
  {
   "cell_type": "markdown",
   "metadata": {},
   "source": [
    "### Proof: Show that it is the matrix of $F_{\\theta + \\varphi}$\n",
    "\n",
    "Since $F_{\\theta + \\varphi}$ is rotation by $\\theta + \\varphi$ angle, the associated matrix $A$ of $F_{\\theta + \\varphi}$ is\n",
    "\n",
    "$$\n",
    "A = \\begin{pmatrix}\n",
    "\\cos(\\theta + \\varphi) & - \\sin(\\theta + \\varphi) \\\\\n",
    "\\sin(\\theta + \\varphi) & \\cos(\\theta + \\varphi)\n",
    "\\end{pmatrix}\n",
    "$$\n",
    "\n",
    "Thus the associated matrix of $F_{\\theta} \\circ F_{\\varphi}$ is the associated matrix $A$ of $F_{\\theta + \\varphi}$. Q.E.D."
   ]
  },
  {
   "cell_type": "markdown",
   "metadata": {},
   "source": [
    "## 10. Let $F_\\theta$ be rotation by an angle $\\theta$. Show that $F_\\theta$ is invertible, and determine the matrix associated with $F_{\\theta}^{-1}$.\n",
    "\n",
    "### Proof\n",
    "\n",
    "The linear map for rotation by angle $- \\theta$, a.k.a the *clockwise* rotation by angle $\\theta$, is $F_{- \\theta}$.\n",
    "\n",
    "Then for any $X \\in R^2$, by the conclusion of [exercise 9](#Solution:-Compute-the-matrix-of-the-linear-map-$F_{\\theta}-\\circ-F_{\\varphi}$.),\n",
    "\n",
    "$$\n",
    "(F_{-\\theta} \\circ F_\\theta)(X) = \\begin{pmatrix}\n",
    "\\cos(\\theta - \\theta) & - \\sin(\\theta - \\theta) \\\\\n",
    "\\sin(\\theta - \\theta) & \\cos(\\theta - \\theta)\n",
    "\\end{pmatrix}\n",
    "= \\begin{pmatrix}\n",
    "\\cos 0 & - \\sin 0 \\\\\n",
    "\\sin 0 & \\cos 0\n",
    "\\end{pmatrix}\n",
    "= \\begin{pmatrix}\n",
    "1 & 0 \\\\\n",
    "0 & 1\n",
    "\\end{pmatrix}\n",
    "= I_2\n",
    "$$\n",
    "\n",
    "and\n",
    "\n",
    "$$\n",
    "(F_\\theta \\circ F_{-\\theta})(X) = \\begin{pmatrix}\n",
    "\\cos(- \\theta + \\theta) & - \\sin(- \\theta + \\theta) \\\\\n",
    "\\sin(- \\theta + \\theta) & \\cos(- \\theta + \\theta)\n",
    "\\end{pmatrix}\n",
    "= \\begin{pmatrix}\n",
    "\\cos 0 & - \\sin 0 \\\\\n",
    "\\sin 0 & \\cos 0\n",
    "\\end{pmatrix}\n",
    "= \\begin{pmatrix}\n",
    "1 & 0 \\\\\n",
    "0 & 1\n",
    "\\end{pmatrix}\n",
    "= I_2\n",
    "$$\n",
    "\n",
    "Hence $F_{\\theta}$ is invertible and $F_{\\theta}^{-1} = F_{- \\theta}$.\n",
    "\n",
    "Thus the associated matrix of $F_{\\theta}^{-1}$ is the associated matrix of $F_{- \\theta}$ which is\n",
    "\n",
    "$$\n",
    "\\begin{pmatrix}\n",
    "\\cos(- \\theta) & - \\sin(- \\theta) \\\\\n",
    "\\sin(- \\theta) & \\cos(- \\theta)\n",
    "\\end{pmatrix} =\n",
    "\\begin{pmatrix}\n",
    "\\cos \\theta & \\sin \\theta \\\\\n",
    "- \\sin\\theta & \\cos \\theta\n",
    "\\end{pmatrix}\n",
    "$$\n",
    "\n",
    "Q.E.D."
   ]
  },
  {
   "cell_type": "code",
   "execution_count": null,
   "metadata": {},
   "outputs": [],
   "source": []
  }
 ],
 "metadata": {
  "kernelspec": {
   "display_name": "Python 3",
   "language": "python",
   "name": "python3"
  },
  "language_info": {
   "codemirror_mode": {
    "name": "ipython",
    "version": 3
   },
   "file_extension": ".py",
   "mimetype": "text/x-python",
   "name": "python",
   "nbconvert_exporter": "python",
   "pygments_lexer": "ipython3",
   "version": "3.7.0"
  }
 },
 "nbformat": 4,
 "nbformat_minor": 2
}
