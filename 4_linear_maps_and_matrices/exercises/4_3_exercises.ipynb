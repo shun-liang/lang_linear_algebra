{
 "cells": [
  {
   "cell_type": "markdown",
   "metadata": {},
   "source": [
    "## 1. In each one of the following cases, find $M_{\\mathscr{B}^\\prime}^\\mathscr{B}(id)$. The vector space in each case is $R^3$."
   ]
  },
  {
   "cell_type": "markdown",
   "metadata": {},
   "source": [
    "### (a) \n",
    "\n",
    "$$\n",
    "\\mathscr{B} = \\{ \\begin{pmatrix} 1 \\\\ 1 \\\\ 0 \\end{pmatrix}, \\begin{pmatrix} -1 \\\\ 1 \\\\ 1 \\end{pmatrix}, \\begin{pmatrix} 0 \\\\ 1 \\\\ 2 \\end{pmatrix} \\} \\\\\n",
    "\\mathscr{B}^\\prime = \\{ \\begin{pmatrix} 2 \\\\ 1 \\\\ 1 \\end{pmatrix}, \\begin{pmatrix} 0 \\\\ 0 \\\\ 1 \\end{pmatrix}, \\begin{pmatrix} -1 \\\\ 1 \\\\ 1 \\end{pmatrix} \\}\n",
    "$$"
   ]
  },
  {
   "cell_type": "markdown",
   "metadata": {},
   "source": [
    "#### Solution\n",
    "\n",
    "Let $(a_{i j})$ such that\n",
    "\n",
    "$$\n",
    "\\operatorname{id}(\\begin{pmatrix} 1 \\\\ 1 \\\\ 0 \\end{pmatrix}) = \\begin{pmatrix} 1 \\\\ 1 \\\\ 0 \\end{pmatrix} = a_{1 1} \\begin{pmatrix} 2 \\\\ 1 \\\\ 1 \\end{pmatrix} + a_{2 1} \\begin{pmatrix} 0 \\\\ 0 \\\\ 1 \\end{pmatrix} + a_{3 1} \\begin{pmatrix} -1 \\\\ 1 \\\\ 1 \\end{pmatrix} \\\\\n",
    "\\operatorname{id}(\\begin{pmatrix} -1 \\\\ 1 \\\\ 1 \\end{pmatrix}) = \\begin{pmatrix} -1 \\\\ 1 \\\\ 1 \\end{pmatrix} = a_{1 2} \\begin{pmatrix} 2 \\\\ 1 \\\\ 1 \\end{pmatrix} + a_{2 2} \\begin{pmatrix} 0 \\\\ 0 \\\\ 1 \\end{pmatrix} + a_{3 2} \\begin{pmatrix} -1 \\\\ 1 \\\\ 1 \\end{pmatrix} \\\\\n",
    "\\operatorname{id}(\\begin{pmatrix} 0 \\\\ 1 \\\\ 2 \\end{pmatrix}) = \\begin{pmatrix} 0 \\\\ 1 \\\\ 2 \\end{pmatrix} = a_{1 3} \\begin{pmatrix} 2 \\\\ 1 \\\\ 1 \\end{pmatrix} + a_{2 3} \\begin{pmatrix} 0 \\\\ 0 \\\\ 1 \\end{pmatrix} + a_{3 3} \\begin{pmatrix} -1 \\\\ 1 \\\\ 1 \\end{pmatrix} \\\\\n",
    "$$\n",
    "\n",
    "Then we have"
   ]
  },
  {
   "cell_type": "code",
   "execution_count": 55,
   "metadata": {},
   "outputs": [
    {
     "data": {
      "text/plain": [
       "array([[ 0.66666667],\n",
       "       [-1.        ],\n",
       "       [ 0.33333333]])"
      ]
     },
     "execution_count": 55,
     "metadata": {},
     "output_type": "execute_result"
    }
   ],
   "source": [
    "import numpy as np\n",
    "from scipy.linalg import solve\n",
    "\n",
    "A = np.matrix([[2, 0, -1], [1, 0, 1], [1, 1, 1]])\n",
    "y_1 = np.matrix([[1, 1, 0]]).T\n",
    "solve(A, y_1)\n",
    "\n",
    "# a_11 = 2/3, a_21 = -1, a_31 = 1/3"
   ]
  },
  {
   "cell_type": "code",
   "execution_count": 25,
   "metadata": {},
   "outputs": [
    {
     "data": {
      "text/plain": [
       "array([[0.],\n",
       "       [0.],\n",
       "       [1.]])"
      ]
     },
     "execution_count": 25,
     "metadata": {},
     "output_type": "execute_result"
    }
   ],
   "source": [
    "y_2 = np.matrix([[-1, 1, 1]]).T\n",
    "solve(A, y_2)\n",
    "\n",
    "# a_12 = 0, a_22 = 0, a_32 = 1"
   ]
  },
  {
   "cell_type": "code",
   "execution_count": 28,
   "metadata": {},
   "outputs": [
    {
     "data": {
      "text/plain": [
       "array([[0.33333333],\n",
       "       [1.        ],\n",
       "       [0.66666667]])"
      ]
     },
     "execution_count": 28,
     "metadata": {},
     "output_type": "execute_result"
    }
   ],
   "source": [
    "y_3 = np.matrix([[0, 1, 2]]).T\n",
    "solve(A, y_3)\n",
    "\n",
    "# a_13 = 1/3, a_23 = 1, a_33 = 2/3"
   ]
  },
  {
   "cell_type": "markdown",
   "metadata": {},
   "source": [
    "Thus\n",
    "\n",
    "$$\n",
    "M_{\\mathscr{B}^\\prime}^\\mathscr{B}(id) = \\begin{pmatrix} a_{1 1} & a_{1 2} & a_{1 3} \\\\ a_{2 1} & a_{2 2} & a_{2 3} \\\\ a_{3 1} & a_{3 2} & a_{3 3} \\end{pmatrix} = \\begin{pmatrix} \\frac{2}{3} & 0 & \\frac{1}{3} \\\\ -1 & 0 & 1 \\\\ \\frac{1}{3} & 1 & \\frac{2}{3} \\end{pmatrix}\n",
    "$$"
   ]
  },
  {
   "cell_type": "markdown",
   "metadata": {},
   "source": [
    "## 2. Let $L: V \\to V$ be a linear map. Let $\\mathscr{B} = \\{v_1, ..., v_n \\}$ be a basis of $V$. Suppose that there are numbers $c_1, ..., c_n$ such that $L(v_i) = c_i v_i$ for $i=1,...,n$. What is $M_\\mathscr{B}^\\mathscr{B}(L)$?\n",
    "\n",
    "### Solution\n",
    "\n",
    "Since $\\mathscr{B} = \\{v_1, ..., v_n \\}$ is a basis of $V$, and\n",
    "\n",
    "$$\n",
    "L(v_i) = c_i v_i\n",
    "$$\n",
    "\n",
    "Then we have\n",
    "\n",
    "$$\n",
    "M_\\mathscr{B}^\\mathscr{B}(L) = \\begin{pmatrix} \\phi_\\mathscr{B}(L(v_1)) & \\cdots & \\phi_\\mathscr{B}(L(v_n)) \\end{pmatrix} = \\begin{pmatrix} \\phi_\\mathscr{B}(c_1 v_1) & \\cdots & \\phi_\\mathscr{B}(c_i v_i) \\end{pmatrix}\n",
    "= \\begin{pmatrix} \\begin{pmatrix} c_1 \\\\ 0 \\\\ \\vdots \\\\ 0 \\end{pmatrix} & \\begin{pmatrix} 0 \\\\ c_2 \\\\ \\vdots \\\\ 0 \\end{pmatrix} & \\cdots \\begin{pmatrix} 0 \\\\ 0 \\\\ \\vdots \\\\ c_n \\end{pmatrix} \\end{pmatrix}\n",
    "= \\begin{pmatrix} c_1 & 0 & \\cdots & 0 \\\\ 0 & c_2 & \\cdots & 0 \\\\ \\vdots & \\vdots & \\cdots & \\vdots \\\\ 0 & 0 & \\cdots & c_n \\end{pmatrix}\n",
    "$$"
   ]
  },
  {
   "cell_type": "markdown",
   "metadata": {},
   "source": [
    "## 3.\n",
    "\n",
    "For each real number $\\theta$, let $F_\\theta: R^2 \\to R^2$ be the linear map represented by the matrix\n",
    "\n",
    "$$\n",
    "R(\\theta) = \\begin{pmatrix} \\cos \\theta & - \\sin \\theta \\\\ \\sin \\theta & \\cos \\theta \\end{pmatrix}\n",
    "$$\n",
    "\n",
    "Show that if $\\theta, \\theta^\\prime$ are real numbers, then $F_\\theta F_{\\theta^\\prime} = F_{\\theta + \\theta^\\prime}$ (You must use the addition formula for sine and cosine.) Also show that $F_\\theta^{-1} = F_{-\\theta}$.\n",
    "\n",
    "### Proof\n",
    "\n",
    "#### Proof: $F_\\theta F_{\\theta^\\prime} = F_{\\theta + \\theta^\\prime}$\n",
    "\n",
    "Since $\\theta, \\theta^\\prime$ are real numbers, we have\n",
    "\n",
    "$$\n",
    "\\cos (\\theta + \\theta^\\prime) = \\cos \\theta \\cos \\theta^\\prime - \\sin \\theta \\sin \\theta^\\prime \\\\\n",
    "\\sin (\\theta + \\theta^\\prime) = \\sin \\theta \\cos \\theta^\\prime + \\cos \\theta \\sin \\theta^\\prime\n",
    "$$\n",
    "\n",
    "Then we have"
   ]
  },
  {
   "cell_type": "code",
   "execution_count": 43,
   "metadata": {},
   "outputs": [
    {
     "data": {
      "text/latex": [
       "$$\\left[\\begin{matrix}- \\sin{\\left (\\theta \\right )} \\sin{\\left (\\theta^\\prime \\right )} + \\cos{\\left (\\theta \\right )} \\cos{\\left (\\theta^\\prime \\right )} & - \\sin{\\left (\\theta \\right )} \\cos{\\left (\\theta^\\prime \\right )} - \\sin{\\left (\\theta^\\prime \\right )} \\cos{\\left (\\theta \\right )}\\\\\\sin{\\left (\\theta \\right )} \\cos{\\left (\\theta^\\prime \\right )} + \\sin{\\left (\\theta^\\prime \\right )} \\cos{\\left (\\theta \\right )} & - \\sin{\\left (\\theta \\right )} \\sin{\\left (\\theta^\\prime \\right )} + \\cos{\\left (\\theta \\right )} \\cos{\\left (\\theta^\\prime \\right )}\\end{matrix}\\right]$$"
      ],
      "text/plain": [
       "⎡-sin(\\theta)⋅sin(\\theta__\\′) + cos(\\theta)⋅cos(\\theta__\\′)  -sin(\\theta)⋅cos(\n",
       "⎢                                                                             \n",
       "⎣sin(\\theta)⋅cos(\\theta__\\′) + sin(\\theta__\\′)⋅cos(\\theta)   -sin(\\theta)⋅sin(\n",
       "\n",
       "\\theta__\\′) - sin(\\theta__\\′)⋅cos(\\theta)⎤\n",
       "                                         ⎥\n",
       "\\theta__\\′) + cos(\\theta)⋅cos(\\theta__\\′)⎦"
      ]
     },
     "execution_count": 43,
     "metadata": {},
     "output_type": "execute_result"
    }
   ],
   "source": [
    "from sympy import symbols, Matrix, cos, sin, simplify, init_printing\n",
    "\n",
    "init_printing()\n",
    "\n",
    "theta, theta_prime = symbols('\\\\theta \\\\theta^\\prime')\n",
    "\n",
    "R = lambda x: Matrix([[cos(x), -sin(x)], [sin(x), cos(x)]])\n",
    "\n",
    "product = R(theta) * R(theta_prime)\n",
    "\n",
    "product"
   ]
  },
  {
   "cell_type": "code",
   "execution_count": 44,
   "metadata": {},
   "outputs": [
    {
     "data": {
      "text/latex": [
       "$$\\left[\\begin{matrix}\\cos{\\left (\\theta + \\theta^\\prime \\right )} & - \\sin{\\left (\\theta + \\theta^\\prime \\right )}\\\\\\sin{\\left (\\theta + \\theta^\\prime \\right )} & \\cos{\\left (\\theta + \\theta^\\prime \\right )}\\end{matrix}\\right]$$"
      ],
      "text/plain": [
       "⎡cos(\\theta + \\theta__\\′)  -sin(\\theta + \\theta__\\′)⎤\n",
       "⎢                                                   ⎥\n",
       "⎣sin(\\theta + \\theta__\\′)  cos(\\theta + \\theta__\\′) ⎦"
      ]
     },
     "execution_count": 44,
     "metadata": {},
     "output_type": "execute_result"
    }
   ],
   "source": [
    "simplify(product)"
   ]
  },
  {
   "cell_type": "markdown",
   "metadata": {},
   "source": [
    "Thus we have\n",
    "\n",
    "$$\n",
    "F_\\theta F_{\\theta^\\prime} = F_{\\theta + \\theta^\\prime}\n",
    "$$"
   ]
  },
  {
   "cell_type": "markdown",
   "metadata": {},
   "source": [
    "### Proof: $F_\\theta^{-1} = F_{-\\theta}$"
   ]
  },
  {
   "cell_type": "code",
   "execution_count": 47,
   "metadata": {},
   "outputs": [
    {
     "data": {
      "text/latex": [
       "$$\\left[\\begin{matrix}1 & 0\\\\0 & 1\\end{matrix}\\right]$$"
      ],
      "text/plain": [
       "⎡1  0⎤\n",
       "⎢    ⎥\n",
       "⎣0  1⎦"
      ]
     },
     "execution_count": 47,
     "metadata": {},
     "output_type": "execute_result"
    }
   ],
   "source": [
    "simplify(R(-theta) * R(theta))"
   ]
  },
  {
   "cell_type": "code",
   "execution_count": 48,
   "metadata": {},
   "outputs": [
    {
     "data": {
      "text/latex": [
       "$$\\left[\\begin{matrix}1 & 0\\\\0 & 1\\end{matrix}\\right]$$"
      ],
      "text/plain": [
       "⎡1  0⎤\n",
       "⎢    ⎥\n",
       "⎣0  1⎦"
      ]
     },
     "execution_count": 48,
     "metadata": {},
     "output_type": "execute_result"
    }
   ],
   "source": [
    "simplify(R(theta) * R(-theta))"
   ]
  },
  {
   "cell_type": "markdown",
   "metadata": {},
   "source": [
    "Thus\n",
    "\n",
    "$$\n",
    "F_{-\\theta} F_{\\theta} = I = F_{\\theta} F_{-\\theta}\n",
    "$$\n",
    "\n",
    "Thus\n",
    "\n",
    "$$\n",
    "F_{\\theta}^{-1} = F_{-\\theta}\n",
    "$$"
   ]
  },
  {
   "cell_type": "markdown",
   "metadata": {},
   "source": [
    "## 5. Let $X = \\begin{pmatrix}1 \\\\ 2\\end{pmatrix}$ be a point of the plane. Let F be the rotation through an angle of $\\frac{\\pi}{4}$. What are the coordinates of $F(X)$ relative to the usual basis $\\{E^1,E^2\\}$?\n",
    "\n",
    "### Solution"
   ]
  },
  {
   "cell_type": "code",
   "execution_count": 49,
   "metadata": {},
   "outputs": [
    {
     "data": {
      "text/latex": [
       "$$\\left[\\begin{matrix}- \\frac{\\sqrt{2}}{2}\\\\\\frac{3 \\sqrt{2}}{2}\\end{matrix}\\right]$$"
      ],
      "text/plain": [
       "⎡-√2 ⎤\n",
       "⎢────⎥\n",
       "⎢ 2  ⎥\n",
       "⎢    ⎥\n",
       "⎢3⋅√2⎥\n",
       "⎢────⎥\n",
       "⎣ 2  ⎦"
      ]
     },
     "execution_count": 49,
     "metadata": {},
     "output_type": "execute_result"
    }
   ],
   "source": [
    "from sympy import pi\n",
    "\n",
    "X = Matrix([[1, 2]]).T\n",
    "\n",
    "R(pi / 4) * X"
   ]
  },
  {
   "cell_type": "markdown",
   "metadata": {},
   "source": [
    "## 6. Same question when $X = \\begin{pmatrix} -1 \\\\ 3 \\end{pmatrix}$, and F is the rotation through $\\frac{\\pi}{2}$.\n",
    "\n",
    "### Solution"
   ]
  },
  {
   "cell_type": "code",
   "execution_count": 50,
   "metadata": {},
   "outputs": [
    {
     "data": {
      "text/latex": [
       "$$\\left[\\begin{matrix}-3\\\\-1\\end{matrix}\\right]$$"
      ],
      "text/plain": [
       "⎡-3⎤\n",
       "⎢  ⎥\n",
       "⎣-1⎦"
      ]
     },
     "execution_count": 50,
     "metadata": {},
     "output_type": "execute_result"
    }
   ],
   "source": [
    "X = Matrix([[-1, 3]]).T\n",
    "\n",
    "R(pi / 2) * X"
   ]
  },
  {
   "cell_type": "markdown",
   "metadata": {},
   "source": [
    "## 7. In general, let $F$ be the rotation through an angle $\\theta$. Let $\\begin{pmatrix}x \\\\ y\\end{pmatrix}$ be a point of the plane in the standard coordinate system. Let $\\begin{pmatrix} x^\\prime \\\\ y^\\prime \\end{pmatrix}$ be the coordinates of this point in the rotated system. Express $x^\\prime, y^\\prime$ in terms of $x, y$, and $\\theta$.\n",
    "\n",
    "### Solution"
   ]
  },
  {
   "cell_type": "code",
   "execution_count": 53,
   "metadata": {},
   "outputs": [
    {
     "data": {
      "text/latex": [
       "$$\\left[\\begin{matrix}x \\cos{\\left (\\theta \\right )} - y \\sin{\\left (\\theta \\right )}\\\\x \\sin{\\left (\\theta \\right )} + y \\cos{\\left (\\theta \\right )}\\end{matrix}\\right]$$"
      ],
      "text/plain": [
       "⎡x⋅cos(\\theta) - y⋅sin(\\theta)⎤\n",
       "⎢                             ⎥\n",
       "⎣x⋅sin(\\theta) + y⋅cos(\\theta)⎦"
      ]
     },
     "execution_count": 53,
     "metadata": {},
     "output_type": "execute_result"
    }
   ],
   "source": [
    "x, y, x_prime, y_prime = symbols('x y x^prime y^\\prime')\n",
    "\n",
    "X = Matrix([[x, y]]).T\n",
    "R(theta) * X"
   ]
  },
  {
   "cell_type": "markdown",
   "metadata": {},
   "source": [
    "## 8. In each of the following cases, let $D = \\frac{d}{d t}$ be the derivative. We give a set of linearly independent functions $\\mathscr{B}$. These generate a vector space $V$, and $D$ is a linear map from $V$ into itself. Find the matrix associated with $D$ relative to the bases $\\mathscr{B}, \\mathscr{B}$ ($M_\\mathscr{B}^\\mathscr{B}(D)$)."
   ]
  },
  {
   "cell_type": "markdown",
   "metadata": {},
   "source": [
    "### (a) $\\{e^t, e^{2t}\\}$\n",
    "\n",
    "#### Solution\n",
    "\n",
    "Since $\\mathscr{B} = \\{e^t, e^{2t}\\}$ is a basis of $V$, then we have $\\phi_\\mathscr{B}: V \\xrightarrow{\\simeq} K^2$ defined as\n",
    "\n",
    "$$\n",
    "\\phi_\\mathscr{B}(e^t) = \\begin{pmatrix} 1 \\\\ 0 \\end{pmatrix} \\\\\n",
    "\\phi_\\mathscr{B}(e^{2t}) = \\begin{pmatrix} 0 \\\\ 1 \\end{pmatrix}\n",
    "$$\n",
    "\n",
    "Then we have\n",
    "\n",
    "$$\n",
    "\\begin{aligned}\n",
    "M_\\mathscr{B}^\\mathscr{B}(D) &= \\begin{pmatrix} \\phi_\\mathscr{B}(D(e^t)) & \\phi_\\mathscr{B}(D(e^{2t})) \\end{pmatrix} \\\\\n",
    "&= \\begin{pmatrix} \\phi_\\mathscr{B}(e^t) & \\phi_\\mathscr{B}(2 e^{2t}) \\end{pmatrix} \\\\\n",
    "&= \\begin{pmatrix} \\phi_\\mathscr{B}(e^t) & 2 \\phi_\\mathscr{B}(e^{2t}) \\end{pmatrix} \\\\\n",
    "&= \\begin{pmatrix} 1 & 0 \\\\ 0 & 2 \\end{pmatrix}\n",
    "\\end{aligned}\n",
    "$$"
   ]
  },
  {
   "cell_type": "markdown",
   "metadata": {},
   "source": [
    "### (b) $\\{1, t\\}$\n",
    "\n",
    "### Solution\n",
    "\n",
    "Since $\\mathscr{B} = \\{1, t\\}$ is a basis of $V$, then we have $\\phi_\\mathscr{B}: V \\xrightarrow{\\simeq} K^2$ defined as\n",
    "\n",
    "$$\n",
    "\\phi_\\mathscr{B}(1) = \\begin{pmatrix} 1 \\\\ 0 \\end{pmatrix} \\\\\n",
    "\\phi_\\mathscr{B}(t) = \\begin{pmatrix} 0 \\\\ 1 \\end{pmatrix}\n",
    "$$\n",
    "\n",
    "And since $\\phi_\\mathscr{B}$ is a linear map, we have\n",
    "\n",
    "$$\n",
    "\\phi_\\mathscr{B}(0) = \\begin{pmatrix} 0 \\\\ 0 \\end{pmatrix}\n",
    "$$\n",
    "\n",
    "Then we have\n",
    "\n",
    "$$\n",
    "\\begin{aligned}\n",
    "M_\\mathscr{B}^\\mathscr{B}(D) &= \\begin{pmatrix} \\phi_\\mathscr{B}(D(1)) & \\phi_\\mathscr{B}(D(t)) \\end{pmatrix} \\\\\n",
    "&= \\begin{pmatrix} \\phi_\\mathscr{B}(0) & \\phi_\\mathscr{B}(1) \\end{pmatrix} \\\\\n",
    "&= \\begin{pmatrix} 0 & 1 \\\\ 0 & 0 \\end{pmatrix}\n",
    "\\end{aligned}\n",
    "$$"
   ]
  },
  {
   "cell_type": "markdown",
   "metadata": {},
   "source": [
    "### (c) $\\{e^t, te^t\\}$\n",
    "\n",
    "#### Solution\n",
    "\n",
    "Since $\\mathscr{B} = \\{e^t, te^t\\}$ is a basis of $V$, then we have $\\phi_\\mathscr{B}: V \\xrightarrow{\\simeq} K^2$ defined as\n",
    "\n",
    "$$\n",
    "\\phi_\\mathscr{B}(e^t) = \\begin{pmatrix} 1 \\\\ 0 \\end{pmatrix} \\\\\n",
    "\\phi_\\mathscr{B}(t e^t) = \\begin{pmatrix} 0 \\\\ 1 \\end{pmatrix}\n",
    "$$\n",
    "\n",
    "Then we have\n",
    "\n",
    "$$\n",
    "\\begin{aligned}\n",
    "M_\\mathscr{B}^\\mathscr{B}(D) &= \\begin{pmatrix} \\phi_\\mathscr{B}(D(e^t)) & \\phi_\\mathscr{B}(D(te^t)) \\end{pmatrix} \\\\\n",
    "&= \\begin{pmatrix} \\phi_\\mathscr{B}(e^t) & \\phi_\\mathscr{B}(e^t + t e^t) \\end{pmatrix} \\\\\n",
    "&= \\begin{pmatrix} \\phi_\\mathscr{B}(e^t) & \\phi_\\mathscr{B}(e^t) + \\phi_\\mathscr{B}(t e^t) \\end{pmatrix} \\\\\n",
    "&= \\begin{pmatrix} 1 & 1 \\\\ 0 & 1 \\end{pmatrix}\n",
    "\\end{aligned}\n",
    "$$"
   ]
  },
  {
   "cell_type": "markdown",
   "metadata": {},
   "source": [
    "### (d) $\\{1, t, t^2\\}$\n",
    "\n",
    "Since $\\mathscr{B} =\\{1, t, t^2\\}$ is a basis of $V$, then we have $\\phi_\\mathscr{B}: V \\xrightarrow{\\simeq} K^3$ defined as\n",
    "\n",
    "$$\n",
    "\\phi_\\mathscr{B}(1) = \\begin{pmatrix} 1 \\\\ 0 \\\\ 0 \\end{pmatrix} \\\\\n",
    "\\phi_\\mathscr{B}(t) = \\begin{pmatrix} 0 \\\\ 1 \\\\ 0 \\end{pmatrix} \\\\\n",
    "\\phi_\\mathscr{B}(t^2) = \\begin{pmatrix} 0 \\\\ 0 \\\\ 1 \\end{pmatrix} \\\\\n",
    "$$\n",
    "\n",
    "And since $\\phi_\\mathscr{B}$ is a linear map, we have\n",
    "\n",
    "$$\n",
    "\\phi_\\mathscr{B}(0) = \\begin{pmatrix} 0 \\\\ 0 \\\\ 0 \\end{pmatrix}\n",
    "$$\n",
    "\n",
    "Then we have\n",
    "\n",
    "$$\n",
    "\\begin{aligned}\n",
    "M_\\mathscr{B}^\\mathscr{B}(D) &= \\begin{pmatrix} \\phi_\\mathscr{B}(D(1)) & \\phi_\\mathscr{B}(D(t)) & \\phi_\\mathscr{B}(D(t^2)) \\end{pmatrix} \\\\\n",
    "&= \\begin{pmatrix} \\phi_\\mathscr{B}(0) & \\phi_\\mathscr{B}(1) & \\phi_\\mathscr{B}(2 t) \\end{pmatrix} \\\\\n",
    "&= \\begin{pmatrix} \\phi_\\mathscr{B}(0) & \\phi_\\mathscr{B}(1) & 2 \\phi_\\mathscr{B}(t) \\end{pmatrix} \\\\\n",
    "&= \\begin{pmatrix} 0 & 1 & 0 \\\\ 0 & 0 & 2 \\\\ 0 & 0 & 0 \\end{pmatrix}\n",
    "\\end{aligned}\n",
    "$$"
   ]
  },
  {
   "cell_type": "markdown",
   "metadata": {},
   "source": [
    "### (e) $\\{1, t, e^t, e^{2t}, te^{2t}\\}$\n",
    "\n",
    "#### Solution\n",
    "\n",
    "Since $\\mathscr{B} = \\{1, t, e^t, e^{2t}, te^{2t}\\}$ is a basis of $V$, then we have $\\phi_\\mathscr{B}: V \\xrightarrow{\\simeq} K^5$ defined as\n",
    "\n",
    "$$\n",
    "\\phi_\\mathscr{B}(1) = \\begin{pmatrix} 1 \\\\ 0 \\\\ 0 \\\\ 0 \\\\ 0 \\end{pmatrix} \\\\\n",
    "\\phi_\\mathscr{B}(t) = \\begin{pmatrix} 0 \\\\ 1 \\\\ 0 \\\\ 0 \\\\ 0 \\end{pmatrix} \\\\\n",
    "\\phi_\\mathscr{B}(e^t) = \\begin{pmatrix} 0 \\\\ 0 \\\\ 1 \\\\ 0 \\\\ 0 \\end{pmatrix} \\\\\n",
    "\\phi_\\mathscr{B}(e^{2t}) = \\begin{pmatrix} 0 \\\\ 0 \\\\ 0 \\\\ 1 \\\\ 0 \\end{pmatrix} \\\\\n",
    "\\phi_\\mathscr{B}(te^{2t}) = \\begin{pmatrix} 0 \\\\ 0 \\\\ 0 \\\\ 0 \\\\ 1 \\end{pmatrix} \\\\\n",
    "$$\n",
    "\n",
    "Then we have\n",
    "\n",
    "$$\n",
    "\\begin{aligned}\n",
    "M_\\mathscr{B}^\\mathscr{B}(D) &= \\begin{pmatrix} \\phi_\\mathscr{B}(D(1)) & \\phi_\\mathscr{B}(D(t)) & \\phi_\\mathscr{B}(D(e^t)) & \\phi_\\mathscr{B}(D(e^{2t})) & \\phi_\\mathscr{B}(D(te^{2t})) \\end{pmatrix} \\\\\n",
    "&= \\begin{pmatrix} \\phi_\\mathscr{B}(0) & \\phi_\\mathscr{B}(1) & \\phi_\\mathscr{B}(e^t) & \\phi_\\mathscr{B}(2 e^{2t}) & \\phi_\\mathscr{B}(e^{2t} + 2 t e^{2 t}) \\end{pmatrix} \\\\\n",
    "&= \\begin{pmatrix} \\phi_\\mathscr{B}(0) & \\phi_\\mathscr{B}(1) & \\phi_\\mathscr{B}(e^t) & 2 \\phi_\\mathscr{B}(e^{2t}) & \\phi_\\mathscr{B}(e^{2t}) + 2 \\phi_\\mathscr{B}(t e^{2 t}) \\end{pmatrix} \\\\\n",
    "&= \\begin{pmatrix} 0 & 1 & 0 & 0 & 0  \\\\ 0 & 0 & 0 & 0 & 0 \\\\ 0 & 0 & 1 & 0 & 0\\\\ 0 & 0 & 0 & 2 & 1 \\\\ 0 & 0 & 0 & 0 & 2\\end{pmatrix}\n",
    "\\end{aligned}\n",
    "$$"
   ]
  },
  {
   "cell_type": "markdown",
   "metadata": {},
   "source": [
    "### (f) $\\{\\sin t, \\cos t\\}$\n",
    "\n",
    "#### Solution\n",
    "\n",
    "Since $\\mathscr{B} = \\{\\sin t, \\cos t\\}$ is a basis of $V$, then we have $\\phi_\\mathscr{B}: V \\xrightarrow{\\simeq} K^2$ defined as\n",
    "\n",
    "$$\n",
    "\\phi_\\mathscr{B}(\\sin t) = \\begin{pmatrix} 1 \\\\ 0 \\end{pmatrix} \\\\\n",
    "\\phi_\\mathscr{B}(\\cos t) = \\begin{pmatrix} 0 \\\\ 1 \\end{pmatrix}\n",
    "$$\n",
    "\n",
    "Then we have\n",
    "\n",
    "$$\n",
    "\\begin{aligned}\n",
    "M_\\mathscr{B}^\\mathscr{B}(D) &= \\begin{pmatrix} \\phi_\\mathscr{B}(D(\\sin t)) & \\phi_\\mathscr{B}(D(\\cos t)) \\end{pmatrix} \\\\\n",
    "&= \\begin{pmatrix} \\phi_\\mathscr{B}(\\cos t) & \\phi_\\mathscr{B}(- \\sin t) \\end{pmatrix} \\\\\n",
    "&= \\begin{pmatrix} \\phi_\\mathscr{B}(\\cos t) & - \\phi_\\mathscr{B}(\\sin t) \\end{pmatrix} \\\\\n",
    "&= \\begin{pmatrix} 0 & -1 \\\\ 1 & 0 \\end{pmatrix}\n",
    "\\end{aligned}\n",
    "$$"
   ]
  },
  {
   "cell_type": "markdown",
   "metadata": {},
   "source": [
    "## 9"
   ]
  },
  {
   "cell_type": "markdown",
   "metadata": {},
   "source": [
    "### (a)  Let $N$ be a square matrix. We say that $N$ is **nilpotent** if there exists a positive integer $r$ such that $N^r = \\mathit{0}$. Prove that if $N$ is nilpotent, then $I - N$ is invertible.\n",
    "\n",
    "#### Proof\n",
    "\n",
    "Since $N$ is nilpotent, by definition there are some positive integer $r$ such that\n",
    "\n",
    "$$\n",
    "N^r = \\mathit{0}\n",
    "$$\n",
    "\n",
    "\n",
    "Then we have\n",
    "\n",
    "$$\n",
    "\\begin{aligned}\n",
    "(I - N) (I + N + ... + N^{r - 1}) &= I (I + N + ... + N^{r - 1}) - N (I + N + ... + N^{r - 1}) \\\\\n",
    "&= (I + N + ... + N^{r - 1}) - (N + N^2 + ... + N^r) \\\\\n",
    "&= I - N^r \\\\\n",
    "&= I - \\mathit{0} \\\\\n",
    "&= I\n",
    "\\end{aligned}\n",
    "$$\n",
    "\n",
    "and\n",
    "\n",
    "$$\n",
    "\\begin{aligned}\n",
    "(I + N + ... + N^{r - 1}) (I - N) &= (I + N + ... + N^{r - 1}) I - (I + N + ... + N^{r - 1}) N \\\\\n",
    "&= (I + N + ... + N^{r - 1}) - (N + N^2 + ... + N^r) \\\\\n",
    "&= I - N^r \\\\\n",
    "&= I - \\mathit{0} \\\\\n",
    "&= I\n",
    "\\end{aligned}\n",
    "$$\n",
    "\n",
    "\n",
    "Thus $I - N$ is invertible and $(I - N)^{-1} = I + N + ... + N^{r - 1}$. Q.E.D."
   ]
  },
  {
   "cell_type": "markdown",
   "metadata": {},
   "source": [
    "### (b) State and prove the analogous statement for linear maps of a vector space into itself.\n",
    "\n",
    "#### Statement\n",
    "\n",
    "Let $F: V \\to V$ be a linear map. We say $F$ is **nilpotent** if there exists some positive integer $r$ such that $F^r = \\mathit{0}$. Prove that if $F$ is nilpotent, then $\\operatorname{id} - F$ is invertible.\n",
    "\n",
    "##### Proof\n",
    "\n",
    "Since $F$ is nilpotent, there exists some positive integer $r$ such that\n",
    "\n",
    "$$\n",
    "F^r = \\mathit{0}\n",
    "$$\n",
    "\n",
    "And by [theorem 4.2 in chapter 3.4](./3_linear_mappings/3_4_composition_and_inverse_of_linear_mappings.ipynb#Theorem-4.2.-Algebraic-rules-for-linear-map-compositions) we have\n",
    "\n",
    "$$\n",
    "\\begin{aligned}\n",
    "(I - F) (I + F + F^2 + ... F^{r - 1}) &= I (I + F + F^2 + ... F^{r - 1}) - F (I + F + F^2 + ... F^{r - 1}) \\\\\n",
    "&= (I + F + F^2 + ... F^{r - 1}) - (F + F^2 + ... + F^r) \\\\\n",
    "&= I - F^r \\\\\n",
    "&= I - \\mathit{0} \\\\\n",
    "&= I\n",
    "\\end{aligned}\n",
    "$$\n",
    "\n",
    "and\n",
    "\n",
    "$$\n",
    "\\begin{aligned}\n",
    "(I + F + F^2 + ... F^{r - 1}) (I - F) &= (I + F + F^2 + ... F^{n - 1}) I - (I + F + F^2 + ... F^{r - 1}) F \\\\\n",
    "&= (I + F + F^2 + ... F^{n - 1}) - (F + F^2 + ... F^r) \\\\\n",
    "&= I - F^r \\\\\n",
    "&= I - \\mathit{0} \\\\\n",
    "&= I\n",
    "\\end{aligned}\n",
    "$$\n",
    "\n",
    "Q.E.D."
   ]
  },
  {
   "cell_type": "markdown",
   "metadata": {},
   "source": [
    "## 10. Let $P_n$ be the vector space of polynomials of degree $\\leq n$. Then the derivative $D: P_n \\to P_n$ is a linear map of $P_n$ into itself. Let I be the identity mapping. Prove that the following linear maps are invertible:"
   ]
  },
  {
   "cell_type": "markdown",
   "metadata": {},
   "source": [
    "### (a) $I - D^2$.\n",
    "\n",
    "#### Proof\n",
    "\n",
    "Since $P_n$ is the vector space of polynomial of degree $\\leq n$, we know that for any $p \\in P_n$, $D^{n + 1}(p) = 0$. Thus $D^{n + 1} = \\mathit{0}$.\n",
    "\n",
    "Then we have $(D^{n + 1})^2 = (D^2)^{n + 1} = \\mathit{0}$. Thus by definition $D^2$ is nilpotent.\n",
    "\n",
    "Then by [the conclusion of exercise 9](#9), $I - D^2$is invertible."
   ]
  },
  {
   "cell_type": "code",
   "execution_count": null,
   "metadata": {},
   "outputs": [],
   "source": []
  }
 ],
 "metadata": {
  "kernelspec": {
   "display_name": "Python 3",
   "language": "python",
   "name": "python3"
  },
  "language_info": {
   "codemirror_mode": {
    "name": "ipython",
    "version": 3
   },
   "file_extension": ".py",
   "mimetype": "text/x-python",
   "name": "python",
   "nbconvert_exporter": "python",
   "pygments_lexer": "ipython3",
   "version": "3.7.0"
  }
 },
 "nbformat": 4,
 "nbformat_minor": 2
}
