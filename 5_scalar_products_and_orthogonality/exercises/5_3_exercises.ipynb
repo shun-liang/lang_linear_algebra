{
 "cells": [
  {
   "cell_type": "markdown",
   "metadata": {},
   "source": [
    "## 2. Let $A, B$ be two matrices which can be multiplied. Show that $\\operatorname{rank} (AB) \\leq \\operatorname{rank} A$, and also $\\operatorname{rank} AB \\leq \\operatorname{rank} B$.\n",
    "\n",
    "### Proof\n",
    "\n",
    "Completed at [theorem 3.7 at the extra notes of elementary matrix operations and systems of linear equations](../../extra_notes/elementary_matrix_operations_and_systems_of_linear_equations.ipynb#Theorem-3.7.)."
   ]
  },
  {
   "cell_type": "markdown",
   "metadata": {},
   "source": [
    "## 3.\n",
    "\n",
    "Let $A$ be a triangular matrix\n",
    "\n",
    "$$\n",
    "\\begin{pmatrix}\n",
    "a_{1 1} & a_{1 2} & \\cdots & a_{1 n} \\\\\n",
    "0 & a_{2 2} & \\cdots & a_{2 n} \\\\\n",
    "\\vdots & \\vdots & \\ddots & \\vdots \\\\\n",
    "0 & 0 & \\cdots & a_{n n}\n",
    "\\end{pmatrix}\n",
    "$$\n",
    "\n",
    "Assume that none of the diagonal elements is equal to $0$. What is the $\\operatorname{rank} A$?\n",
    "\n",
    "### Solution\n",
    "\n",
    "As [a definition](../5_3_rank.ipynb#Definition:-Column-rank-and-row-rank) of column rank is the maximum number of linearly independent columns, then $\\operatorname{rank} A = n$."
   ]
  },
  {
   "cell_type": "markdown",
   "metadata": {},
   "source": [
    "## 4. Find the dimension of the space of solutions of the following systems of equations. Also find a basis for this space of solutions.\n",
    "\n",
    "### (a)"
   ]
  },
  {
   "cell_type": "code",
   "execution_count": null,
   "metadata": {},
   "outputs": [],
   "source": []
  }
 ],
 "metadata": {
  "kernelspec": {
   "display_name": "Python 3",
   "language": "python",
   "name": "python3"
  },
  "language_info": {
   "codemirror_mode": {
    "name": "ipython",
    "version": 3
   },
   "file_extension": ".py",
   "mimetype": "text/x-python",
   "name": "python",
   "nbconvert_exporter": "python",
   "pygments_lexer": "ipython3",
   "version": "3.7.0"
  }
 },
 "nbformat": 4,
 "nbformat_minor": 2
}
