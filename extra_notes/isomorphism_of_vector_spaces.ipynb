{
 "cells": [
  {
   "cell_type": "markdown",
   "metadata": {},
   "source": [
    "## The lack of definition in Lang's book\n",
    "\n",
    "Chapter 3.4 [defines what linear map is an isomorphism](../3_linear_mappings/3_4_composition_and_inverse_of_linear_mappings.ipynb#isomorphism).\n",
    "\n",
    "> A linear map $F: U \\to V$ which has an inverse $G: V \\to U$ (we also say invertible) is called an **isomorphism**.\n",
    "\n",
    "However, within this book the tern **isomorphism** has been used in occurrences as a property of a pair of vector spaces.\n",
    "\n",
    "For example in [exercise 16 of chapter 3.4](3_linear_mappings/exercise/3.4_exercises.ipynb#16.-Let-$V,-W$-be-two-vector-spaces-over-$K$,-of-finite-dimension-$n$.-Show-that-$V$-and-$W$-are-isomorphic.)\n",
    "\n",
    "> Let $V, W$ be two vector spaces over $K$, of finite dimension $n$. Show that $V$ and $W$ are isomorphic.\n",
    "\n",
    "And also, in [chapter 4.3](../4_linear_maps_and_matrices/4_3_bases_matrices_and_linear_maps.ipynb#Motivation)\n",
    "\n",
    "> ...if $v \\in V$, then we can express $v$ uniquely as a linear combination\n",
    ">\n",
    "> $$\n",
    "\\begin{aligned}\n",
    "v = x_1 v_1 + ... + x_n v_n && x_i \\in K\n",
    "\\end{aligned}\n",
    "$$\n",
    ">\n",
    "> Thus $V$ is isomorphic to $K^n$ under the map $K^n \\to V$ given by\n",
    ">\n",
    "> $$\n",
    "(x_1, ..., x_n) \\mapsto x_1 v_1 + ... + x_n v_n\n",
    "$$\n",
    "\n",
    "And there is no explicit definition of isomorphism as a property between two vector spaces in Lang's book.\n",
    "\n",
    "This note aims to fill this vacancy of definition by going through the class notes on isomorphism of [Math 130](https://mathcs.clarku.edu/~ma130/isomorphism.pdf) by Professors R. Broker and D. Joyce.\n"
   ]
  },
  {
   "cell_type": "markdown",
   "metadata": {},
   "source": [
    "## Injections, surjections, and bijections of functions between sets\n",
    "\n",
    "Recall the definitions of [injection / injective mapping](../3_linear_mappings/3_1_mappings.ipynb#Injective-mappings-(One-to-one)), [surjection / surjective mapping](../3_linear_mappings/3_1_mappings.ipynb#Surjective-mappings-(Onto)), and [bijection / bijective mapping](../3_linear_mappings/3_1_mappings.ipynb#Bijective-mappings).\n",
    "\n",
    "And recall that [a function is bijective $\\iff$ the function has an inverse](3_linear_mappings/3_1_mappings.ipynb#Bijection-and-inverse-existence)."
   ]
  },
  {
   "cell_type": "markdown",
   "metadata": {},
   "source": [
    "## Isomorphism of algebraic structures\n",
    "\n",
    "### Motivation\n",
    "\n",
    "There are a lot of algebraic structures. We have already studied two of them: Fields and Vector Spaces.\n",
    "\n",
    "We will say two algebraic structures $A$ and $B$ are isomorphic if they have exactly the same structure, but their elements may be different.\n",
    "\n",
    "For example, let $A$ be the vector space $R_{[x]}$ of polynomials in the variable of $x$, and let $B$ be the vector space $R_{[y]}$ of polynomials in $y$. They are both just polynomials in one variable, it's just the choice of variable is different in the two [rings](https://en.wikipedia.org/wiki/Ring_(mathematics)#Definition).\n",
    "\n",
    "### (Isomorphism of vector spaces)\n",
    "\n",
    "Let $V$ and $W$ be vector spaces over the same field $F$.\n",
    "\n",
    "We define $V$ and $W$ are **isomorphic** if there is a [linear](../3_linear_mappings/3_2_linear_mappings.ipynb#Definition:-Linear-Mappings) [bijective](../3_linear_mappings/3_1_mappings.ipynb#Bijective-mappings) mapping $T: V \\to W$.\n",
    "\n",
    "The correspondence $T$ is is called an isomorphism of vector spaces.\n",
    "\n",
    "When $T: V \\to W$ is an isomorphism, we’ll write $T: V \\xrightarrow{\\sim} W$ if we want to emphasize that it is an isomorphism. When $V$ and $W$ are isomorphic, but the specific isomorphism is not named, we’ll just write $V \\cong W$.\n",
    "\n",
    "Since the identity map $I_V: V \\xrightarrow{\\sim} V$ is bijective, it is an isomorphism.\n",
    "\n",
    "Since the structure of vector spaces is defined in terms of addition and scalar multiplication, if $T$ preserves them, it will preserve structure defined in terms of them. For instance, $T$ preserves $\\mathit{0}$, negation, subtraction, and linear maps."
   ]
  },
  {
   "cell_type": "markdown",
   "metadata": {},
   "source": [
    "## Theorem 2: An isomorphism is invertible, and its inverse is also an isomorphism\n",
    "\n",
    "If $T : V \\to W$ is an isomorphism of vector spaces, then its inverse $T^{−1}: W \\xrightarrow{\\sim} V$ is also an isomorphism.\n",
    "\n",
    "### Proof\n",
    "\n",
    "Since $T$ is an isomorphism, then $T$ is a linear bijective map. \n",
    "\n",
    "Since [$T$ is bijective if and only if it has an inverse mapping](../3_linear_mappings/3_1_mappings.ipynb#Bijection-and-inverse-existence), we know $T$ is invertible.\n",
    "\n",
    "Then by definition, $T^{-1}$ is also invertible. Then by [the same argument](../3_linear_mappings/3_1_mappings.ipynb#Bijection-and-inverse-existence)) we know $T^{-1}$ is bijective.\n",
    "\n",
    "Since $T$ is linear, by [theorem 4.3 in chapter 3.4](../3_linear_mappings/3_4_composition_and_inverse_of_linear_mappings.ipynb#Theorem-4.3.), we know $T^{-1}$ is linear.\n",
    "\n",
    "Thus $T^{-1}: W \\xrightarrow{\\sim} V$ is also an isomorphism. Q.E.D.\n",
    "\n",
    "Note: Now we have converged the definition of isomorphism in this note with [the definition in chapter 3.4](../3_linear_mappings/3_4_composition_and_inverse_of_linear_mappings.ipynb#isomorphism)."
   ]
  },
  {
   "cell_type": "markdown",
   "metadata": {},
   "source": [
    "## Theorem 3.\n",
    "\n",
    "If $S:V \\xrightarrow{\\sim} W$ and $T: W \\xrightarrow{\\sim} X$ are both isomorphisms of vector spaces, then so is their composition $(T \\circ S) : V \\xrightarrow{\\sim} X$.\n",
    "\n",
    "### Proof\n",
    "\n",
    "Since $S$ and $T$ are isomorphisms, we know $S$ and $T$ are bijective linear maps.\n",
    "\n",
    "Then by [theorem 4.1 in chapter 3.4](../3_linear_mappings/3_4_composition_and_inverse_of_linear_mappings.ipynb#Theorem-4.1:-Composition-of-two-linear-maps-is-also-a-linear-map), we know $(T \\circ S)$ is also a linear map.\n",
    "\n",
    "Then [we know $S$ and $T$ are invertible](../3_linear_mappings/3_1_mappings.ipynb#Bijection-and-inverse-existence).\n",
    "\n",
    "Then by the [conclusion of exercise 3.4 in chapter 3](../3_linear_mappings/exercise/3.4_exercises.ipynb#5.-Let-$F,-G$-be-invertible-linear-maps-of-a-vector-space-$V$-onto-itself.-Show-that), we know $(T \\circ S)$ is invertible. Then we know $(T \\circ S)$ is bijective.\n",
    "\n",
    "Then we have $(T \\circ S) : V \\xrightarrow{\\sim} X$. Q.E.D."
   ]
  },
  {
   "cell_type": "code",
   "execution_count": null,
   "metadata": {},
   "outputs": [],
   "source": []
  }
 ],
 "metadata": {
  "kernelspec": {
   "display_name": "Python 3",
   "language": "python",
   "name": "python3"
  },
  "language_info": {
   "codemirror_mode": {
    "name": "ipython",
    "version": 3
   },
   "file_extension": ".py",
   "mimetype": "text/x-python",
   "name": "python",
   "nbconvert_exporter": "python",
   "pygments_lexer": "ipython3",
   "version": "3.7.0"
  }
 },
 "nbformat": 4,
 "nbformat_minor": 2
}
